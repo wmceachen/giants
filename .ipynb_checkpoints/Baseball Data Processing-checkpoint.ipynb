{
 "cells": [
  {
   "cell_type": "code",
   "execution_count": 1,
   "metadata": {},
   "outputs": [
    {
     "name": "stderr",
     "output_type": "stream",
     "text": [
      "/Users/Grace/.pyenv/versions/3.7.7/lib/python3.7/site-packages/pandas/compat/__init__.py:117: UserWarning: Could not import the lzma module. Your installed Python is incomplete. Attempting to use lzma compression will result in a RuntimeError.\n",
      "  warnings.warn(msg)\n"
     ]
    }
   ],
   "source": [
    "import pandas as pd\n",
    "import numpy as np\n",
    "import math\n",
    "from sklearn.decomposition import PCA\n",
    "from sklearn.cross_decomposition import CCA\n",
    "from sklearn.linear_model import LinearRegression\n",
    "from sklearn.linear_model import Ridge"
   ]
  },
  {
   "cell_type": "code",
   "execution_count": 2,
   "metadata": {},
   "outputs": [],
   "source": [
    "dat = pd.read_csv(\"baseball_data.csv\")"
   ]
  },
  {
   "cell_type": "code",
   "execution_count": 3,
   "metadata": {},
   "outputs": [],
   "source": [
    "dat = dat.drop(columns = ['id', 'yearid','teamid','lgid','namefirst','namelast'])\n",
    "dat = dat[dat['salary'] > 0]"
   ]
  },
  {
   "cell_type": "code",
   "execution_count": 4,
   "metadata": {},
   "outputs": [],
   "source": [
    "positions = np.unique(dat['pos'])\n",
    "#for pos in positions:\n",
    "temp_array = np.array(dat['pos'])\n",
    "for position in positions:\n",
    "    indicator = np.zeros(len(dat['pos']))\n",
    "    for j in range(len(temp_array)):\n",
    "        if temp_array[j] == position:\n",
    "            indicator[j] = 1\n",
    "    #indicator = pd.Series(indicator, name = position)\n",
    "#     print(indicator)\n",
    "#     print(len(temp_array))\n",
    "    dat[position] = indicator\n",
    "\n",
    "dat = dat.drop(columns = ['pos', 'g_batting'])"
   ]
  },
  {
   "cell_type": "markdown",
   "metadata": {},
   "source": [
    "### PCA Handling"
   ]
  },
  {
   "cell_type": "code",
   "execution_count": 5,
   "metadata": {},
   "outputs": [],
   "source": [
    "y = np.array(dat['salary'])\n",
    "X = np.array(dat.drop(columns = ['salary']))\n",
    "#preds = np.exp(reg.predict(new_X))\n",
    "# print(pca.singular_values_)"
   ]
  },
  {
   "cell_type": "code",
   "execution_count": 6,
   "metadata": {},
   "outputs": [
    {
     "data": {
      "text/plain": [
       "27803.564656767845"
      ]
     },
     "execution_count": 6,
     "metadata": {},
     "output_type": "execute_result"
    }
   ],
   "source": [
    "# G.x, GS, Runs, AB, O1, OSS, O2, O3, 1B, C, years\n",
    "imp_POS = {'G.x':1000, 'GS':800, 'Runs':600, 'AB':500, 'O1':300, 'OSS':300, 'O2':250, 'O3':220, '1B':210, 'C':180, 'years':-10}\n",
    "coefs = np.zeros(51)\n",
    "for i in range(51):\n",
    "    if dat.columns[i] in imp_POS.keys():\n",
    "        coefs[i] = imp_POS[dat.columns[i]]\n",
    "    else:\n",
    "        coefs[i] = np.random.uniform(0,0.6)*100\n",
    "salary_pred = X @ coefs\n",
    "new_y = salary_pred + np.random.normal(0, 30000, len(salary_pred))\n",
    "reg = LinearRegression().fit(X, new_y)\n",
    "np.mean((reg.predict(X) - new_y)**2) ** 0.5\n"
   ]
  },
  {
   "cell_type": "code",
   "execution_count": 7,
   "metadata": {},
   "outputs": [
    {
     "data": {
      "text/plain": [
       "30386.71389037368"
      ]
     },
     "execution_count": 7,
     "metadata": {},
     "output_type": "execute_result"
    }
   ],
   "source": [
    "pca = PCA(n_components = 6)\n",
    "pca.fit(X)\n",
    "pca_X = pca.transform(X)\n",
    "reg = LinearRegression().fit(pca_X, new_y)\n",
    "np.mean((reg.predict(pca_X) - new_y)**2) ** 0.5"
   ]
  },
  {
   "cell_type": "code",
   "execution_count": 8,
   "metadata": {},
   "outputs": [],
   "source": [
    "u, s, vh = np.linalg.svd(X)\n",
    "s = np.roll(s, 1)"
   ]
  },
  {
   "cell_type": "code",
   "execution_count": 9,
   "metadata": {},
   "outputs": [
    {
     "data": {
      "text/plain": [
       "(370, 51)"
      ]
     },
     "execution_count": 9,
     "metadata": {},
     "output_type": "execute_result"
    }
   ],
   "source": [
    "np.array([np.zeros(51)] * (421-51)).shape"
   ]
  },
  {
   "cell_type": "code",
   "execution_count": 10,
   "metadata": {},
   "outputs": [
    {
     "data": {
      "text/plain": [
       "(421, 51)"
      ]
     },
     "execution_count": 10,
     "metadata": {},
     "output_type": "execute_result"
    }
   ],
   "source": [
    "s = np.vstack([np.diag(s), np.array([np.zeros(51)] * (421-51))])\n",
    "s.shape"
   ]
  },
  {
   "cell_type": "code",
   "execution_count": 11,
   "metadata": {},
   "outputs": [
    {
     "data": {
      "text/plain": [
       "array([[-3.46416226e+02, -3.26068727e+02, -8.90536912e+03, ...,\n",
       "         2.43703151e+00, -2.29710104e-01, -1.87783579e-01],\n",
       "       [ 2.23690737e+02,  2.15419777e+02,  5.81968022e+03, ...,\n",
       "        -4.94899159e-01,  9.44307385e-02,  2.06512434e-01],\n",
       "       [-7.74364712e+00, -7.84125042e+00, -2.11587590e+02, ...,\n",
       "        -2.60671770e-01,  2.60314207e-02, -4.19995410e-02],\n",
       "       ...,\n",
       "       [-2.33600560e+02, -2.11725402e+02, -5.65899889e+03, ...,\n",
       "        -8.86354001e-01, -9.20538336e-02, -3.61037550e-01],\n",
       "       [ 5.94228343e+01,  7.13625131e+01,  1.89915592e+03, ...,\n",
       "         3.95398072e-01,  3.65767539e-02,  3.88382833e-01],\n",
       "       [ 1.59553786e+02,  1.39273307e+02,  3.70344480e+03, ...,\n",
       "        -3.39787780e-01,  6.62360059e-02,  1.45600365e-01]])"
      ]
     },
     "execution_count": 11,
     "metadata": {},
     "output_type": "execute_result"
    }
   ],
   "source": [
    "new_X = u @ s @ vh\n",
    "new_X"
   ]
  },
  {
   "cell_type": "code",
   "execution_count": 12,
   "metadata": {},
   "outputs": [
    {
     "data": {
      "text/plain": [
       "77491.18626192342"
      ]
     },
     "execution_count": 12,
     "metadata": {},
     "output_type": "execute_result"
    }
   ],
   "source": [
    "pca = PCA(n_components=6)\n",
    "pca.fit(new_X)\n",
    "pca_X = pca.transform(new_X)\n",
    "reg = LinearRegression().fit(pca_X, new_y)\n",
    "np.mean((reg.predict(pca_X) - new_y)**2) ** 0.5"
   ]
  },
  {
   "cell_type": "markdown",
   "metadata": {},
   "source": [
    "### CCA"
   ]
  },
  {
   "cell_type": "code",
   "execution_count": 13,
   "metadata": {},
   "outputs": [
    {
     "name": "stderr",
     "output_type": "stream",
     "text": [
      "/Users/Grace/.pyenv/versions/3.7.7/lib/python3.7/site-packages/sklearn/cross_decomposition/_pls.py:323: UserWarning: Y residual constant at iteration 1\n",
      "  warnings.warn('Y residual constant at iteration %s' % k)\n"
     ]
    },
    {
     "data": {
      "text/plain": [
       "27803.56465676784"
      ]
     },
     "execution_count": 13,
     "metadata": {},
     "output_type": "execute_result"
    }
   ],
   "source": [
    "cca = CCA(n_components=6)\n",
    "cca.fit(new_X, new_y)\n",
    "cca_X = cca.transform(new_X)\n",
    "reg = LinearRegression().fit(cca_X, new_y)\n",
    "np.mean((reg.predict(cca_X) - new_y)**2) ** 0.5"
   ]
  },
  {
   "cell_type": "code",
   "execution_count": null,
   "metadata": {},
   "outputs": [],
   "source": []
  }
 ],
 "metadata": {
  "kernelspec": {
   "display_name": "Python 3",
   "language": "python",
   "name": "python3"
  },
  "language_info": {
   "codemirror_mode": {
    "name": "ipython",
    "version": 3
   },
   "file_extension": ".py",
   "mimetype": "text/x-python",
   "name": "python",
   "nbconvert_exporter": "python",
   "pygments_lexer": "ipython3",
   "version": "3.7.7"
  }
 },
 "nbformat": 4,
 "nbformat_minor": 4
}
