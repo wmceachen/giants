{
 "cells": [
  {
   "cell_type": "markdown",
   "metadata": {},
   "source": [
    "# Project T Final: PCA and CCA\n",
    "\n",
    "By Jai Bansal, Abhinav Gopal, Grace Kull, William McEachen, Shrey Vasavada"
   ]
  },
  {
   "cell_type": "code",
   "execution_count": 1,
   "metadata": {
    "scrolled": true
   },
   "outputs": [
    {
     "name": "stderr",
     "output_type": "stream",
     "text": [
      "/Users/Grace/.pyenv/versions/3.7.7/lib/python3.7/site-packages/pandas/compat/__init__.py:117: UserWarning: Could not import the lzma module. Your installed Python is incomplete. Attempting to use lzma compression will result in a RuntimeError.\n",
      "  warnings.warn(msg)\n"
     ]
    }
   ],
   "source": [
    "import pandas as pd\n",
    "import numpy as np\n",
    "import math\n",
    "import matplotlib.pyplot as plt\n",
    "from sklearn.decomposition import PCA\n",
    "from sklearn.cross_decomposition import CCA\n",
    "from sklearn.linear_model import LinearRegression\n",
    "from sklearn.linear_model import Ridge\n",
    "from sklearn.preprocessing import StandardScaler"
   ]
  },
  {
   "cell_type": "markdown",
   "metadata": {},
   "source": [
    "Run the cell below only once per session. The utils.py file contains some black box functions which will be used later in this assignment. "
   ]
  },
  {
   "cell_type": "code",
   "execution_count": 2,
   "metadata": {},
   "outputs": [
    {
     "name": "stdout",
     "output_type": "stream",
     "text": [
      "ln: utils.py: File exists\r\n"
     ]
    }
   ],
   "source": [
    "!ln -s ./utils.py utils.py"
   ]
  },
  {
   "cell_type": "code",
   "execution_count": 3,
   "metadata": {},
   "outputs": [],
   "source": [
    "import utils"
   ]
  },
  {
   "cell_type": "markdown",
   "metadata": {},
   "source": [
    "## Part 1: Initial Data Cleaning"
   ]
  },
  {
   "cell_type": "markdown",
   "metadata": {},
   "source": [
    "In this assignment, we will be looking at a real dataset of baseball players, using their game statistics to predict their salaries. Some of the information in this dataset about the players includes their names, ids, positions, years played, and their batting statistics. \n",
    "\n",
    "First, load the csv file to see all the information."
   ]
  },
  {
   "cell_type": "code",
   "execution_count": 4,
   "metadata": {},
   "outputs": [],
   "source": [
    "baseball = pd.read_csv(\"baseball_data.csv\")"
   ]
  },
  {
   "cell_type": "code",
   "execution_count": 5,
   "metadata": {},
   "outputs": [
    {
     "data": {
      "text/html": [
       "<div>\n",
       "<style scoped>\n",
       "    .dataframe tbody tr th:only-of-type {\n",
       "        vertical-align: middle;\n",
       "    }\n",
       "\n",
       "    .dataframe tbody tr th {\n",
       "        vertical-align: top;\n",
       "    }\n",
       "\n",
       "    .dataframe thead th {\n",
       "        text-align: right;\n",
       "    }\n",
       "</style>\n",
       "<table border=\"1\" class=\"dataframe\">\n",
       "  <thead>\n",
       "    <tr style=\"text-align: right;\">\n",
       "      <th></th>\n",
       "      <th>id</th>\n",
       "      <th>yearid</th>\n",
       "      <th>teamid</th>\n",
       "      <th>lgid</th>\n",
       "      <th>namefirst</th>\n",
       "      <th>namelast</th>\n",
       "      <th>salary</th>\n",
       "      <th>pos</th>\n",
       "      <th>g.x</th>\n",
       "      <th>gs</th>\n",
       "      <th>...</th>\n",
       "      <th>sh</th>\n",
       "      <th>sf</th>\n",
       "      <th>gidp</th>\n",
       "      <th>years</th>\n",
       "      <th>cab</th>\n",
       "      <th>ch</th>\n",
       "      <th>chr</th>\n",
       "      <th>cr</th>\n",
       "      <th>crbi</th>\n",
       "      <th>cbb</th>\n",
       "    </tr>\n",
       "  </thead>\n",
       "  <tbody>\n",
       "    <tr>\n",
       "      <th>0</th>\n",
       "      <td>abreubo01</td>\n",
       "      <td>2012.0</td>\n",
       "      <td>LAA</td>\n",
       "      <td>AL</td>\n",
       "      <td>Bobby</td>\n",
       "      <td>Abreu</td>\n",
       "      <td>9000000.0</td>\n",
       "      <td>OF</td>\n",
       "      <td>54</td>\n",
       "      <td>50</td>\n",
       "      <td>...</td>\n",
       "      <td>0</td>\n",
       "      <td>1</td>\n",
       "      <td>7</td>\n",
       "      <td>17</td>\n",
       "      <td>8347</td>\n",
       "      <td>2437</td>\n",
       "      <td>287</td>\n",
       "      <td>1441</td>\n",
       "      <td>1349</td>\n",
       "      <td>1456</td>\n",
       "    </tr>\n",
       "    <tr>\n",
       "      <th>1</th>\n",
       "      <td>abreuto01</td>\n",
       "      <td>NaN</td>\n",
       "      <td>NaN</td>\n",
       "      <td>NaN</td>\n",
       "      <td>NaN</td>\n",
       "      <td>NaN</td>\n",
       "      <td>NaN</td>\n",
       "      <td>23</td>\n",
       "      <td>21</td>\n",
       "      <td>17</td>\n",
       "      <td>...</td>\n",
       "      <td>0</td>\n",
       "      <td>1</td>\n",
       "      <td>1</td>\n",
       "      <td>4</td>\n",
       "      <td>437</td>\n",
       "      <td>110</td>\n",
       "      <td>4</td>\n",
       "      <td>40</td>\n",
       "      <td>46</td>\n",
       "      <td>16</td>\n",
       "    </tr>\n",
       "    <tr>\n",
       "      <th>2</th>\n",
       "      <td>ackledu01</td>\n",
       "      <td>2012.0</td>\n",
       "      <td>SEA</td>\n",
       "      <td>AL</td>\n",
       "      <td>Dustin</td>\n",
       "      <td>Ackley</td>\n",
       "      <td>2100000.0</td>\n",
       "      <td>12</td>\n",
       "      <td>153</td>\n",
       "      <td>147</td>\n",
       "      <td>...</td>\n",
       "      <td>1</td>\n",
       "      <td>1</td>\n",
       "      <td>3</td>\n",
       "      <td>2</td>\n",
       "      <td>940</td>\n",
       "      <td>228</td>\n",
       "      <td>18</td>\n",
       "      <td>123</td>\n",
       "      <td>86</td>\n",
       "      <td>99</td>\n",
       "    </tr>\n",
       "    <tr>\n",
       "      <th>3</th>\n",
       "      <td>adamsma01</td>\n",
       "      <td>NaN</td>\n",
       "      <td>NaN</td>\n",
       "      <td>NaN</td>\n",
       "      <td>NaN</td>\n",
       "      <td>NaN</td>\n",
       "      <td>NaN</td>\n",
       "      <td>1B</td>\n",
       "      <td>24</td>\n",
       "      <td>23</td>\n",
       "      <td>...</td>\n",
       "      <td>0</td>\n",
       "      <td>0</td>\n",
       "      <td>3</td>\n",
       "      <td>1</td>\n",
       "      <td>86</td>\n",
       "      <td>21</td>\n",
       "      <td>2</td>\n",
       "      <td>8</td>\n",
       "      <td>13</td>\n",
       "      <td>5</td>\n",
       "    </tr>\n",
       "    <tr>\n",
       "      <th>4</th>\n",
       "      <td>allenbr01</td>\n",
       "      <td>2012.0</td>\n",
       "      <td>OAK</td>\n",
       "      <td>AL</td>\n",
       "      <td>Brandon</td>\n",
       "      <td>Allen</td>\n",
       "      <td>482500.0</td>\n",
       "      <td>O1</td>\n",
       "      <td>6</td>\n",
       "      <td>5</td>\n",
       "      <td>...</td>\n",
       "      <td>0</td>\n",
       "      <td>0</td>\n",
       "      <td>0</td>\n",
       "      <td>4</td>\n",
       "      <td>344</td>\n",
       "      <td>70</td>\n",
       "      <td>12</td>\n",
       "      <td>44</td>\n",
       "      <td>41</td>\n",
       "      <td>42</td>\n",
       "    </tr>\n",
       "  </tbody>\n",
       "</table>\n",
       "<p>5 rows × 40 columns</p>\n",
       "</div>"
      ],
      "text/plain": [
       "          id  yearid teamid lgid namefirst namelast     salary pos  g.x   gs  \\\n",
       "0  abreubo01  2012.0    LAA   AL     Bobby    Abreu  9000000.0  OF   54   50   \n",
       "1  abreuto01     NaN    NaN  NaN       NaN      NaN        NaN  23   21   17   \n",
       "2  ackledu01  2012.0    SEA   AL    Dustin   Ackley  2100000.0  12  153  147   \n",
       "3  adamsma01     NaN    NaN  NaN       NaN      NaN        NaN  1B   24   23   \n",
       "4  allenbr01  2012.0    OAK   AL   Brandon    Allen   482500.0  O1    6    5   \n",
       "\n",
       "   ...  sh  sf  gidp  years   cab    ch  chr    cr  crbi   cbb  \n",
       "0  ...   0   1     7     17  8347  2437  287  1441  1349  1456  \n",
       "1  ...   0   1     1      4   437   110    4    40    46    16  \n",
       "2  ...   1   1     3      2   940   228   18   123    86    99  \n",
       "3  ...   0   0     3      1    86    21    2     8    13     5  \n",
       "4  ...   0   0     0      4   344    70   12    44    41    42  \n",
       "\n",
       "[5 rows x 40 columns]"
      ]
     },
     "execution_count": 5,
     "metadata": {},
     "output_type": "execute_result"
    }
   ],
   "source": [
    "baseball.head()"
   ]
  },
  {
   "cell_type": "markdown",
   "metadata": {},
   "source": [
    "From the initial obsevation of the data, it is clear that the types of data needed to predict salaries will be numerical or categorical. Additionally, rows with no salary information will have no use to us. So we'll start the data cleaning process by dropping columns that don't have categorical or numerical data, and dropping rows with no salary information. The columns being dropped are 'id', 'teamid', 'yearid', 'lgid','namefirst','namelast', and 'g_batting'."
   ]
  },
  {
   "cell_type": "code",
   "execution_count": 6,
   "metadata": {},
   "outputs": [],
   "source": [
    "data = baseball.drop(columns = ['id', 'teamid', 'yearid','lgid','namefirst','namelast', 'g_batting'])\n",
    "data = data[data['salary'] > 0]"
   ]
  },
  {
   "cell_type": "markdown",
   "metadata": {},
   "source": [
    "We will now start one-hot encoding our position data. Because there are several different positions, where each one can have an impact on a player's salary, it is important for us to take that data into account, even though it's not numerical. We will create a new column for each different kind of position and for each row, the value of that column will be 1 if the player is in that position, and 0 if the player is not. Fill out the cell below to implement one-hot encoding. Remember to drop the original 'pos' column from the dataset when the one-hot encoding is complete."
   ]
  },
  {
   "cell_type": "code",
   "execution_count": 7,
   "metadata": {},
   "outputs": [],
   "source": [
    "# One-hot encoding for each of the different positions\n",
    "#Pandas Solution\n",
    "# data_one_hot = data.merge(\n",
    "#     pd.get_dummies(data['pos']),\n",
    "#      how='inner', right_index=True, left_index = True\n",
    "#     ).T.drop_duplicates().T.rename(lambda c: str(c).rsplit('_x', 1)[0], axis='columns').drop('pos', axis=1)\n",
    "\n",
    "# Solution #\n",
    "positions = np.unique(data['pos'])\n",
    "temp_array = np.array(data['pos'])\n",
    "for position in positions:\n",
    "    indicator = np.zeros(len(data['pos']))\n",
    "    for j in range(len(temp_array)):\n",
    "        if temp_array[j] == position:\n",
    "            indicator[j] = 1\n",
    "    data[position] = indicator\n",
    "# End solution #\n",
    "\n",
    "data_one_hot = data.drop(columns = ['pos'])\n"
   ]
  },
  {
   "cell_type": "markdown",
   "metadata": {},
   "source": [
    "Finally, replace all NaN values with their column mean."
   ]
  },
  {
   "cell_type": "code",
   "execution_count": 8,
   "metadata": {},
   "outputs": [],
   "source": [
    "#Solution\n",
    "cleaned = data_one_hot.fillna(data_one_hot.mean())"
   ]
  },
  {
   "cell_type": "code",
   "execution_count": 23,
   "metadata": {
    "scrolled": false
   },
   "outputs": [
    {
     "data": {
      "text/html": [
       "<div>\n",
       "<style scoped>\n",
       "    .dataframe tbody tr th:only-of-type {\n",
       "        vertical-align: middle;\n",
       "    }\n",
       "\n",
       "    .dataframe tbody tr th {\n",
       "        vertical-align: top;\n",
       "    }\n",
       "\n",
       "    .dataframe thead th {\n",
       "        text-align: right;\n",
       "    }\n",
       "</style>\n",
       "<table border=\"1\" class=\"dataframe\">\n",
       "  <thead>\n",
       "    <tr style=\"text-align: right;\">\n",
       "      <th></th>\n",
       "      <th>salary</th>\n",
       "      <th>g.x</th>\n",
       "      <th>gs</th>\n",
       "      <th>innouts</th>\n",
       "      <th>po</th>\n",
       "      <th>a</th>\n",
       "      <th>e</th>\n",
       "      <th>dp</th>\n",
       "      <th>g.y</th>\n",
       "      <th>ab</th>\n",
       "      <th>...</th>\n",
       "      <th>C1</th>\n",
       "      <th>CF</th>\n",
       "      <th>LF</th>\n",
       "      <th>O1</th>\n",
       "      <th>O2</th>\n",
       "      <th>O3</th>\n",
       "      <th>OC</th>\n",
       "      <th>OF</th>\n",
       "      <th>RF</th>\n",
       "      <th>SS</th>\n",
       "    </tr>\n",
       "  </thead>\n",
       "  <tbody>\n",
       "    <tr>\n",
       "      <th>0</th>\n",
       "      <td>9000000.0</td>\n",
       "      <td>54</td>\n",
       "      <td>50</td>\n",
       "      <td>1133</td>\n",
       "      <td>70</td>\n",
       "      <td>2</td>\n",
       "      <td>1</td>\n",
       "      <td>1</td>\n",
       "      <td>100</td>\n",
       "      <td>219</td>\n",
       "      <td>...</td>\n",
       "      <td>0.0</td>\n",
       "      <td>0.0</td>\n",
       "      <td>0.0</td>\n",
       "      <td>0.0</td>\n",
       "      <td>0.0</td>\n",
       "      <td>0.0</td>\n",
       "      <td>0.0</td>\n",
       "      <td>1.0</td>\n",
       "      <td>0.0</td>\n",
       "      <td>0.0</td>\n",
       "    </tr>\n",
       "    <tr>\n",
       "      <th>2</th>\n",
       "      <td>2100000.0</td>\n",
       "      <td>153</td>\n",
       "      <td>147</td>\n",
       "      <td>3953</td>\n",
       "      <td>289</td>\n",
       "      <td>398</td>\n",
       "      <td>8</td>\n",
       "      <td>96</td>\n",
       "      <td>153</td>\n",
       "      <td>607</td>\n",
       "      <td>...</td>\n",
       "      <td>0.0</td>\n",
       "      <td>0.0</td>\n",
       "      <td>0.0</td>\n",
       "      <td>0.0</td>\n",
       "      <td>0.0</td>\n",
       "      <td>0.0</td>\n",
       "      <td>0.0</td>\n",
       "      <td>0.0</td>\n",
       "      <td>0.0</td>\n",
       "      <td>0.0</td>\n",
       "    </tr>\n",
       "    <tr>\n",
       "      <th>4</th>\n",
       "      <td>482500.0</td>\n",
       "      <td>6</td>\n",
       "      <td>5</td>\n",
       "      <td>129</td>\n",
       "      <td>29</td>\n",
       "      <td>2</td>\n",
       "      <td>0</td>\n",
       "      <td>1</td>\n",
       "      <td>10</td>\n",
       "      <td>20</td>\n",
       "      <td>...</td>\n",
       "      <td>0.0</td>\n",
       "      <td>0.0</td>\n",
       "      <td>0.0</td>\n",
       "      <td>1.0</td>\n",
       "      <td>0.0</td>\n",
       "      <td>0.0</td>\n",
       "      <td>0.0</td>\n",
       "      <td>0.0</td>\n",
       "      <td>0.0</td>\n",
       "      <td>0.0</td>\n",
       "    </tr>\n",
       "    <tr>\n",
       "      <th>5</th>\n",
       "      <td>1400000.0</td>\n",
       "      <td>149</td>\n",
       "      <td>144</td>\n",
       "      <td>3829</td>\n",
       "      <td>1269</td>\n",
       "      <td>96</td>\n",
       "      <td>12</td>\n",
       "      <td>77</td>\n",
       "      <td>155</td>\n",
       "      <td>549</td>\n",
       "      <td>...</td>\n",
       "      <td>0.0</td>\n",
       "      <td>0.0</td>\n",
       "      <td>0.0</td>\n",
       "      <td>0.0</td>\n",
       "      <td>0.0</td>\n",
       "      <td>0.0</td>\n",
       "      <td>0.0</td>\n",
       "      <td>0.0</td>\n",
       "      <td>0.0</td>\n",
       "      <td>0.0</td>\n",
       "    </tr>\n",
       "    <tr>\n",
       "      <th>6</th>\n",
       "      <td>483000.0</td>\n",
       "      <td>147</td>\n",
       "      <td>142</td>\n",
       "      <td>3680</td>\n",
       "      <td>257</td>\n",
       "      <td>410</td>\n",
       "      <td>11</td>\n",
       "      <td>83</td>\n",
       "      <td>147</td>\n",
       "      <td>576</td>\n",
       "      <td>...</td>\n",
       "      <td>0.0</td>\n",
       "      <td>0.0</td>\n",
       "      <td>0.0</td>\n",
       "      <td>0.0</td>\n",
       "      <td>0.0</td>\n",
       "      <td>0.0</td>\n",
       "      <td>0.0</td>\n",
       "      <td>0.0</td>\n",
       "      <td>0.0</td>\n",
       "      <td>0.0</td>\n",
       "    </tr>\n",
       "    <tr>\n",
       "      <th>7</th>\n",
       "      <td>2200000.0</td>\n",
       "      <td>145</td>\n",
       "      <td>143</td>\n",
       "      <td>3819</td>\n",
       "      <td>73</td>\n",
       "      <td>264</td>\n",
       "      <td>27</td>\n",
       "      <td>23</td>\n",
       "      <td>149</td>\n",
       "      <td>525</td>\n",
       "      <td>...</td>\n",
       "      <td>0.0</td>\n",
       "      <td>0.0</td>\n",
       "      <td>0.0</td>\n",
       "      <td>0.0</td>\n",
       "      <td>0.0</td>\n",
       "      <td>0.0</td>\n",
       "      <td>0.0</td>\n",
       "      <td>0.0</td>\n",
       "      <td>0.0</td>\n",
       "      <td>0.0</td>\n",
       "    </tr>\n",
       "    <tr>\n",
       "      <th>8</th>\n",
       "      <td>481000.0</td>\n",
       "      <td>107</td>\n",
       "      <td>64</td>\n",
       "      <td>1783</td>\n",
       "      <td>120</td>\n",
       "      <td>128</td>\n",
       "      <td>4</td>\n",
       "      <td>22</td>\n",
       "      <td>106</td>\n",
       "      <td>275</td>\n",
       "      <td>...</td>\n",
       "      <td>0.0</td>\n",
       "      <td>0.0</td>\n",
       "      <td>0.0</td>\n",
       "      <td>0.0</td>\n",
       "      <td>0.0</td>\n",
       "      <td>0.0</td>\n",
       "      <td>0.0</td>\n",
       "      <td>0.0</td>\n",
       "      <td>0.0</td>\n",
       "      <td>0.0</td>\n",
       "    </tr>\n",
       "    <tr>\n",
       "      <th>11</th>\n",
       "      <td>1300000.0</td>\n",
       "      <td>127</td>\n",
       "      <td>107</td>\n",
       "      <td>3036</td>\n",
       "      <td>195</td>\n",
       "      <td>306</td>\n",
       "      <td>13</td>\n",
       "      <td>71</td>\n",
       "      <td>127</td>\n",
       "      <td>384</td>\n",
       "      <td>...</td>\n",
       "      <td>0.0</td>\n",
       "      <td>0.0</td>\n",
       "      <td>0.0</td>\n",
       "      <td>0.0</td>\n",
       "      <td>0.0</td>\n",
       "      <td>0.0</td>\n",
       "      <td>0.0</td>\n",
       "      <td>0.0</td>\n",
       "      <td>0.0</td>\n",
       "      <td>0.0</td>\n",
       "    </tr>\n",
       "    <tr>\n",
       "      <th>12</th>\n",
       "      <td>2625000.0</td>\n",
       "      <td>153</td>\n",
       "      <td>150</td>\n",
       "      <td>3999</td>\n",
       "      <td>233</td>\n",
       "      <td>414</td>\n",
       "      <td>16</td>\n",
       "      <td>91</td>\n",
       "      <td>158</td>\n",
       "      <td>629</td>\n",
       "      <td>...</td>\n",
       "      <td>0.0</td>\n",
       "      <td>0.0</td>\n",
       "      <td>0.0</td>\n",
       "      <td>0.0</td>\n",
       "      <td>0.0</td>\n",
       "      <td>0.0</td>\n",
       "      <td>0.0</td>\n",
       "      <td>0.0</td>\n",
       "      <td>0.0</td>\n",
       "      <td>1.0</td>\n",
       "    </tr>\n",
       "    <tr>\n",
       "      <th>13</th>\n",
       "      <td>1250000.0</td>\n",
       "      <td>62</td>\n",
       "      <td>37</td>\n",
       "      <td>1146</td>\n",
       "      <td>115</td>\n",
       "      <td>2</td>\n",
       "      <td>2</td>\n",
       "      <td>0</td>\n",
       "      <td>68</td>\n",
       "      <td>158</td>\n",
       "      <td>...</td>\n",
       "      <td>0.0</td>\n",
       "      <td>1.0</td>\n",
       "      <td>0.0</td>\n",
       "      <td>0.0</td>\n",
       "      <td>0.0</td>\n",
       "      <td>0.0</td>\n",
       "      <td>0.0</td>\n",
       "      <td>0.0</td>\n",
       "      <td>0.0</td>\n",
       "      <td>0.0</td>\n",
       "    </tr>\n",
       "  </tbody>\n",
       "</table>\n",
       "<p>10 rows × 52 columns</p>\n",
       "</div>"
      ],
      "text/plain": [
       "       salary  g.x   gs  innouts    po    a   e  dp  g.y   ab  ...   C1   CF  \\\n",
       "0   9000000.0   54   50     1133    70    2   1   1  100  219  ...  0.0  0.0   \n",
       "2   2100000.0  153  147     3953   289  398   8  96  153  607  ...  0.0  0.0   \n",
       "4    482500.0    6    5      129    29    2   0   1   10   20  ...  0.0  0.0   \n",
       "5   1400000.0  149  144     3829  1269   96  12  77  155  549  ...  0.0  0.0   \n",
       "6    483000.0  147  142     3680   257  410  11  83  147  576  ...  0.0  0.0   \n",
       "7   2200000.0  145  143     3819    73  264  27  23  149  525  ...  0.0  0.0   \n",
       "8    481000.0  107   64     1783   120  128   4  22  106  275  ...  0.0  0.0   \n",
       "11  1300000.0  127  107     3036   195  306  13  71  127  384  ...  0.0  0.0   \n",
       "12  2625000.0  153  150     3999   233  414  16  91  158  629  ...  0.0  0.0   \n",
       "13  1250000.0   62   37     1146   115    2   2   0   68  158  ...  0.0  1.0   \n",
       "\n",
       "     LF   O1   O2   O3   OC   OF   RF   SS  \n",
       "0   0.0  0.0  0.0  0.0  0.0  1.0  0.0  0.0  \n",
       "2   0.0  0.0  0.0  0.0  0.0  0.0  0.0  0.0  \n",
       "4   0.0  1.0  0.0  0.0  0.0  0.0  0.0  0.0  \n",
       "5   0.0  0.0  0.0  0.0  0.0  0.0  0.0  0.0  \n",
       "6   0.0  0.0  0.0  0.0  0.0  0.0  0.0  0.0  \n",
       "7   0.0  0.0  0.0  0.0  0.0  0.0  0.0  0.0  \n",
       "8   0.0  0.0  0.0  0.0  0.0  0.0  0.0  0.0  \n",
       "11  0.0  0.0  0.0  0.0  0.0  0.0  0.0  0.0  \n",
       "12  0.0  0.0  0.0  0.0  0.0  0.0  0.0  1.0  \n",
       "13  0.0  0.0  0.0  0.0  0.0  0.0  0.0  0.0  \n",
       "\n",
       "[10 rows x 52 columns]"
      ]
     },
     "execution_count": 23,
     "metadata": {},
     "output_type": "execute_result"
    }
   ],
   "source": [
    "# Cleaned data from one-hot encoding the positions. \n",
    "cleaned.head(10)"
   ]
  },
  {
   "cell_type": "markdown",
   "metadata": {},
   "source": [
    "## Part 2: Linear Regression, PCA and CCA Observations"
   ]
  },
  {
   "cell_type": "markdown",
   "metadata": {},
   "source": [
    "Now that the data is cleaned, we can explore different techniques that can be used to predict the different salaries. We will also examine how well each technique performs in salary prediction, and intuition behind each technique.\n",
    "\n",
    "First, we split the data into the set of features and the value that is being predicted, which are the salaries. "
   ]
  },
  {
   "cell_type": "code",
   "execution_count": 10,
   "metadata": {},
   "outputs": [],
   "source": [
    "X, y = cleaned.drop(columns=['salary'], axis=1), cleaned['salary']"
   ]
  },
  {
   "cell_type": "markdown",
   "metadata": {},
   "source": [
    "### 2a. Linear Regression"
   ]
  },
  {
   "cell_type": "markdown",
   "metadata": {},
   "source": [
    "Linear regression is one of the easiest methods to make a predictive model. \\\n",
    "It is a linear method that models the relationship between one or more features (independent variables)\n",
    "and an outcome variable (dependent variable). Least squares is a common method within linear regression \n",
    "that finds the feature weights that will lead to the best-fit linear regression model. The formula for\n",
    "Least Squares is $y = \\mathbf{X}w$, where $y$ is our outcome, $\\mathbf{X}$ is our set of features, and \n",
    "$w$ is the weight for each feature. The weights can be calculated using the formula \n",
    "$\\textbf{w} = (\\mathbf{X}^{T}\\mathbf{X})^{-1}\\mathbf{X}^{T}y$. \n",
    "\n",
    "Fill out the cell below to implement the least squares function. You may not use sklearn or NumPy's \n",
    "built-in function for this."
   ]
  },
  {
   "cell_type": "code",
   "execution_count": 11,
   "metadata": {},
   "outputs": [],
   "source": [
    "def least_squares(features, prediction):\n",
    "    # YOUR CODE HERE #\n",
    "    # Solution #\n",
    "    return np.linalg.inv(features.T @ features) @ features.T @ prediction\n",
    "    # End solution #"
   ]
  },
  {
   "cell_type": "markdown",
   "metadata": {},
   "source": [
    "Now run your <code>least_squares</code> function on the data above, and calculate the MSE for the data. Hint: use <code>np.matrix</code>"
   ]
  },
  {
   "cell_type": "code",
   "execution_count": 12,
   "metadata": {},
   "outputs": [
    {
     "data": {
      "text/plain": [
       "2699272.5784772914"
      ]
     },
     "execution_count": 12,
     "metadata": {},
     "output_type": "execute_result"
    }
   ],
   "source": [
    "weights = least_squares(X, y)\n",
    "# Solution #\n",
    "mse_linear_reg = np.mean((y - np.matrix(X)@weights)**2) ** 0.5\n",
    "# End solution #\n",
    "mse_linear_reg"
   ]
  },
  {
   "cell_type": "markdown",
   "metadata": {},
   "source": [
    "We will now explore some methods to see how they affect the MSE, starting with PCA below."
   ]
  },
  {
   "cell_type": "markdown",
   "metadata": {},
   "source": [
    "### 2b. Singular Value Decomposition (SVD)"
   ]
  },
  {
   "cell_type": "markdown",
   "metadata": {},
   "source": [
    "First, fill out the following cell to plot the singular values of the cleaned dataset. Hint: <code>np.linalg.eig</code> might be useful"
   ]
  },
  {
   "cell_type": "code",
   "execution_count": 61,
   "metadata": {},
   "outputs": [
    {
     "data": {
      "text/plain": [
       "Text(0, 0.5, 'Magnitude')"
      ]
     },
     "execution_count": 61,
     "metadata": {},
     "output_type": "execute_result"
    },
    {
     "data": {
      "image/png": "[encoded data removed]",
      "text/plain": [
       "<Figure size 720x432 with 1 Axes>"
      ]
     },
     "metadata": {
      "needs_background": "light"
     },
     "output_type": "display_data"
    }
   ],
   "source": [
    "# Solution #\n",
    "singular_values, vectors = np.linalg.eig(cleaned.T@cleaned)\n",
    "x_labels = range(len(singular_values))\n",
    "# End solution #\n",
    "# The y axis is on a log scale to better see the difference in sizes between the eigenvalues\n",
    "plt.figure(figsize=[10, 6])\n",
    "plt.yscale(\"log\")\n",
    "plt.scatter(x_labels, singular_values)\n",
    "plt.title(\"Singular values of the cleaned dataset\")\n",
    "plt.xlabel(\"Singular value index\")\n",
    "plt.ylabel(\"Magnitude\")"
   ]
  },
  {
   "cell_type": "markdown",
   "metadata": {},
   "source": [
    "Now fill out the following cell to implement <code>svd_manual</code>. You may not use <code>np.linalg.svd</code>"
   ]
  },
  {
   "cell_type": "code",
   "execution_count": 96,
   "metadata": {},
   "outputs": [],
   "source": [
    "# Helper function that returns the matrix with singular values on the diagonal and zeros elsewhere\n",
    "def get_diag(rows, cols, values):\n",
    "    mat = np.zeros((rows, cols))\n",
    "    index = 0\n",
    "    for i in values:\n",
    "        mat[index][index] = i\n",
    "        index += 1\n",
    "    return mat\n",
    "\n",
    "# Computes the SVD of matrix X\n",
    "def svd_manual(X):\n",
    "    # Solution #\n",
    "    X_trans_X = X.T@X\n",
    "    X_X_trans = X@X.T\n",
    "    V = np.linalg.eig(X_X_trans)[1]\n",
    "    singular_values, U = np.linalg.eig(X_trans_X)\n",
    "    D = get_diag(len(U), len(V), singular_values)\n",
    "    # End Solution #\n",
    "    # If the number of rows is greater than the number of columns, transpose the matrices before returning #\n",
    "    if (len(X) > len(X[0])):\n",
    "        U, D, V = V.T, D.T, U.T\n",
    "    return U, D, V\n",
    "\n",
    "u, d, v = svd_manual(np.array(X))"
   ]
  },
  {
   "cell_type": "markdown",
   "metadata": {},
   "source": [
    "Now we will see what happens when only the first $k$ singular values are used to approximate the original matrix. As seen in the plot above, the magnitude of the singualr levels off after only a few of them. As a result, the approximation of the original matrix of only a few singular values may not be far off from an approximation using most of the singular values. In fact, when approximating a matrix A with a rank-k matrix $A_k$, the Eckart–Young–Mirsky theorem states that for a matrix $A = UDV^T$ with rank r, for any integer k, where $0<=k<=r$, the best rank-k approximation of $A$ is $A_k = \\sum_{i=1}^{k} \\sigma_i u_i v_i^T$, where $u_i$ and $v_i$ denote the $i$th columns of $\\textbf{U}$ and $\\textbf{V}$, respectively. \n",
    "\n",
    "Fill out the cell below to implement <code>svd_k_approx</code>. You may use <code>np.linalg.svd</code> in your solution."
   ]
  },
  {
   "cell_type": "code",
   "execution_count": 132,
   "metadata": {},
   "outputs": [],
   "source": [
    "# Returns the best rank-k approximation of X\n",
    "def svd_k_approx(X, k):\n",
    "    # if the rank of X is less than or equal to k, return X\n",
    "    if np.linalg.matrix_rank(X) <= k:\n",
    "        return X\n",
    "    else:\n",
    "        # Solution #\n",
    "        U, D, V = np.linalg.svd(X)\n",
    "        diag = get_diag(k, k, D[:k])\n",
    "        k_approx = U[:, :k]@diag@V[:k, :]\n",
    "        return k_approx\n",
    "        # End Solution #"
   ]
  },
  {
   "cell_type": "markdown",
   "metadata": {},
   "source": [
    "Now run your <code>least_squares</code> function from part 2a on rank 2, 5, and 10 approximations of the cleaned dataset."
   ]
  },
  {
   "cell_type": "code",
   "execution_count": 133,
   "metadata": {},
   "outputs": [
    {
     "data": {
      "text/plain": [
       "1277404403.9429624"
      ]
     },
     "execution_count": 133,
     "metadata": {},
     "output_type": "execute_result"
    }
   ],
   "source": [
    "weights_2 = least_squares(svd_k_approx(X, 2), y)\n",
    "mse_rank_2 = np.mean((y - X@weights_2)**2) ** 0.5\n",
    "mse_rank_2"
   ]
  },
  {
   "cell_type": "code",
   "execution_count": 134,
   "metadata": {},
   "outputs": [
    {
     "data": {
      "text/plain": [
       "1255303511.9349768"
      ]
     },
     "execution_count": 134,
     "metadata": {},
     "output_type": "execute_result"
    }
   ],
   "source": [
    "weights_5 = least_squares(svd_k_approx(X, 5), y)\n",
    "mse_rank_5 = np.mean((y - X@weights_5)**2) ** 0.5\n",
    "mse_rank_5"
   ]
  },
  {
   "cell_type": "code",
   "execution_count": 135,
   "metadata": {},
   "outputs": [
    {
     "data": {
      "text/plain": [
       "1287023377.4337676"
      ]
     },
     "execution_count": 135,
     "metadata": {},
     "output_type": "execute_result"
    }
   ],
   "source": [
    "weights_10 = least_squares(svd_k_approx(X, 10), y)\n",
    "mse_rank_10 = np.mean((y - X@weights_10)**2) ** 0.5\n",
    "mse_rank_10"
   ]
  },
  {
   "cell_type": "markdown",
   "metadata": {},
   "source": [
    "What happens to the MSE as the rank increases?"
   ]
  },
  {
   "cell_type": "markdown",
   "metadata": {},
   "source": [
    "ANSWER HERE"
   ]
  },
  {
   "cell_type": "markdown",
   "metadata": {},
   "source": [
    "### 2c. Principal Component Analysis (PCA)"
   ]
  },
  {
   "cell_type": "markdown",
   "metadata": {},
   "source": [
    "Principal Component Analysis (PCA) is a method that makes use of the \"orthogonal directions\" that have the most influence on a dataset. It is useful because often only a few components are needed in order to make accurate predictions while components with less weight are barely influential.\n",
    "\n",
    "To implement PCA, it it important to first scale the features, in order for certain features to not overpower other features. Next, the mean vector is calculated using the formula $\\textbf{m} =\\frac{1}{n}\\sum_{i=1}^{n} x_i$. Next, calculate the scatter matrix, which is $S = \\sum_{i=1}^{n} (x_i - \\textbf{m})(x_i - \\textbf{m})^T$. Then find the eigenvalues and vectors of the scatter matrix, take the first num_components of the eigenvectors, and calculate the projection matrix using those eigenvectors and the scaled matrix. Finally, perform linear regression with the projection matrix.\n",
    "\n",
    "Fill out the cell below to calculate the MSE for linear regresion with `num_components` features. You may only use <code>numpy</code> and not <code>PCA</code> or <code>LinearRegression</code> in this part of your solution."
   ]
  },
  {
   "cell_type": "code",
   "execution_count": 13,
   "metadata": {},
   "outputs": [],
   "source": [
    "def pca(features, preds, num_components):\n",
    "    # First, the features are scaled since no feature is more important \n",
    "    scaled = StandardScaler().fit_transform(features)\n",
    "    mean_vector = np.zeros(51)\n",
    "    \n",
    "    # YOUR CODE HERE #\n",
    "    # Solution#\n",
    "    for i in range(len(features.iloc[0, :])):\n",
    "        mean_vector[i] = np.mean(features.iloc[:, i])\n",
    "    scatter_matrix = np.zeros((51, 51))\n",
    "    for i in range(features.shape[1]):\n",
    "        scatter_matrix += (scaled[i] - mean_vector)@((scaled[i] - mean_vector).T)\n",
    "    cov_matrix = np.cov(scaled)\n",
    "    eigenvalues, eigenvectors = np.linalg.eig(scatter_matrix)\n",
    "    \n",
    "    # This line is included to account for slight complex values being included in the scatter matrix calculations\n",
    "    eigenvectors = eigenvectors.real\n",
    "    \n",
    "    proj_matrix = eigenvectors.T[0:num_components]\n",
    "    proj_data = scaled@proj_matrix.T\n",
    "    reg = LinearRegression().fit(proj_data, preds)\n",
    "    mse = np.mean((reg.predict(proj_data) - preds)**2) ** 0.5\n",
    "    return mse\n",
    "    # End Solution #"
   ]
  },
  {
   "cell_type": "markdown",
   "metadata": {},
   "source": [
    "Fill out the following cells below to find the MSE using PCA with linear regression for 2, 5, and 8 components."
   ]
  },
  {
   "cell_type": "code",
   "execution_count": 14,
   "metadata": {},
   "outputs": [
    {
     "data": {
      "text/plain": [
       "3654226.6699677957"
      ]
     },
     "execution_count": 14,
     "metadata": {},
     "output_type": "execute_result"
    }
   ],
   "source": [
    "pca(X, y, 2)"
   ]
  },
  {
   "cell_type": "code",
   "execution_count": 15,
   "metadata": {},
   "outputs": [
    {
     "data": {
      "text/plain": [
       "3610108.431577425"
      ]
     },
     "execution_count": 15,
     "metadata": {},
     "output_type": "execute_result"
    }
   ],
   "source": [
    "pca(X, y, 5)"
   ]
  },
  {
   "cell_type": "code",
   "execution_count": 16,
   "metadata": {
    "scrolled": false
   },
   "outputs": [
    {
     "data": {
      "text/plain": [
       "3587433.017884171"
      ]
     },
     "execution_count": 16,
     "metadata": {},
     "output_type": "execute_result"
    }
   ],
   "source": [
    "pca(X, y, 8)"
   ]
  },
  {
   "cell_type": "markdown",
   "metadata": {},
   "source": [
    "What number of components had the smallest MSE? Does increasing the number of components lower the MSE, or does it increase after a certain amount of components? Will PCA ever produce a MSE lower that that of using linear regression alone?"
   ]
  },
  {
   "cell_type": "markdown",
   "metadata": {},
   "source": [
    "ANSWER HERE"
   ]
  },
  {
   "cell_type": "markdown",
   "metadata": {},
   "source": [
    "Now use the <code>PCA</code> and `LinearRegression()` modules from <code>sklearn</code> to check your implementation of PCA. First, we'll write a function to calculate MSE from an OLS model with `num_components` number of features."
   ]
  },
  {
   "cell_type": "code",
   "execution_count": 17,
   "metadata": {},
   "outputs": [],
   "source": [
    "def sklearn_PCA(features, preds, num_components):\n",
    "    # SOLUTION\n",
    "    pca = PCA(n_components=num_components)\n",
    "    pca.fit(features, preds)\n",
    "    pca_X = pca.transform(features)\n",
    "    reg = LinearRegression().fit(pca_X, preds)\n",
    "    return np.mean((reg.predict(pca_X) - preds)**2) ** 0.5"
   ]
  },
  {
   "cell_type": "markdown",
   "metadata": {},
   "source": [
    "In the following 3 cells, run this function with 2, 5, and 8 features."
   ]
  },
  {
   "cell_type": "code",
   "execution_count": 18,
   "metadata": {},
   "outputs": [
    {
     "data": {
      "text/plain": [
       "3504538.537484557"
      ]
     },
     "execution_count": 18,
     "metadata": {},
     "output_type": "execute_result"
    }
   ],
   "source": [
    "sklearn_PCA(X, y, 2)"
   ]
  },
  {
   "cell_type": "code",
   "execution_count": 19,
   "metadata": {},
   "outputs": [
    {
     "data": {
      "text/plain": [
       "3339477.135289231"
      ]
     },
     "execution_count": 19,
     "metadata": {},
     "output_type": "execute_result"
    }
   ],
   "source": [
    "sklearn_PCA(X, y, 5)"
   ]
  },
  {
   "cell_type": "code",
   "execution_count": 20,
   "metadata": {},
   "outputs": [
    {
     "data": {
      "text/plain": [
       "3095173.409120575"
      ]
     },
     "execution_count": 20,
     "metadata": {},
     "output_type": "execute_result"
    }
   ],
   "source": [
    "sklearn_PCA(X, y, 8)"
   ]
  },
  {
   "cell_type": "markdown",
   "metadata": {},
   "source": [
    "Now, try to graph the number of components, versus the MSE, for PCA."
   ]
  },
  {
   "cell_type": "code",
   "execution_count": 27,
   "metadata": {},
   "outputs": [
    {
     "data": {
      "text/plain": [
       "Text(0.5, 1.0, 'Number of PCA components vs. MSE')"
      ]
     },
     "execution_count": 27,
     "metadata": {},
     "output_type": "execute_result"
    },
    {
     "data": {
      "image/png": "[encoded data removed]",
      "text/plain": [
       "<Figure size 432x288 with 1 Axes>"
      ]
     },
     "metadata": {
      "needs_background": "light"
     },
     "output_type": "display_data"
    }
   ],
   "source": [
    "X_plot = [i for i in range(1, X.shape[1])]\n",
    "Y_plot = []\n",
    "for i in X_plot:\n",
    "    pca_i = PCA(n_components=i)\n",
    "    pca_i.fit(X, y)\n",
    "    pca_i_X = pca_i.transform(X)\n",
    "    reg_i = LinearRegression().fit(pca_i_X, y)\n",
    "    Y_plot.append(np.mean((reg_i.predict(pca_i_X) - y)**2) ** 0.5)\n",
    "plt.plot(X_plot, Y_plot)\n",
    "plt.xlabel(\"Number of components\")\n",
    "plt.ylabel(\"MSE\")\n",
    "plt.title(\"Number of PCA components vs. MSE\")\n",
    "    \n",
    "# interact(plot, n_components=IntSlider(min=0, max=X.shape[1], continuous_update=False))"
   ]
  },
  {
   "cell_type": "markdown",
   "metadata": {},
   "source": [
    "Fill out the cell below with your observations:"
   ]
  },
  {
   "cell_type": "code",
   "execution_count": 254,
   "metadata": {},
   "outputs": [],
   "source": [
    "# Fill out this cell with observations #"
   ]
  },
  {
   "cell_type": "markdown",
   "metadata": {},
   "source": [
    "### 2d. Canonical Correlation Analysis (CCA)"
   ]
  },
  {
   "cell_type": "markdown",
   "metadata": {},
   "source": [
    "From the previous part, we saw that PCA is an unsupervised algorithm because it does not rely on feature labels, but rather focuses on the directions with the greatest variance in the feature matrix. However, there are some situations where the most relevant dimensions are not those with the greatest variance. For example, if the feature data was contaminated with a strong, correlated noise signal, PCA would actually throw away those dimensions with this strong noise variation, the opposite of our desired outcome. In this case, we prefer to approach dimensionality reduction in a way that takes advantage of paired, i.e labeled $(X, y)$ data. This is where CCA comes into play.\n",
    "\n",
    "Fill out the cells below using CCA along with linear regression to find the MSE of 2, 5, and 8 components. How does CCA perform compared to PCA with the same number of components? How does increasing the number of componetns affect the MSE? In general, CCA performs closely to linear regression. Why is that?\n"
   ]
  },
  {
   "cell_type": "code",
   "execution_count": 278,
   "metadata": {},
   "outputs": [
    {
     "name": "stderr",
     "output_type": "stream",
     "text": [
      "/home/william/anaconda3/envs/personal/lib/python3.8/site-packages/sklearn/cross_decomposition/_pls.py:323: UserWarning: Y residual constant at iteration 1\n",
      "  warnings.warn('Y residual constant at iteration %s' % k)\n"
     ]
    },
    {
     "data": {
      "text/plain": [
       "2699272.5784772914"
      ]
     },
     "execution_count": 278,
     "metadata": {},
     "output_type": "execute_result"
    }
   ],
   "source": [
    "# CCA with 2 components #\n",
    "# YOUR CODE HERE #\n",
    "\n",
    "# Solution #\n",
    "cca2 = CCA(n_components=2)\n",
    "cca2.fit(X, y)\n",
    "cca2_X = cca2.transform(X)\n",
    "reg2 = LinearRegression().fit(cca2_X, y)\n",
    "mse2 = np.mean((reg2.predict(cca2_X) - y)**2) ** 0.5\n",
    "mse2\n",
    "# End solution #"
   ]
  },
  {
   "cell_type": "code",
   "execution_count": 279,
   "metadata": {},
   "outputs": [
    {
     "name": "stderr",
     "output_type": "stream",
     "text": [
      "/home/william/anaconda3/envs/personal/lib/python3.8/site-packages/sklearn/cross_decomposition/_pls.py:323: UserWarning: Y residual constant at iteration 1\n",
      "  warnings.warn('Y residual constant at iteration %s' % k)\n"
     ]
    },
    {
     "data": {
      "text/plain": [
       "2699272.5784772914"
      ]
     },
     "execution_count": 279,
     "metadata": {},
     "output_type": "execute_result"
    }
   ],
   "source": [
    "# CCA with 5 components #\n",
    "# YOUR CODE HERE #\n",
    "\n",
    "# Solution #\n",
    "cca5 = CCA(n_components=5)\n",
    "cca5.fit(X, y)\n",
    "cca5_X = cca5.transform(X)\n",
    "reg5 = LinearRegression().fit(cca5_X, y)\n",
    "mse5 = np.mean((reg5.predict(cca5_X) - y)**2) ** 0.5\n",
    "mse5\n",
    "# End solution #"
   ]
  },
  {
   "cell_type": "code",
   "execution_count": 280,
   "metadata": {},
   "outputs": [
    {
     "name": "stderr",
     "output_type": "stream",
     "text": [
      "/home/william/anaconda3/envs/personal/lib/python3.8/site-packages/sklearn/cross_decomposition/_pls.py:323: UserWarning: Y residual constant at iteration 1\n",
      "  warnings.warn('Y residual constant at iteration %s' % k)\n"
     ]
    },
    {
     "data": {
      "text/plain": [
       "2699272.5784772914"
      ]
     },
     "execution_count": 280,
     "metadata": {},
     "output_type": "execute_result"
    }
   ],
   "source": [
    "# CCA with 8 components #\n",
    "# YOUR CODE HERE #\n",
    "\n",
    "# Solution #\n",
    "cca8 = CCA(n_components=8)\n",
    "cca8.fit(X, y)\n",
    "cca8_X = cca5.transform(X)\n",
    "reg8 = LinearRegression().fit(cca8_X, y)\n",
    "mse8 = np.mean((reg8.predict(cca8_X) - y)**2) ** 0.5\n",
    "mse8\n",
    "# End solution #"
   ]
  },
  {
   "cell_type": "markdown",
   "metadata": {},
   "source": [
    "Fill out the cell below with your observations:"
   ]
  },
  {
   "cell_type": "code",
   "execution_count": 86,
   "metadata": {},
   "outputs": [],
   "source": [
    "# Fill out this cell with observations #"
   ]
  },
  {
   "cell_type": "markdown",
   "metadata": {},
   "source": [
    "## Part 3: Noisy Data"
   ]
  },
  {
   "cell_type": "markdown",
   "metadata": {},
   "source": [
    "In the previous part, we saw observations from Linear Regression, PCA, and CCA on a dataset that has not been affected by noise. We will now observe what happens when our salary column has noise added to it, and how the accuracy of our predictions are affected by it."
   ]
  },
  {
   "cell_type": "markdown",
   "metadata": {},
   "source": [
    "First, run the cell below to generate noised predictions. The <code>utils.noised_predictions</code> is a black box function that will randomly add noise to our salary column using a random Gaussian."
   ]
  },
  {
   "cell_type": "code",
   "execution_count": 146,
   "metadata": {},
   "outputs": [
    {
     "data": {
      "text/plain": [
       "0      8.998205e+06\n",
       "2      2.106635e+06\n",
       "4      4.744029e+05\n",
       "5      1.370400e+06\n",
       "6      4.806524e+05\n",
       "           ...     \n",
       "621    6.782441e+06\n",
       "622    5.301801e+05\n",
       "624    1.623634e+07\n",
       "625    1.199633e+07\n",
       "626    4.651153e+06\n",
       "Name: salary, Length: 421, dtype: float64"
      ]
     },
     "execution_count": 146,
     "metadata": {},
     "output_type": "execute_result"
    }
   ],
   "source": [
    "y_noise = utils.noised_predictions(cleaned)\n",
    "y_noise"
   ]
  },
  {
   "cell_type": "markdown",
   "metadata": {},
   "source": [
    "### 3a. Noisy PCA"
   ]
  },
  {
   "cell_type": "markdown",
   "metadata": {},
   "source": [
    "Use `sklearn_PCA` with your noisy predictions and 2, 5, and 8 of the features from the original dataset. How does adding noise to the salary column change the MSE?"
   ]
  },
  {
   "cell_type": "code",
   "execution_count": 288,
   "metadata": {},
   "outputs": [
    {
     "data": {
      "text/plain": [
       "3503556.872572767"
      ]
     },
     "execution_count": 288,
     "metadata": {},
     "output_type": "execute_result"
    }
   ],
   "source": [
    "# PCA with 2 components #\n",
    "# YOUR CODE HERE #\n",
    "\n",
    "# Solution #\n",
    "sklearn_PCA(X, y_noise, 2)\n",
    "# End solution #"
   ]
  },
  {
   "cell_type": "code",
   "execution_count": 289,
   "metadata": {},
   "outputs": [
    {
     "data": {
      "text/plain": [
       "3338913.37512543"
      ]
     },
     "execution_count": 289,
     "metadata": {},
     "output_type": "execute_result"
    }
   ],
   "source": [
    "# PCA with 5 components #\n",
    "# YOUR CODE HERE #\n",
    "\n",
    "# Solution #\n",
    "sklearn_PCA(X, y_noise, 5)\n",
    "# End solution #"
   ]
  },
  {
   "cell_type": "code",
   "execution_count": 290,
   "metadata": {},
   "outputs": [
    {
     "data": {
      "text/plain": [
       "3094444.62629387"
      ]
     },
     "execution_count": 290,
     "metadata": {},
     "output_type": "execute_result"
    }
   ],
   "source": [
    "# PCA with 8 components #\n",
    "# YOUR CODE HERE #\n",
    "\n",
    "# Solution #\n",
    "sklearn_PCA(X, y_noise, 8)\n",
    "# End solution #"
   ]
  },
  {
   "cell_type": "markdown",
   "metadata": {},
   "source": [
    "Fill out the cell below with your observations:"
   ]
  },
  {
   "cell_type": "code",
   "execution_count": 91,
   "metadata": {},
   "outputs": [],
   "source": [
    "# Fill out this cell with observations #"
   ]
  },
  {
   "cell_type": "markdown",
   "metadata": {},
   "source": [
    "### 3b. Noisy CCA"
   ]
  },
  {
   "cell_type": "markdown",
   "metadata": {},
   "source": [
    "Use PCA with your noisy predictions and your original dataset. How does adding noise to the salary column change the MSE?"
   ]
  },
  {
   "cell_type": "code",
   "execution_count": 291,
   "metadata": {},
   "outputs": [
    {
     "name": "stderr",
     "output_type": "stream",
     "text": [
      "/home/william/anaconda3/envs/personal/lib/python3.8/site-packages/sklearn/cross_decomposition/_pls.py:323: UserWarning: Y residual constant at iteration 1\n",
      "  warnings.warn('Y residual constant at iteration %s' % k)\n"
     ]
    },
    {
     "data": {
      "text/plain": [
       "2699452.881145035"
      ]
     },
     "execution_count": 291,
     "metadata": {},
     "output_type": "execute_result"
    }
   ],
   "source": [
    "# CCA with 2 components #\n",
    "# YOUR CODE HERE #\n",
    "\n",
    "# Solution #\n",
    "cca_noise2 = CCA(n_components=2)\n",
    "cca_noise2.fit(X, y_noise)\n",
    "cca_noise2_X = cca_noise2.transform(X)\n",
    "reg_noise2 = LinearRegression().fit(cca_noise2_X, y_noise)\n",
    "mse_noise2 = np.mean((reg_noise2.predict(cca_noise2_X) - y_noise)**2) ** 0.5\n",
    "mse_noise2\n",
    "# End solution #"
   ]
  },
  {
   "cell_type": "code",
   "execution_count": 292,
   "metadata": {},
   "outputs": [
    {
     "name": "stderr",
     "output_type": "stream",
     "text": [
      "/home/william/anaconda3/envs/personal/lib/python3.8/site-packages/sklearn/cross_decomposition/_pls.py:323: UserWarning: Y residual constant at iteration 1\n",
      "  warnings.warn('Y residual constant at iteration %s' % k)\n"
     ]
    },
    {
     "data": {
      "text/plain": [
       "2699452.881145035"
      ]
     },
     "execution_count": 292,
     "metadata": {},
     "output_type": "execute_result"
    }
   ],
   "source": [
    "# CCA with 5 components #\n",
    "# YOUR CODE HERE #\n",
    "\n",
    "# Solution #\n",
    "cca_noise5 = CCA(n_components=2)\n",
    "cca_noise5.fit(X, y_noise)\n",
    "cca_noise5_X = cca_noise5.transform(X)\n",
    "reg_noise5 = LinearRegression().fit(cca_noise5_X, y_noise)\n",
    "mse_noise5 = np.mean((reg_noise5.predict(cca_noise5_X) - y_noise)**2) ** 0.5\n",
    "mse_noise5\n",
    "# End solution #"
   ]
  },
  {
   "cell_type": "code",
   "execution_count": 293,
   "metadata": {},
   "outputs": [
    {
     "name": "stderr",
     "output_type": "stream",
     "text": [
      "/home/william/anaconda3/envs/personal/lib/python3.8/site-packages/sklearn/cross_decomposition/_pls.py:323: UserWarning: Y residual constant at iteration 1\n",
      "  warnings.warn('Y residual constant at iteration %s' % k)\n"
     ]
    },
    {
     "data": {
      "text/plain": [
       "2699452.881145035"
      ]
     },
     "execution_count": 293,
     "metadata": {},
     "output_type": "execute_result"
    }
   ],
   "source": [
    "# CCA with 8 components #\n",
    "# YOUR CODE HERE #\n",
    "\n",
    "# Solution #\n",
    "cca_noise8 = CCA(n_components=2)\n",
    "cca_noise8.fit(X, y_noise)\n",
    "cca_noise8_X = cca_noise8.transform(X)\n",
    "reg_noise8 = LinearRegression().fit(cca_noise8_X, y_noise)\n",
    "mse_noise8 = np.mean((reg_noise2.predict(cca_noise8_X) - y_noise)**2) ** 0.5\n",
    "mse_noise8\n",
    "# End solution #"
   ]
  },
  {
   "cell_type": "markdown",
   "metadata": {},
   "source": [
    "Fill out the cell below with your observations:"
   ]
  },
  {
   "cell_type": "code",
   "execution_count": 95,
   "metadata": {},
   "outputs": [],
   "source": [
    "# Fill out this cell with observations #"
   ]
  },
  {
   "cell_type": "markdown",
   "metadata": {},
   "source": [
    "## Part 4: Dirty Data\n",
    "In industry contexts, you will often rely on remote data that has been collected in some black box form. This section will work through the process of uncovering this data and cleaning it. The following call creates a `hw.db` file in the same directory as this notebook. "
   ]
  },
  {
   "cell_type": "code",
   "execution_count": 345,
   "metadata": {},
   "outputs": [],
   "source": [
    "utils.make_db('baseball_data.csv')"
   ]
  },
  {
   "cell_type": "markdown",
   "metadata": {},
   "source": [
    "### 4a. Cleaning the dirty data"
   ]
  },
  {
   "cell_type": "markdown",
   "metadata": {},
   "source": [
    "We now have a SQLite DB we can access. Connect to this database and create a pandas DataFrame from the table within it."
   ]
  },
  {
   "cell_type": "code",
   "execution_count": 420,
   "metadata": {},
   "outputs": [],
   "source": [
    "import sqlite3\n",
    "#SOLUTION\n",
    "dirty_data = pd.read_sql(\"SELECT * FROM df\", con=sqlite3.connect('hw.db'))"
   ]
  },
  {
   "cell_type": "markdown",
   "metadata": {},
   "source": [
    "Let's explore this data:"
   ]
  },
  {
   "cell_type": "code",
   "execution_count": 421,
   "metadata": {
    "scrolled": true
   },
   "outputs": [
    {
     "data": {
      "text/html": [
       "<div>\n",
       "<style scoped>\n",
       "    .dataframe tbody tr th:only-of-type {\n",
       "        vertical-align: middle;\n",
       "    }\n",
       "\n",
       "    .dataframe tbody tr th {\n",
       "        vertical-align: top;\n",
       "    }\n",
       "\n",
       "    .dataframe thead th {\n",
       "        text-align: right;\n",
       "    }\n",
       "</style>\n",
       "<table border=\"1\" class=\"dataframe\">\n",
       "  <thead>\n",
       "    <tr style=\"text-align: right;\">\n",
       "      <th></th>\n",
       "      <th>index</th>\n",
       "      <th>SO</th>\n",
       "      <th>hr</th>\n",
       "      <th>'crbi'</th>\n",
       "      <th>dp</th>\n",
       "      <th>ch</th>\n",
       "      <th>sf</th>\n",
       "      <th>hbp</th>\n",
       "      <th>yearid</th>\n",
       "      <th>'cs'</th>\n",
       "      <th>...</th>\n",
       "      <th>CR</th>\n",
       "      <th>x2b</th>\n",
       "      <th>BB</th>\n",
       "      <th>GS</th>\n",
       "      <th>RBI</th>\n",
       "      <th>'sh'</th>\n",
       "      <th>g.x</th>\n",
       "      <th>lgid</th>\n",
       "      <th>namelast</th>\n",
       "      <th>'x3b'</th>\n",
       "    </tr>\n",
       "  </thead>\n",
       "  <tbody>\n",
       "    <tr>\n",
       "      <th>0</th>\n",
       "      <td>55</td>\n",
       "      <td>44.0</td>\n",
       "      <td>3.0</td>\n",
       "      <td>77.0</td>\n",
       "      <td>None</td>\n",
       "      <td>210.0</td>\n",
       "      <td>3.0</td>\n",
       "      <td>3</td>\n",
       "      <td>2012.0</td>\n",
       "      <td>1.0</td>\n",
       "      <td>...</td>\n",
       "      <td>118</td>\n",
       "      <td>7.0</td>\n",
       "      <td>15.0</td>\n",
       "      <td>48.0</td>\n",
       "      <td>19.0</td>\n",
       "      <td>NaN</td>\n",
       "      <td>90.0</td>\n",
       "      <td>AL</td>\n",
       "      <td>Bourjos</td>\n",
       "      <td>0.0</td>\n",
       "    </tr>\n",
       "    <tr>\n",
       "      <th>1</th>\n",
       "      <td>134</td>\n",
       "      <td>169.0</td>\n",
       "      <td>33.0</td>\n",
       "      <td>222.0</td>\n",
       "      <td>37</td>\n",
       "      <td>392.0</td>\n",
       "      <td>3.0</td>\n",
       "      <td>7</td>\n",
       "      <td>2012.0</td>\n",
       "      <td>3.0</td>\n",
       "      <td>...</td>\n",
       "      <td>206</td>\n",
       "      <td>20.0</td>\n",
       "      <td>37.0</td>\n",
       "      <td>77.0</td>\n",
       "      <td>85.0</td>\n",
       "      <td>0.0</td>\n",
       "      <td>79.0</td>\n",
       "      <td>AL</td>\n",
       "      <td>None</td>\n",
       "      <td>0.0</td>\n",
       "    </tr>\n",
       "    <tr>\n",
       "      <th>2</th>\n",
       "      <td>481</td>\n",
       "      <td>109.0</td>\n",
       "      <td>11.0</td>\n",
       "      <td>85.0</td>\n",
       "      <td>36</td>\n",
       "      <td>128.0</td>\n",
       "      <td>0.0</td>\n",
       "      <td>3</td>\n",
       "      <td>NaN</td>\n",
       "      <td>1.0</td>\n",
       "      <td>...</td>\n",
       "      <td>90</td>\n",
       "      <td>14.0</td>\n",
       "      <td>30.0</td>\n",
       "      <td>65.0</td>\n",
       "      <td>42.0</td>\n",
       "      <td>3.0</td>\n",
       "      <td>90.0</td>\n",
       "      <td>None</td>\n",
       "      <td>nan</td>\n",
       "      <td>0.0</td>\n",
       "    </tr>\n",
       "    <tr>\n",
       "      <th>3</th>\n",
       "      <td>195</td>\n",
       "      <td>NaN</td>\n",
       "      <td>NaN</td>\n",
       "      <td>195.0</td>\n",
       "      <td>0</td>\n",
       "      <td>498.0</td>\n",
       "      <td>2.0</td>\n",
       "      <td>0</td>\n",
       "      <td>2012.0</td>\n",
       "      <td>1.0</td>\n",
       "      <td>...</td>\n",
       "      <td>None</td>\n",
       "      <td>1.0</td>\n",
       "      <td>8.0</td>\n",
       "      <td>11.0</td>\n",
       "      <td>4.0</td>\n",
       "      <td>0.0</td>\n",
       "      <td>15.0</td>\n",
       "      <td>AL</td>\n",
       "      <td>Fukudome</td>\n",
       "      <td>0.0</td>\n",
       "    </tr>\n",
       "    <tr>\n",
       "      <th>4</th>\n",
       "      <td>434</td>\n",
       "      <td>52.0</td>\n",
       "      <td>5.0</td>\n",
       "      <td>34.0</td>\n",
       "      <td>None</td>\n",
       "      <td>71.0</td>\n",
       "      <td>1.0</td>\n",
       "      <td>None</td>\n",
       "      <td>NaN</td>\n",
       "      <td>0.0</td>\n",
       "      <td>...</td>\n",
       "      <td>26</td>\n",
       "      <td>10.0</td>\n",
       "      <td>13.0</td>\n",
       "      <td>NaN</td>\n",
       "      <td>20.0</td>\n",
       "      <td>NaN</td>\n",
       "      <td>NaN</td>\n",
       "      <td>None</td>\n",
       "      <td>Parmelee</td>\n",
       "      <td>2.0</td>\n",
       "    </tr>\n",
       "  </tbody>\n",
       "</table>\n",
       "<p>5 rows × 41 columns</p>\n",
       "</div>"
      ],
      "text/plain": [
       "   index     SO    hr  'crbi'    dp     ch   sf   hbp  yearid  'cs'  ...  \\\n",
       "0     55   44.0   3.0    77.0  None  210.0  3.0     3  2012.0   1.0  ...   \n",
       "1    134  169.0  33.0   222.0    37  392.0  3.0     7  2012.0   3.0  ...   \n",
       "2    481  109.0  11.0    85.0    36  128.0  0.0     3     NaN   1.0  ...   \n",
       "3    195    NaN   NaN   195.0     0  498.0  2.0     0  2012.0   1.0  ...   \n",
       "4    434   52.0   5.0    34.0  None   71.0  1.0  None     NaN   0.0  ...   \n",
       "\n",
       "     CR   x2b    BB    GS   RBI  'sh'   g.x  lgid  namelast  'x3b'  \n",
       "0   118   7.0  15.0  48.0  19.0   NaN  90.0    AL   Bourjos    0.0  \n",
       "1   206  20.0  37.0  77.0  85.0   0.0  79.0    AL      None    0.0  \n",
       "2    90  14.0  30.0  65.0  42.0   3.0  90.0  None       nan    0.0  \n",
       "3  None   1.0   8.0  11.0   4.0   0.0  15.0    AL  Fukudome    0.0  \n",
       "4    26  10.0  13.0   NaN  20.0   NaN   NaN  None  Parmelee    2.0  \n",
       "\n",
       "[5 rows x 41 columns]"
      ]
     },
     "execution_count": 421,
     "metadata": {},
     "output_type": "execute_result"
    }
   ],
   "source": [
    "dirty_data.head()"
   ]
  },
  {
   "cell_type": "markdown",
   "metadata": {},
   "source": [
    "As you can see, this data has several issues: there are nan values, duplicate rows, column name changes, and data format changes. Let's clean this data!\n",
    "\n",
    "First, let's standardize the column labels. (Hint: how can we create a predictable format invariant to the headers' current form?)"
   ]
  },
  {
   "cell_type": "code",
   "execution_count": 422,
   "metadata": {
    "scrolled": true
   },
   "outputs": [
    {
     "data": {
      "text/html": [
       "<div>\n",
       "<style scoped>\n",
       "    .dataframe tbody tr th:only-of-type {\n",
       "        vertical-align: middle;\n",
       "    }\n",
       "\n",
       "    .dataframe tbody tr th {\n",
       "        vertical-align: top;\n",
       "    }\n",
       "\n",
       "    .dataframe thead th {\n",
       "        text-align: right;\n",
       "    }\n",
       "</style>\n",
       "<table border=\"1\" class=\"dataframe\">\n",
       "  <thead>\n",
       "    <tr style=\"text-align: right;\">\n",
       "      <th></th>\n",
       "      <th>INDEX</th>\n",
       "      <th>SO</th>\n",
       "      <th>HR</th>\n",
       "      <th>CRBI</th>\n",
       "      <th>DP</th>\n",
       "      <th>CH</th>\n",
       "      <th>SF</th>\n",
       "      <th>HBP</th>\n",
       "      <th>YEARID</th>\n",
       "      <th>CS</th>\n",
       "      <th>...</th>\n",
       "      <th>CR</th>\n",
       "      <th>X2B</th>\n",
       "      <th>BB</th>\n",
       "      <th>GS</th>\n",
       "      <th>RBI</th>\n",
       "      <th>SH</th>\n",
       "      <th>G.X</th>\n",
       "      <th>LGID</th>\n",
       "      <th>NAMELAST</th>\n",
       "      <th>X3B</th>\n",
       "    </tr>\n",
       "  </thead>\n",
       "  <tbody>\n",
       "    <tr>\n",
       "      <th>0</th>\n",
       "      <td>55</td>\n",
       "      <td>44.0</td>\n",
       "      <td>3.0</td>\n",
       "      <td>77.0</td>\n",
       "      <td>None</td>\n",
       "      <td>210.0</td>\n",
       "      <td>3.0</td>\n",
       "      <td>3</td>\n",
       "      <td>2012.0</td>\n",
       "      <td>1.0</td>\n",
       "      <td>...</td>\n",
       "      <td>118</td>\n",
       "      <td>7.0</td>\n",
       "      <td>15.0</td>\n",
       "      <td>48.0</td>\n",
       "      <td>19.0</td>\n",
       "      <td>NaN</td>\n",
       "      <td>90.0</td>\n",
       "      <td>AL</td>\n",
       "      <td>Bourjos</td>\n",
       "      <td>0.0</td>\n",
       "    </tr>\n",
       "    <tr>\n",
       "      <th>1</th>\n",
       "      <td>134</td>\n",
       "      <td>169.0</td>\n",
       "      <td>33.0</td>\n",
       "      <td>222.0</td>\n",
       "      <td>37</td>\n",
       "      <td>392.0</td>\n",
       "      <td>3.0</td>\n",
       "      <td>7</td>\n",
       "      <td>2012.0</td>\n",
       "      <td>3.0</td>\n",
       "      <td>...</td>\n",
       "      <td>206</td>\n",
       "      <td>20.0</td>\n",
       "      <td>37.0</td>\n",
       "      <td>77.0</td>\n",
       "      <td>85.0</td>\n",
       "      <td>0.0</td>\n",
       "      <td>79.0</td>\n",
       "      <td>AL</td>\n",
       "      <td>None</td>\n",
       "      <td>0.0</td>\n",
       "    </tr>\n",
       "    <tr>\n",
       "      <th>2</th>\n",
       "      <td>481</td>\n",
       "      <td>109.0</td>\n",
       "      <td>11.0</td>\n",
       "      <td>85.0</td>\n",
       "      <td>36</td>\n",
       "      <td>128.0</td>\n",
       "      <td>0.0</td>\n",
       "      <td>3</td>\n",
       "      <td>NaN</td>\n",
       "      <td>1.0</td>\n",
       "      <td>...</td>\n",
       "      <td>90</td>\n",
       "      <td>14.0</td>\n",
       "      <td>30.0</td>\n",
       "      <td>65.0</td>\n",
       "      <td>42.0</td>\n",
       "      <td>3.0</td>\n",
       "      <td>90.0</td>\n",
       "      <td>None</td>\n",
       "      <td>nan</td>\n",
       "      <td>0.0</td>\n",
       "    </tr>\n",
       "    <tr>\n",
       "      <th>3</th>\n",
       "      <td>195</td>\n",
       "      <td>NaN</td>\n",
       "      <td>NaN</td>\n",
       "      <td>195.0</td>\n",
       "      <td>0</td>\n",
       "      <td>498.0</td>\n",
       "      <td>2.0</td>\n",
       "      <td>0</td>\n",
       "      <td>2012.0</td>\n",
       "      <td>1.0</td>\n",
       "      <td>...</td>\n",
       "      <td>None</td>\n",
       "      <td>1.0</td>\n",
       "      <td>8.0</td>\n",
       "      <td>11.0</td>\n",
       "      <td>4.0</td>\n",
       "      <td>0.0</td>\n",
       "      <td>15.0</td>\n",
       "      <td>AL</td>\n",
       "      <td>Fukudome</td>\n",
       "      <td>0.0</td>\n",
       "    </tr>\n",
       "    <tr>\n",
       "      <th>4</th>\n",
       "      <td>434</td>\n",
       "      <td>52.0</td>\n",
       "      <td>5.0</td>\n",
       "      <td>34.0</td>\n",
       "      <td>None</td>\n",
       "      <td>71.0</td>\n",
       "      <td>1.0</td>\n",
       "      <td>None</td>\n",
       "      <td>NaN</td>\n",
       "      <td>0.0</td>\n",
       "      <td>...</td>\n",
       "      <td>26</td>\n",
       "      <td>10.0</td>\n",
       "      <td>13.0</td>\n",
       "      <td>NaN</td>\n",
       "      <td>20.0</td>\n",
       "      <td>NaN</td>\n",
       "      <td>NaN</td>\n",
       "      <td>None</td>\n",
       "      <td>Parmelee</td>\n",
       "      <td>2.0</td>\n",
       "    </tr>\n",
       "  </tbody>\n",
       "</table>\n",
       "<p>5 rows × 41 columns</p>\n",
       "</div>"
      ],
      "text/plain": [
       "   INDEX     SO    HR   CRBI    DP     CH   SF   HBP  YEARID   CS  ...    CR  \\\n",
       "0     55   44.0   3.0   77.0  None  210.0  3.0     3  2012.0  1.0  ...   118   \n",
       "1    134  169.0  33.0  222.0    37  392.0  3.0     7  2012.0  3.0  ...   206   \n",
       "2    481  109.0  11.0   85.0    36  128.0  0.0     3     NaN  1.0  ...    90   \n",
       "3    195    NaN   NaN  195.0     0  498.0  2.0     0  2012.0  1.0  ...  None   \n",
       "4    434   52.0   5.0   34.0  None   71.0  1.0  None     NaN  0.0  ...    26   \n",
       "\n",
       "    X2B    BB    GS   RBI   SH   G.X  LGID  NAMELAST  X3B  \n",
       "0   7.0  15.0  48.0  19.0  NaN  90.0    AL   Bourjos  0.0  \n",
       "1  20.0  37.0  77.0  85.0  0.0  79.0    AL      None  0.0  \n",
       "2  14.0  30.0  65.0  42.0  3.0  90.0  None       nan  0.0  \n",
       "3   1.0   8.0  11.0   4.0  0.0  15.0    AL  Fukudome  0.0  \n",
       "4  10.0  13.0   NaN  20.0  NaN   NaN  None  Parmelee  2.0  \n",
       "\n",
       "[5 rows x 41 columns]"
      ]
     },
     "execution_count": 422,
     "metadata": {},
     "output_type": "execute_result"
    }
   ],
   "source": [
    "#Solution\n",
    "dirty_data = dirty_data.rename(lambda col: col.strip('\\''), axis='columns').rename(lambda col: col.upper(), axis='columns')\n",
    "dirty_data.head()"
   ]
  },
  {
   "cell_type": "markdown",
   "metadata": {},
   "source": [
    "Next, drop duplicates. (Hint: some columns have no Nan values)."
   ]
  },
  {
   "cell_type": "code",
   "execution_count": 423,
   "metadata": {
    "scrolled": true
   },
   "outputs": [
    {
     "data": {
      "text/html": [
       "<div>\n",
       "<style scoped>\n",
       "    .dataframe tbody tr th:only-of-type {\n",
       "        vertical-align: middle;\n",
       "    }\n",
       "\n",
       "    .dataframe tbody tr th {\n",
       "        vertical-align: top;\n",
       "    }\n",
       "\n",
       "    .dataframe thead th {\n",
       "        text-align: right;\n",
       "    }\n",
       "</style>\n",
       "<table border=\"1\" class=\"dataframe\">\n",
       "  <thead>\n",
       "    <tr style=\"text-align: right;\">\n",
       "      <th></th>\n",
       "      <th>INDEX</th>\n",
       "      <th>SO</th>\n",
       "      <th>HR</th>\n",
       "      <th>CRBI</th>\n",
       "      <th>DP</th>\n",
       "      <th>CH</th>\n",
       "      <th>SF</th>\n",
       "      <th>HBP</th>\n",
       "      <th>YEARID</th>\n",
       "      <th>CS</th>\n",
       "      <th>...</th>\n",
       "      <th>CR</th>\n",
       "      <th>X2B</th>\n",
       "      <th>BB</th>\n",
       "      <th>GS</th>\n",
       "      <th>RBI</th>\n",
       "      <th>SH</th>\n",
       "      <th>G.X</th>\n",
       "      <th>LGID</th>\n",
       "      <th>NAMELAST</th>\n",
       "      <th>X3B</th>\n",
       "    </tr>\n",
       "  </thead>\n",
       "  <tbody>\n",
       "    <tr>\n",
       "      <th>0</th>\n",
       "      <td>55</td>\n",
       "      <td>44.0</td>\n",
       "      <td>3.0</td>\n",
       "      <td>77.0</td>\n",
       "      <td>None</td>\n",
       "      <td>210.0</td>\n",
       "      <td>3.0</td>\n",
       "      <td>3</td>\n",
       "      <td>2012.0</td>\n",
       "      <td>1.0</td>\n",
       "      <td>...</td>\n",
       "      <td>118</td>\n",
       "      <td>7.0</td>\n",
       "      <td>15.0</td>\n",
       "      <td>48.0</td>\n",
       "      <td>19.0</td>\n",
       "      <td>NaN</td>\n",
       "      <td>90.0</td>\n",
       "      <td>AL</td>\n",
       "      <td>Bourjos</td>\n",
       "      <td>0.0</td>\n",
       "    </tr>\n",
       "    <tr>\n",
       "      <th>1</th>\n",
       "      <td>134</td>\n",
       "      <td>169.0</td>\n",
       "      <td>33.0</td>\n",
       "      <td>222.0</td>\n",
       "      <td>37</td>\n",
       "      <td>392.0</td>\n",
       "      <td>3.0</td>\n",
       "      <td>7</td>\n",
       "      <td>2012.0</td>\n",
       "      <td>3.0</td>\n",
       "      <td>...</td>\n",
       "      <td>206</td>\n",
       "      <td>20.0</td>\n",
       "      <td>37.0</td>\n",
       "      <td>77.0</td>\n",
       "      <td>85.0</td>\n",
       "      <td>0.0</td>\n",
       "      <td>79.0</td>\n",
       "      <td>AL</td>\n",
       "      <td>None</td>\n",
       "      <td>0.0</td>\n",
       "    </tr>\n",
       "    <tr>\n",
       "      <th>2</th>\n",
       "      <td>481</td>\n",
       "      <td>109.0</td>\n",
       "      <td>11.0</td>\n",
       "      <td>85.0</td>\n",
       "      <td>36</td>\n",
       "      <td>128.0</td>\n",
       "      <td>0.0</td>\n",
       "      <td>3</td>\n",
       "      <td>NaN</td>\n",
       "      <td>1.0</td>\n",
       "      <td>...</td>\n",
       "      <td>90</td>\n",
       "      <td>14.0</td>\n",
       "      <td>30.0</td>\n",
       "      <td>65.0</td>\n",
       "      <td>42.0</td>\n",
       "      <td>3.0</td>\n",
       "      <td>90.0</td>\n",
       "      <td>None</td>\n",
       "      <td>nan</td>\n",
       "      <td>0.0</td>\n",
       "    </tr>\n",
       "    <tr>\n",
       "      <th>3</th>\n",
       "      <td>195</td>\n",
       "      <td>NaN</td>\n",
       "      <td>NaN</td>\n",
       "      <td>195.0</td>\n",
       "      <td>0</td>\n",
       "      <td>498.0</td>\n",
       "      <td>2.0</td>\n",
       "      <td>0</td>\n",
       "      <td>2012.0</td>\n",
       "      <td>1.0</td>\n",
       "      <td>...</td>\n",
       "      <td>None</td>\n",
       "      <td>1.0</td>\n",
       "      <td>8.0</td>\n",
       "      <td>11.0</td>\n",
       "      <td>4.0</td>\n",
       "      <td>0.0</td>\n",
       "      <td>15.0</td>\n",
       "      <td>AL</td>\n",
       "      <td>Fukudome</td>\n",
       "      <td>0.0</td>\n",
       "    </tr>\n",
       "    <tr>\n",
       "      <th>4</th>\n",
       "      <td>434</td>\n",
       "      <td>52.0</td>\n",
       "      <td>5.0</td>\n",
       "      <td>34.0</td>\n",
       "      <td>None</td>\n",
       "      <td>71.0</td>\n",
       "      <td>1.0</td>\n",
       "      <td>None</td>\n",
       "      <td>NaN</td>\n",
       "      <td>0.0</td>\n",
       "      <td>...</td>\n",
       "      <td>26</td>\n",
       "      <td>10.0</td>\n",
       "      <td>13.0</td>\n",
       "      <td>NaN</td>\n",
       "      <td>20.0</td>\n",
       "      <td>NaN</td>\n",
       "      <td>NaN</td>\n",
       "      <td>None</td>\n",
       "      <td>Parmelee</td>\n",
       "      <td>2.0</td>\n",
       "    </tr>\n",
       "  </tbody>\n",
       "</table>\n",
       "<p>5 rows × 41 columns</p>\n",
       "</div>"
      ],
      "text/plain": [
       "   INDEX     SO    HR   CRBI    DP     CH   SF   HBP  YEARID   CS  ...    CR  \\\n",
       "0     55   44.0   3.0   77.0  None  210.0  3.0     3  2012.0  1.0  ...   118   \n",
       "1    134  169.0  33.0  222.0    37  392.0  3.0     7  2012.0  3.0  ...   206   \n",
       "2    481  109.0  11.0   85.0    36  128.0  0.0     3     NaN  1.0  ...    90   \n",
       "3    195    NaN   NaN  195.0     0  498.0  2.0     0  2012.0  1.0  ...  None   \n",
       "4    434   52.0   5.0   34.0  None   71.0  1.0  None     NaN  0.0  ...    26   \n",
       "\n",
       "    X2B    BB    GS   RBI   SH   G.X  LGID  NAMELAST  X3B  \n",
       "0   7.0  15.0  48.0  19.0  NaN  90.0    AL   Bourjos  0.0  \n",
       "1  20.0  37.0  77.0  85.0  0.0  79.0    AL      None  0.0  \n",
       "2  14.0  30.0  65.0  42.0  3.0  90.0  None       nan  0.0  \n",
       "3   1.0   8.0  11.0   4.0  0.0  15.0    AL  Fukudome  0.0  \n",
       "4  10.0  13.0   NaN  20.0  NaN   NaN  None  Parmelee  2.0  \n",
       "\n",
       "[5 rows x 41 columns]"
      ]
     },
     "execution_count": 423,
     "metadata": {},
     "output_type": "execute_result"
    }
   ],
   "source": [
    "#Solution\n",
    "dirty_data = dirty_data.drop_duplicates(subset=['ID'])\n",
    "dirty_data.head()"
   ]
  },
  {
   "cell_type": "markdown",
   "metadata": {},
   "source": [
    "Replace NaN values with their column mean. This requires setting columns with string values back to integers."
   ]
  },
  {
   "cell_type": "code",
   "execution_count": 424,
   "metadata": {},
   "outputs": [
    {
     "data": {
      "text/html": [
       "<div>\n",
       "<style scoped>\n",
       "    .dataframe tbody tr th:only-of-type {\n",
       "        vertical-align: middle;\n",
       "    }\n",
       "\n",
       "    .dataframe tbody tr th {\n",
       "        vertical-align: top;\n",
       "    }\n",
       "\n",
       "    .dataframe thead th {\n",
       "        text-align: right;\n",
       "    }\n",
       "</style>\n",
       "<table border=\"1\" class=\"dataframe\">\n",
       "  <thead>\n",
       "    <tr style=\"text-align: right;\">\n",
       "      <th></th>\n",
       "      <th>INDEX</th>\n",
       "      <th>SO</th>\n",
       "      <th>HR</th>\n",
       "      <th>CRBI</th>\n",
       "      <th>DP</th>\n",
       "      <th>CH</th>\n",
       "      <th>SF</th>\n",
       "      <th>HBP</th>\n",
       "      <th>YEARID</th>\n",
       "      <th>CS</th>\n",
       "      <th>...</th>\n",
       "      <th>CR</th>\n",
       "      <th>X2B</th>\n",
       "      <th>BB</th>\n",
       "      <th>GS</th>\n",
       "      <th>RBI</th>\n",
       "      <th>SH</th>\n",
       "      <th>G.X</th>\n",
       "      <th>LGID</th>\n",
       "      <th>NAMELAST</th>\n",
       "      <th>X3B</th>\n",
       "    </tr>\n",
       "  </thead>\n",
       "  <tbody>\n",
       "    <tr>\n",
       "      <th>0</th>\n",
       "      <td>55.0</td>\n",
       "      <td>44.00000</td>\n",
       "      <td>3.000000</td>\n",
       "      <td>77.0</td>\n",
       "      <td>17.886288</td>\n",
       "      <td>210.0</td>\n",
       "      <td>3.0</td>\n",
       "      <td>3.000000</td>\n",
       "      <td>2012.0</td>\n",
       "      <td>1.0</td>\n",
       "      <td>...</td>\n",
       "      <td>118.000000</td>\n",
       "      <td>7.0</td>\n",
       "      <td>15.0</td>\n",
       "      <td>48.000000</td>\n",
       "      <td>19.0</td>\n",
       "      <td>1.368687</td>\n",
       "      <td>90.000000</td>\n",
       "      <td>AL</td>\n",
       "      <td>Bourjos</td>\n",
       "      <td>0.0</td>\n",
       "    </tr>\n",
       "    <tr>\n",
       "      <th>1</th>\n",
       "      <td>134.0</td>\n",
       "      <td>169.00000</td>\n",
       "      <td>33.000000</td>\n",
       "      <td>222.0</td>\n",
       "      <td>37.000000</td>\n",
       "      <td>392.0</td>\n",
       "      <td>3.0</td>\n",
       "      <td>7.000000</td>\n",
       "      <td>2012.0</td>\n",
       "      <td>3.0</td>\n",
       "      <td>...</td>\n",
       "      <td>206.000000</td>\n",
       "      <td>20.0</td>\n",
       "      <td>37.0</td>\n",
       "      <td>77.000000</td>\n",
       "      <td>85.0</td>\n",
       "      <td>0.000000</td>\n",
       "      <td>79.000000</td>\n",
       "      <td>AL</td>\n",
       "      <td>NaN</td>\n",
       "      <td>0.0</td>\n",
       "    </tr>\n",
       "    <tr>\n",
       "      <th>2</th>\n",
       "      <td>481.0</td>\n",
       "      <td>109.00000</td>\n",
       "      <td>11.000000</td>\n",
       "      <td>85.0</td>\n",
       "      <td>36.000000</td>\n",
       "      <td>128.0</td>\n",
       "      <td>0.0</td>\n",
       "      <td>3.000000</td>\n",
       "      <td>2012.0</td>\n",
       "      <td>1.0</td>\n",
       "      <td>...</td>\n",
       "      <td>90.000000</td>\n",
       "      <td>14.0</td>\n",
       "      <td>30.0</td>\n",
       "      <td>65.000000</td>\n",
       "      <td>42.0</td>\n",
       "      <td>3.000000</td>\n",
       "      <td>90.000000</td>\n",
       "      <td>NaN</td>\n",
       "      <td>nan</td>\n",
       "      <td>0.0</td>\n",
       "    </tr>\n",
       "    <tr>\n",
       "      <th>3</th>\n",
       "      <td>195.0</td>\n",
       "      <td>54.12116</td>\n",
       "      <td>7.867572</td>\n",
       "      <td>195.0</td>\n",
       "      <td>0.000000</td>\n",
       "      <td>498.0</td>\n",
       "      <td>2.0</td>\n",
       "      <td>0.000000</td>\n",
       "      <td>2012.0</td>\n",
       "      <td>1.0</td>\n",
       "      <td>...</td>\n",
       "      <td>242.431779</td>\n",
       "      <td>1.0</td>\n",
       "      <td>8.0</td>\n",
       "      <td>11.000000</td>\n",
       "      <td>4.0</td>\n",
       "      <td>0.000000</td>\n",
       "      <td>15.000000</td>\n",
       "      <td>AL</td>\n",
       "      <td>Fukudome</td>\n",
       "      <td>0.0</td>\n",
       "    </tr>\n",
       "    <tr>\n",
       "      <th>4</th>\n",
       "      <td>434.0</td>\n",
       "      <td>52.00000</td>\n",
       "      <td>5.000000</td>\n",
       "      <td>34.0</td>\n",
       "      <td>17.886288</td>\n",
       "      <td>71.0</td>\n",
       "      <td>1.0</td>\n",
       "      <td>2.388982</td>\n",
       "      <td>2012.0</td>\n",
       "      <td>0.0</td>\n",
       "      <td>...</td>\n",
       "      <td>26.000000</td>\n",
       "      <td>10.0</td>\n",
       "      <td>13.0</td>\n",
       "      <td>63.244932</td>\n",
       "      <td>20.0</td>\n",
       "      <td>1.368687</td>\n",
       "      <td>72.123311</td>\n",
       "      <td>NaN</td>\n",
       "      <td>Parmelee</td>\n",
       "      <td>2.0</td>\n",
       "    </tr>\n",
       "    <tr>\n",
       "      <th>...</th>\n",
       "      <td>...</td>\n",
       "      <td>...</td>\n",
       "      <td>...</td>\n",
       "      <td>...</td>\n",
       "      <td>...</td>\n",
       "      <td>...</td>\n",
       "      <td>...</td>\n",
       "      <td>...</td>\n",
       "      <td>...</td>\n",
       "      <td>...</td>\n",
       "      <td>...</td>\n",
       "      <td>...</td>\n",
       "      <td>...</td>\n",
       "      <td>...</td>\n",
       "      <td>...</td>\n",
       "      <td>...</td>\n",
       "      <td>...</td>\n",
       "      <td>...</td>\n",
       "      <td>...</td>\n",
       "      <td>...</td>\n",
       "      <td>...</td>\n",
       "    </tr>\n",
       "    <tr>\n",
       "      <th>1756</th>\n",
       "      <td>145.0</td>\n",
       "      <td>5.00000</td>\n",
       "      <td>0.000000</td>\n",
       "      <td>0.0</td>\n",
       "      <td>4.000000</td>\n",
       "      <td>4.0</td>\n",
       "      <td>0.0</td>\n",
       "      <td>1.000000</td>\n",
       "      <td>2012.0</td>\n",
       "      <td>0.0</td>\n",
       "      <td>...</td>\n",
       "      <td>4.000000</td>\n",
       "      <td>0.0</td>\n",
       "      <td>1.0</td>\n",
       "      <td>4.000000</td>\n",
       "      <td>0.0</td>\n",
       "      <td>0.000000</td>\n",
       "      <td>5.000000</td>\n",
       "      <td>NaN</td>\n",
       "      <td>nan</td>\n",
       "      <td>0.0</td>\n",
       "    </tr>\n",
       "    <tr>\n",
       "      <th>1770</th>\n",
       "      <td>197.0</td>\n",
       "      <td>57.00000</td>\n",
       "      <td>5.000000</td>\n",
       "      <td>585.0</td>\n",
       "      <td>68.000000</td>\n",
       "      <td>1811.0</td>\n",
       "      <td>4.0</td>\n",
       "      <td>1.000000</td>\n",
       "      <td>2012.0</td>\n",
       "      <td>4.0</td>\n",
       "      <td>...</td>\n",
       "      <td>1059.000000</td>\n",
       "      <td>18.0</td>\n",
       "      <td>44.0</td>\n",
       "      <td>116.000000</td>\n",
       "      <td>49.0</td>\n",
       "      <td>5.000000</td>\n",
       "      <td>120.000000</td>\n",
       "      <td>NL</td>\n",
       "      <td>Furcal</td>\n",
       "      <td>3.0</td>\n",
       "    </tr>\n",
       "    <tr>\n",
       "      <th>1844</th>\n",
       "      <td>368.0</td>\n",
       "      <td>68.00000</td>\n",
       "      <td>8.000000</td>\n",
       "      <td>166.0</td>\n",
       "      <td>5.000000</td>\n",
       "      <td>279.0</td>\n",
       "      <td>1.0</td>\n",
       "      <td>0.000000</td>\n",
       "      <td>2012.0</td>\n",
       "      <td>0.0</td>\n",
       "      <td>...</td>\n",
       "      <td>157.000000</td>\n",
       "      <td>13.0</td>\n",
       "      <td>9.0</td>\n",
       "      <td>59.000000</td>\n",
       "      <td>27.0</td>\n",
       "      <td>6.000000</td>\n",
       "      <td>66.000000</td>\n",
       "      <td>AL</td>\n",
       "      <td>Mathis</td>\n",
       "      <td>0.0</td>\n",
       "    </tr>\n",
       "    <tr>\n",
       "      <th>1867</th>\n",
       "      <td>342.0</td>\n",
       "      <td>46.00000</td>\n",
       "      <td>3.000000</td>\n",
       "      <td>28.0</td>\n",
       "      <td>29.000000</td>\n",
       "      <td>111.0</td>\n",
       "      <td>1.0</td>\n",
       "      <td>6.000000</td>\n",
       "      <td>2012.0</td>\n",
       "      <td>3.0</td>\n",
       "      <td>...</td>\n",
       "      <td>43.000000</td>\n",
       "      <td>16.0</td>\n",
       "      <td>19.0</td>\n",
       "      <td>83.000000</td>\n",
       "      <td>27.0</td>\n",
       "      <td>6.000000</td>\n",
       "      <td>106.000000</td>\n",
       "      <td>NL</td>\n",
       "      <td>Lombardozzi</td>\n",
       "      <td>3.0</td>\n",
       "    </tr>\n",
       "    <tr>\n",
       "      <th>1868</th>\n",
       "      <td>619.0</td>\n",
       "      <td>108.00000</td>\n",
       "      <td>19.000000</td>\n",
       "      <td>610.0</td>\n",
       "      <td>40.000000</td>\n",
       "      <td>1030.0</td>\n",
       "      <td>3.0</td>\n",
       "      <td>17.000000</td>\n",
       "      <td>2012.0</td>\n",
       "      <td>0.0</td>\n",
       "      <td>...</td>\n",
       "      <td>641.000000</td>\n",
       "      <td>15.0</td>\n",
       "      <td>51.0</td>\n",
       "      <td>121.000000</td>\n",
       "      <td>60.0</td>\n",
       "      <td>0.000000</td>\n",
       "      <td>137.000000</td>\n",
       "      <td>AL</td>\n",
       "      <td>Youkilis</td>\n",
       "      <td>2.0</td>\n",
       "    </tr>\n",
       "  </tbody>\n",
       "</table>\n",
       "<p>628 rows × 41 columns</p>\n",
       "</div>"
      ],
      "text/plain": [
       "      INDEX         SO         HR   CRBI         DP      CH   SF        HBP  \\\n",
       "0      55.0   44.00000   3.000000   77.0  17.886288   210.0  3.0   3.000000   \n",
       "1     134.0  169.00000  33.000000  222.0  37.000000   392.0  3.0   7.000000   \n",
       "2     481.0  109.00000  11.000000   85.0  36.000000   128.0  0.0   3.000000   \n",
       "3     195.0   54.12116   7.867572  195.0   0.000000   498.0  2.0   0.000000   \n",
       "4     434.0   52.00000   5.000000   34.0  17.886288    71.0  1.0   2.388982   \n",
       "...     ...        ...        ...    ...        ...     ...  ...        ...   \n",
       "1756  145.0    5.00000   0.000000    0.0   4.000000     4.0  0.0   1.000000   \n",
       "1770  197.0   57.00000   5.000000  585.0  68.000000  1811.0  4.0   1.000000   \n",
       "1844  368.0   68.00000   8.000000  166.0   5.000000   279.0  1.0   0.000000   \n",
       "1867  342.0   46.00000   3.000000   28.0  29.000000   111.0  1.0   6.000000   \n",
       "1868  619.0  108.00000  19.000000  610.0  40.000000  1030.0  3.0  17.000000   \n",
       "\n",
       "      YEARID   CS  ...           CR   X2B    BB          GS   RBI        SH  \\\n",
       "0     2012.0  1.0  ...   118.000000   7.0  15.0   48.000000  19.0  1.368687   \n",
       "1     2012.0  3.0  ...   206.000000  20.0  37.0   77.000000  85.0  0.000000   \n",
       "2     2012.0  1.0  ...    90.000000  14.0  30.0   65.000000  42.0  3.000000   \n",
       "3     2012.0  1.0  ...   242.431779   1.0   8.0   11.000000   4.0  0.000000   \n",
       "4     2012.0  0.0  ...    26.000000  10.0  13.0   63.244932  20.0  1.368687   \n",
       "...      ...  ...  ...          ...   ...   ...         ...   ...       ...   \n",
       "1756  2012.0  0.0  ...     4.000000   0.0   1.0    4.000000   0.0  0.000000   \n",
       "1770  2012.0  4.0  ...  1059.000000  18.0  44.0  116.000000  49.0  5.000000   \n",
       "1844  2012.0  0.0  ...   157.000000  13.0   9.0   59.000000  27.0  6.000000   \n",
       "1867  2012.0  3.0  ...    43.000000  16.0  19.0   83.000000  27.0  6.000000   \n",
       "1868  2012.0  0.0  ...   641.000000  15.0  51.0  121.000000  60.0  0.000000   \n",
       "\n",
       "             G.X  LGID     NAMELAST  X3B  \n",
       "0      90.000000    AL      Bourjos  0.0  \n",
       "1      79.000000    AL          NaN  0.0  \n",
       "2      90.000000   NaN          nan  0.0  \n",
       "3      15.000000    AL     Fukudome  0.0  \n",
       "4      72.123311   NaN     Parmelee  2.0  \n",
       "...          ...   ...          ...  ...  \n",
       "1756    5.000000   NaN          nan  0.0  \n",
       "1770  120.000000    NL       Furcal  3.0  \n",
       "1844   66.000000    AL       Mathis  0.0  \n",
       "1867  106.000000    NL  Lombardozzi  3.0  \n",
       "1868  137.000000    AL     Youkilis  2.0  \n",
       "\n",
       "[628 rows x 41 columns]"
      ]
     },
     "execution_count": 424,
     "metadata": {},
     "output_type": "execute_result"
    }
   ],
   "source": [
    "#Solution\n",
    "for col in dirty_data:\n",
    "        try:\n",
    "            dirty_data[col] = dirty_data[col].astype(float)\n",
    "        except:\n",
    "            pass\n",
    "dirty_data = dirty_data.fillna(np.nan)\n",
    "\n",
    "dirty_data = dirty_data.fillna(dirty_data.mean())\n",
    "dirty_data"
   ]
  },
  {
   "cell_type": "markdown",
   "metadata": {},
   "source": [
    "To prepare our data, one-hot-encode categorical variables."
   ]
  },
  {
   "cell_type": "code",
   "execution_count": 425,
   "metadata": {},
   "outputs": [],
   "source": [
    "ohe_dirty_data = dirty_data.copy()\n",
    "for col in ('POS', 'TEAMID', 'LGID'):\n",
    "    ohe_dirty_data = ohe_dirty_data.merge(\n",
    "    pd.get_dummies(dirty_data[col]),\n",
    "     how='inner', right_index=True, left_index = True\n",
    "    ).T.drop_duplicates().T.rename(lambda c: str(c).rsplit('_x', 1)[0], axis='columns').drop(col, axis=1)\n",
    "\n"
   ]
  },
  {
   "cell_type": "markdown",
   "metadata": {},
   "source": [
    "We don't need player names/ID, so remove those features (they aren't useful categorical features). Additionally, drop the 'INDEX' column because it is a residual from importing SQL data. Because `G_BATTING` is all nan, r"
   ]
  },
  {
   "cell_type": "code",
   "execution_count": 432,
   "metadata": {},
   "outputs": [],
   "source": [
    "#SOLUTION\n",
    "ohe_dirty_data = ohe_dirty_data.drop(['INDEX', 'ID', 'NAMEFIRST', 'NAMELAST', 'G_BATTING'], axis=1).astype(float)"
   ]
  },
  {
   "cell_type": "code",
   "execution_count": 450,
   "metadata": {},
   "outputs": [
    {
     "data": {
      "text/plain": [
       "G_BATTING    628\n",
       "dtype: int64"
      ]
     },
     "execution_count": 450,
     "metadata": {},
     "output_type": "execute_result"
    }
   ],
   "source": [
    "ohe_dirty_data.isna().sum()[ohe_dirty_data.isna().sum().astype(bool)]"
   ]
  },
  {
   "cell_type": "markdown",
   "metadata": {},
   "source": [
    "With our data clean, let's split our data into our features and prediction column."
   ]
  },
  {
   "cell_type": "code",
   "execution_count": 436,
   "metadata": {},
   "outputs": [],
   "source": [
    "X_dirty = ohe_dirty_data.drop(columns=['SALARY'])\n",
    "y_dirty = ohe_dirty_data['SALARY']"
   ]
  },
  {
   "cell_type": "markdown",
   "metadata": {},
   "source": [
    "### 4b. Dirty PCA"
   ]
  },
  {
   "cell_type": "markdown",
   "metadata": {},
   "source": [
    "Now run PCA on your dirty dataset, using 2, 5, and 8 components and find the MSE for your predictions. How does the performance compare to PCA of the original cleaned dataset?"
   ]
  },
  {
   "cell_type": "code",
   "execution_count": 437,
   "metadata": {},
   "outputs": [
    {
     "ename": "ValueError",
     "evalue": "Input contains NaN, infinity or a value too large for dtype('float64').",
     "output_type": "error",
     "traceback": [
      "\u001b[0;31m---------------------------------------------------------------------------\u001b[0m",
      "\u001b[0;31mValueError\u001b[0m                                Traceback (most recent call last)",
      "\u001b[0;32m<ipython-input-437-2b397cd80ed1>\u001b[0m in \u001b[0;36m<module>\u001b[0;34m\u001b[0m\n\u001b[1;32m      4\u001b[0m \u001b[0;31m# Solution #\u001b[0m\u001b[0;34m\u001b[0m\u001b[0;34m\u001b[0m\u001b[0;34m\u001b[0m\u001b[0m\n\u001b[1;32m      5\u001b[0m \u001b[0mpca_dirty2\u001b[0m \u001b[0;34m=\u001b[0m \u001b[0mPCA\u001b[0m\u001b[0;34m(\u001b[0m\u001b[0mn_components\u001b[0m\u001b[0;34m=\u001b[0m\u001b[0;36m2\u001b[0m\u001b[0;34m)\u001b[0m\u001b[0;34m\u001b[0m\u001b[0;34m\u001b[0m\u001b[0m\n\u001b[0;32m----> 6\u001b[0;31m \u001b[0mpca_dirty2\u001b[0m\u001b[0;34m.\u001b[0m\u001b[0mfit\u001b[0m\u001b[0;34m(\u001b[0m\u001b[0mX_dirty\u001b[0m\u001b[0;34m,\u001b[0m \u001b[0my_dirty\u001b[0m\u001b[0;34m)\u001b[0m\u001b[0;34m\u001b[0m\u001b[0;34m\u001b[0m\u001b[0m\n\u001b[0m\u001b[1;32m      7\u001b[0m \u001b[0mpca_dirty2_X\u001b[0m \u001b[0;34m=\u001b[0m \u001b[0mpca_dirty2\u001b[0m\u001b[0;34m.\u001b[0m\u001b[0mtransform\u001b[0m\u001b[0;34m(\u001b[0m\u001b[0mX_dirty\u001b[0m\u001b[0;34m)\u001b[0m\u001b[0;34m\u001b[0m\u001b[0;34m\u001b[0m\u001b[0m\n\u001b[1;32m      8\u001b[0m \u001b[0mreg_dirty2\u001b[0m \u001b[0;34m=\u001b[0m \u001b[0mLinearRegression\u001b[0m\u001b[0;34m(\u001b[0m\u001b[0;34m)\u001b[0m\u001b[0;34m.\u001b[0m\u001b[0mfit\u001b[0m\u001b[0;34m(\u001b[0m\u001b[0mpca_dirty2_X\u001b[0m\u001b[0;34m,\u001b[0m \u001b[0my_dirty\u001b[0m\u001b[0;34m)\u001b[0m\u001b[0;34m\u001b[0m\u001b[0;34m\u001b[0m\u001b[0m\n",
      "\u001b[0;32m~/anaconda3/envs/personal/lib/python3.8/site-packages/sklearn/decomposition/_pca.py\u001b[0m in \u001b[0;36mfit\u001b[0;34m(self, X, y)\u001b[0m\n\u001b[1;32m    349\u001b[0m             \u001b[0mReturns\u001b[0m \u001b[0mthe\u001b[0m \u001b[0minstance\u001b[0m \u001b[0mitself\u001b[0m\u001b[0;34m.\u001b[0m\u001b[0;34m\u001b[0m\u001b[0;34m\u001b[0m\u001b[0m\n\u001b[1;32m    350\u001b[0m         \"\"\"\n\u001b[0;32m--> 351\u001b[0;31m         \u001b[0mself\u001b[0m\u001b[0;34m.\u001b[0m\u001b[0m_fit\u001b[0m\u001b[0;34m(\u001b[0m\u001b[0mX\u001b[0m\u001b[0;34m)\u001b[0m\u001b[0;34m\u001b[0m\u001b[0;34m\u001b[0m\u001b[0m\n\u001b[0m\u001b[1;32m    352\u001b[0m         \u001b[0;32mreturn\u001b[0m \u001b[0mself\u001b[0m\u001b[0;34m\u001b[0m\u001b[0;34m\u001b[0m\u001b[0m\n\u001b[1;32m    353\u001b[0m \u001b[0;34m\u001b[0m\u001b[0m\n",
      "\u001b[0;32m~/anaconda3/envs/personal/lib/python3.8/site-packages/sklearn/decomposition/_pca.py\u001b[0m in \u001b[0;36m_fit\u001b[0;34m(self, X)\u001b[0m\n\u001b[1;32m    395\u001b[0m                             'TruncatedSVD for a possible alternative.')\n\u001b[1;32m    396\u001b[0m \u001b[0;34m\u001b[0m\u001b[0m\n\u001b[0;32m--> 397\u001b[0;31m         X = self._validate_data(X, dtype=[np.float64, np.float32],\n\u001b[0m\u001b[1;32m    398\u001b[0m                                 ensure_2d=True, copy=self.copy)\n\u001b[1;32m    399\u001b[0m \u001b[0;34m\u001b[0m\u001b[0m\n",
      "\u001b[0;32m~/anaconda3/envs/personal/lib/python3.8/site-packages/sklearn/base.py\u001b[0m in \u001b[0;36m_validate_data\u001b[0;34m(self, X, y, reset, validate_separately, **check_params)\u001b[0m\n\u001b[1;32m    418\u001b[0m                     \u001b[0;34mf\"requires y to be passed, but the target y is None.\"\u001b[0m\u001b[0;34m\u001b[0m\u001b[0;34m\u001b[0m\u001b[0m\n\u001b[1;32m    419\u001b[0m                 )\n\u001b[0;32m--> 420\u001b[0;31m             \u001b[0mX\u001b[0m \u001b[0;34m=\u001b[0m \u001b[0mcheck_array\u001b[0m\u001b[0;34m(\u001b[0m\u001b[0mX\u001b[0m\u001b[0;34m,\u001b[0m \u001b[0;34m**\u001b[0m\u001b[0mcheck_params\u001b[0m\u001b[0;34m)\u001b[0m\u001b[0;34m\u001b[0m\u001b[0;34m\u001b[0m\u001b[0m\n\u001b[0m\u001b[1;32m    421\u001b[0m             \u001b[0mout\u001b[0m \u001b[0;34m=\u001b[0m \u001b[0mX\u001b[0m\u001b[0;34m\u001b[0m\u001b[0;34m\u001b[0m\u001b[0m\n\u001b[1;32m    422\u001b[0m         \u001b[0;32melse\u001b[0m\u001b[0;34m:\u001b[0m\u001b[0;34m\u001b[0m\u001b[0;34m\u001b[0m\u001b[0m\n",
      "\u001b[0;32m~/anaconda3/envs/personal/lib/python3.8/site-packages/sklearn/utils/validation.py\u001b[0m in \u001b[0;36minner_f\u001b[0;34m(*args, **kwargs)\u001b[0m\n\u001b[1;32m     70\u001b[0m                           FutureWarning)\n\u001b[1;32m     71\u001b[0m         \u001b[0mkwargs\u001b[0m\u001b[0;34m.\u001b[0m\u001b[0mupdate\u001b[0m\u001b[0;34m(\u001b[0m\u001b[0;34m{\u001b[0m\u001b[0mk\u001b[0m\u001b[0;34m:\u001b[0m \u001b[0marg\u001b[0m \u001b[0;32mfor\u001b[0m \u001b[0mk\u001b[0m\u001b[0;34m,\u001b[0m \u001b[0marg\u001b[0m \u001b[0;32min\u001b[0m \u001b[0mzip\u001b[0m\u001b[0;34m(\u001b[0m\u001b[0msig\u001b[0m\u001b[0;34m.\u001b[0m\u001b[0mparameters\u001b[0m\u001b[0;34m,\u001b[0m \u001b[0margs\u001b[0m\u001b[0;34m)\u001b[0m\u001b[0;34m}\u001b[0m\u001b[0;34m)\u001b[0m\u001b[0;34m\u001b[0m\u001b[0;34m\u001b[0m\u001b[0m\n\u001b[0;32m---> 72\u001b[0;31m         \u001b[0;32mreturn\u001b[0m \u001b[0mf\u001b[0m\u001b[0;34m(\u001b[0m\u001b[0;34m**\u001b[0m\u001b[0mkwargs\u001b[0m\u001b[0;34m)\u001b[0m\u001b[0;34m\u001b[0m\u001b[0;34m\u001b[0m\u001b[0m\n\u001b[0m\u001b[1;32m     73\u001b[0m     \u001b[0;32mreturn\u001b[0m \u001b[0minner_f\u001b[0m\u001b[0;34m\u001b[0m\u001b[0;34m\u001b[0m\u001b[0m\n\u001b[1;32m     74\u001b[0m \u001b[0;34m\u001b[0m\u001b[0m\n",
      "\u001b[0;32m~/anaconda3/envs/personal/lib/python3.8/site-packages/sklearn/utils/validation.py\u001b[0m in \u001b[0;36mcheck_array\u001b[0;34m(array, accept_sparse, accept_large_sparse, dtype, order, copy, force_all_finite, ensure_2d, allow_nd, ensure_min_samples, ensure_min_features, estimator)\u001b[0m\n\u001b[1;32m    642\u001b[0m \u001b[0;34m\u001b[0m\u001b[0m\n\u001b[1;32m    643\u001b[0m         \u001b[0;32mif\u001b[0m \u001b[0mforce_all_finite\u001b[0m\u001b[0;34m:\u001b[0m\u001b[0;34m\u001b[0m\u001b[0;34m\u001b[0m\u001b[0m\n\u001b[0;32m--> 644\u001b[0;31m             _assert_all_finite(array,\n\u001b[0m\u001b[1;32m    645\u001b[0m                                allow_nan=force_all_finite == 'allow-nan')\n\u001b[1;32m    646\u001b[0m \u001b[0;34m\u001b[0m\u001b[0m\n",
      "\u001b[0;32m~/anaconda3/envs/personal/lib/python3.8/site-packages/sklearn/utils/validation.py\u001b[0m in \u001b[0;36m_assert_all_finite\u001b[0;34m(X, allow_nan, msg_dtype)\u001b[0m\n\u001b[1;32m     94\u001b[0m                 not allow_nan and not np.isfinite(X).all()):\n\u001b[1;32m     95\u001b[0m             \u001b[0mtype_err\u001b[0m \u001b[0;34m=\u001b[0m \u001b[0;34m'infinity'\u001b[0m \u001b[0;32mif\u001b[0m \u001b[0mallow_nan\u001b[0m \u001b[0;32melse\u001b[0m \u001b[0;34m'NaN, infinity'\u001b[0m\u001b[0;34m\u001b[0m\u001b[0;34m\u001b[0m\u001b[0m\n\u001b[0;32m---> 96\u001b[0;31m             raise ValueError(\n\u001b[0m\u001b[1;32m     97\u001b[0m                     \u001b[0mmsg_err\u001b[0m\u001b[0;34m.\u001b[0m\u001b[0mformat\u001b[0m\u001b[0;34m\u001b[0m\u001b[0;34m\u001b[0m\u001b[0m\n\u001b[1;32m     98\u001b[0m                     (type_err,\n",
      "\u001b[0;31mValueError\u001b[0m: Input contains NaN, infinity or a value too large for dtype('float64')."
     ]
    }
   ],
   "source": [
    "# PCA with 2 components #\n",
    "# YOUR CODE HERE #\n",
    "\n",
    "# Solution #\n",
    "pca_dirty2 = PCA(n_components=2)\n",
    "pca_dirty2.fit(X_dirty, y_dirty)\n",
    "pca_dirty2_X = pca_dirty2.transform(X_dirty)\n",
    "reg_dirty2 = LinearRegression().fit(pca_dirty2_X, y_dirty)\n",
    "mse_dirty2 = np.mean((reg_dirty2.predict(pca_dirty2_X) - y_dirty)**2) ** 0.5\n",
    "mse_dirty2\n",
    "# End solution #"
   ]
  },
  {
   "cell_type": "code",
   "execution_count": 101,
   "metadata": {},
   "outputs": [
    {
     "data": {
      "text/plain": [
       "3651656.437507077"
      ]
     },
     "execution_count": 101,
     "metadata": {},
     "output_type": "execute_result"
    }
   ],
   "source": [
    "# PCA with 5 components #\n",
    "# YOUR CODE HERE #\n",
    "\n",
    "# Solution #\n",
    "pca_dirty5 = PCA(n_components=2)\n",
    "pca_dirty5.fit(X_dirty, y_dirty)\n",
    "pca_dirty5_X = pca_dirty5.transform(X_dirty)\n",
    "reg_dirty5 = LinearRegression().fit(pca_dirty5_X, y_dirty)\n",
    "mse_dirty5 = np.mean((reg_dirty5.predict(pca_dirty5_X) - y_dirty)**2) ** 0.5\n",
    "mse_dirty5\n",
    "# End solution #"
   ]
  },
  {
   "cell_type": "code",
   "execution_count": 102,
   "metadata": {},
   "outputs": [
    {
     "data": {
      "text/plain": [
       "3651656.437507077"
      ]
     },
     "execution_count": 102,
     "metadata": {},
     "output_type": "execute_result"
    }
   ],
   "source": [
    "# PCA with 8 components #\n",
    "# YOUR CODE HERE #\n",
    "\n",
    "# Solution #\n",
    "pca_dirty8 = PCA(n_components=2)\n",
    "pca_dirty8.fit(X_dirty, y_dirty)\n",
    "pca_dirty8_X = pca_dirty8.transform(X_dirty)\n",
    "reg_dirty8 = LinearRegression().fit(pca_dirty8_X, y_dirty)\n",
    "mse_dirty8 = np.mean((reg_dirty8.predict(pca_dirty8_X) - y_dirty)**2) ** 0.5\n",
    "mse_dirty8\n",
    "# End solution #"
   ]
  },
  {
   "cell_type": "markdown",
   "metadata": {},
   "source": [
    "Fill out the cell below with your observations:"
   ]
  },
  {
   "cell_type": "code",
   "execution_count": 103,
   "metadata": {},
   "outputs": [],
   "source": [
    "# Fill out this cell with observations #"
   ]
  },
  {
   "cell_type": "markdown",
   "metadata": {},
   "source": [
    "### 4c. Dirty CCA"
   ]
  },
  {
   "cell_type": "markdown",
   "metadata": {},
   "source": [
    "Now run CCA on your dirty dataset, using 2, 5, and 8 components and find the MSE for your predictions. How does the performance compare to CCA of the original cleaned dataset?"
   ]
  },
  {
   "cell_type": "code",
   "execution_count": 104,
   "metadata": {},
   "outputs": [
    {
     "name": "stderr",
     "output_type": "stream",
     "text": [
      "/Users/abhinavg/opt/anaconda3/lib/python3.7/site-packages/sklearn/cross_decomposition/pls_.py:292: UserWarning: Y residual constant at iteration 1\n",
      "  warnings.warn('Y residual constant at iteration %s' % k)\n"
     ]
    },
    {
     "data": {
      "text/plain": [
       "2780163.520656927"
      ]
     },
     "execution_count": 104,
     "metadata": {},
     "output_type": "execute_result"
    }
   ],
   "source": [
    "# CCA with 2 components #\n",
    "# YOUR CODE HERE #\n",
    "\n",
    "# Solution #\n",
    "cca_dirty2 = CCA(n_components=2)\n",
    "cca_dirty2.fit(X_dirty, y_dirty)\n",
    "cca_dirty2_X = cca_dirty2.transform(X_dirty)\n",
    "reg_dirty2 = LinearRegression().fit(cca_dirty2_X, y_dirty)\n",
    "mse_dirty2 = np.mean((reg_dirty2.predict(cca_dirty2_X) - y_dirty)**2) ** 0.5\n",
    "mse_dirty2\n",
    "# End solution #"
   ]
  },
  {
   "cell_type": "code",
   "execution_count": 105,
   "metadata": {},
   "outputs": [
    {
     "name": "stderr",
     "output_type": "stream",
     "text": [
      "/Users/abhinavg/opt/anaconda3/lib/python3.7/site-packages/sklearn/cross_decomposition/pls_.py:292: UserWarning: Y residual constant at iteration 1\n",
      "  warnings.warn('Y residual constant at iteration %s' % k)\n"
     ]
    },
    {
     "data": {
      "text/plain": [
       "2780163.5206569275"
      ]
     },
     "execution_count": 105,
     "metadata": {},
     "output_type": "execute_result"
    }
   ],
   "source": [
    "# CCA with 5 components #\n",
    "# YOUR CODE HERE #\n",
    "\n",
    "# Solution #\n",
    "cca_dirty5 = CCA(n_components=5)\n",
    "cca_dirty5.fit(X_dirty, y_dirty)\n",
    "cca_dirty5_X = cca_dirty5.transform(X_dirty)\n",
    "reg_dirty5 = LinearRegression().fit(cca_dirty5_X, y_dirty)\n",
    "mse_dirty5 = np.mean((reg_dirty5.predict(cca_dirty5_X) - y_dirty)**2) ** 0.5\n",
    "mse_dirty5\n",
    "# End solution #"
   ]
  },
  {
   "cell_type": "code",
   "execution_count": 106,
   "metadata": {},
   "outputs": [
    {
     "name": "stderr",
     "output_type": "stream",
     "text": [
      "/Users/abhinavg/opt/anaconda3/lib/python3.7/site-packages/sklearn/cross_decomposition/pls_.py:292: UserWarning: Y residual constant at iteration 1\n",
      "  warnings.warn('Y residual constant at iteration %s' % k)\n"
     ]
    },
    {
     "data": {
      "text/plain": [
       "2780163.520656927"
      ]
     },
     "execution_count": 106,
     "metadata": {},
     "output_type": "execute_result"
    }
   ],
   "source": [
    "# CCA with 8 components #\n",
    "# YOUR CODE HERE #\n",
    "\n",
    "# Solution #\n",
    "cca_dirty8 = CCA(n_components=2)\n",
    "cca_dirty8.fit(X_dirty, y_dirty)\n",
    "cca_dirty8_X = cca_dirty8.transform(X_dirty)\n",
    "reg_dirty8 = LinearRegression().fit(cca_dirty8_X, y_dirty)\n",
    "mse_dirty8 = np.mean((reg_dirty8.predict(cca_dirty8_X) - y_dirty)**2) ** 0.5\n",
    "mse_dirty8\n",
    "# End solution #"
   ]
  },
  {
   "cell_type": "markdown",
   "metadata": {},
   "source": [
    "Fill out the cell below with your observations:"
   ]
  },
  {
   "cell_type": "code",
   "execution_count": 107,
   "metadata": {},
   "outputs": [],
   "source": [
    "# Fill out this cell with observations #"
   ]
  },
  {
   "cell_type": "code",
   "execution_count": null,
   "metadata": {},
   "outputs": [],
   "source": []
  },
  {
   "cell_type": "code",
   "execution_count": null,
   "metadata": {},
   "outputs": [],
   "source": []
  },
  {
   "cell_type": "code",
   "execution_count": null,
   "metadata": {},
   "outputs": [],
   "source": []
  },
  {
   "cell_type": "code",
   "execution_count": null,
   "metadata": {},
   "outputs": [],
   "source": []
  }
 ],
 "metadata": {
  "kernelspec": {
   "display_name": "Python 3",
   "language": "python",
   "name": "python3"
  },
  "language_info": {
   "codemirror_mode": {
    "name": "ipython",
    "version": 3
   },
   "file_extension": ".py",
   "mimetype": "text/x-python",
   "name": "python",
   "nbconvert_exporter": "python",
   "pygments_lexer": "ipython3",
   "version": "3.7.7"
  }
 },
 "nbformat": 4,
 "nbformat_minor": 4
}
