{
 "cells": [
  {
   "cell_type": "markdown",
   "metadata": {},
   "source": [
    "# Project T Final: PCA and CCA\n",
    "\n",
    "By Jai Bansal, Abhinav Gopal, Grace Kull, William McEachen, Shrey Vasavada"
   ]
  },
  {
   "cell_type": "code",
   "execution_count": 1,
   "metadata": {
    "scrolled": true
   },
   "outputs": [
    {
     "name": "stderr",
     "output_type": "stream",
     "text": [
      "/Users/Grace/.pyenv/versions/3.7.7/lib/python3.7/site-packages/pandas/compat/__init__.py:117: UserWarning: Could not import the lzma module. Your installed Python is incomplete. Attempting to use lzma compression will result in a RuntimeError.\n",
      "  warnings.warn(msg)\n"
     ]
    }
   ],
   "source": [
    "import pandas as pd\n",
    "import numpy as np\n",
    "import math\n",
    "import matplotlib.pyplot as plt\n",
    "from sklearn.decomposition import PCA\n",
    "from sklearn.cross_decomposition import CCA\n",
    "from sklearn.linear_model import LinearRegression\n",
    "from sklearn.linear_model import Ridge\n",
    "from sklearn.preprocessing import StandardScaler"
   ]
  },
  {
   "cell_type": "markdown",
   "metadata": {},
   "source": [
    "Run the cell below only once per session. The utils.py file contains some black box functions which will be used later in this assignment. "
   ]
  },
  {
   "cell_type": "code",
   "execution_count": 2,
   "metadata": {},
   "outputs": [
    {
     "name": "stdout",
     "output_type": "stream",
     "text": [
      "ln: utils.py: File exists\r\n"
     ]
    }
   ],
   "source": [
    "!ln -s ./utils.py utils.py"
   ]
  },
  {
   "cell_type": "code",
   "execution_count": 3,
   "metadata": {},
   "outputs": [],
   "source": [
    "import utils"
   ]
  },
  {
   "cell_type": "markdown",
   "metadata": {},
   "source": [
    "## Part 1: Initial Data Cleaning"
   ]
  },
  {
   "cell_type": "markdown",
   "metadata": {},
   "source": [
    "In this assignment, we will be looking at a real dataset of baseball players, using their game statistics to predict their salaries. Some of the information in this dataset about the players includes their names, ids, positions, years played, and their batting statistics. \n",
    "\n",
    "First, load the csv file to see all the information."
   ]
  },
  {
   "cell_type": "code",
   "execution_count": 4,
   "metadata": {},
   "outputs": [],
   "source": [
    "baseball = pd.read_csv(\"baseball_data.csv\")"
   ]
  },
  {
   "cell_type": "code",
   "execution_count": 5,
   "metadata": {},
   "outputs": [
    {
     "data": {
      "text/html": [
       "<div>\n",
       "<style scoped>\n",
       "    .dataframe tbody tr th:only-of-type {\n",
       "        vertical-align: middle;\n",
       "    }\n",
       "\n",
       "    .dataframe tbody tr th {\n",
       "        vertical-align: top;\n",
       "    }\n",
       "\n",
       "    .dataframe thead th {\n",
       "        text-align: right;\n",
       "    }\n",
       "</style>\n",
       "<table border=\"1\" class=\"dataframe\">\n",
       "  <thead>\n",
       "    <tr style=\"text-align: right;\">\n",
       "      <th></th>\n",
       "      <th>id</th>\n",
       "      <th>yearid</th>\n",
       "      <th>teamid</th>\n",
       "      <th>lgid</th>\n",
       "      <th>namefirst</th>\n",
       "      <th>namelast</th>\n",
       "      <th>salary</th>\n",
       "      <th>pos</th>\n",
       "      <th>g.x</th>\n",
       "      <th>gs</th>\n",
       "      <th>...</th>\n",
       "      <th>sh</th>\n",
       "      <th>sf</th>\n",
       "      <th>gidp</th>\n",
       "      <th>years</th>\n",
       "      <th>cab</th>\n",
       "      <th>ch</th>\n",
       "      <th>chr</th>\n",
       "      <th>cr</th>\n",
       "      <th>crbi</th>\n",
       "      <th>cbb</th>\n",
       "    </tr>\n",
       "  </thead>\n",
       "  <tbody>\n",
       "    <tr>\n",
       "      <th>0</th>\n",
       "      <td>abreubo01</td>\n",
       "      <td>2012.0</td>\n",
       "      <td>LAA</td>\n",
       "      <td>AL</td>\n",
       "      <td>Bobby</td>\n",
       "      <td>Abreu</td>\n",
       "      <td>9000000.0</td>\n",
       "      <td>OF</td>\n",
       "      <td>54</td>\n",
       "      <td>50</td>\n",
       "      <td>...</td>\n",
       "      <td>0</td>\n",
       "      <td>1</td>\n",
       "      <td>7</td>\n",
       "      <td>17</td>\n",
       "      <td>8347</td>\n",
       "      <td>2437</td>\n",
       "      <td>287</td>\n",
       "      <td>1441</td>\n",
       "      <td>1349</td>\n",
       "      <td>1456</td>\n",
       "    </tr>\n",
       "    <tr>\n",
       "      <th>1</th>\n",
       "      <td>abreuto01</td>\n",
       "      <td>NaN</td>\n",
       "      <td>NaN</td>\n",
       "      <td>NaN</td>\n",
       "      <td>NaN</td>\n",
       "      <td>NaN</td>\n",
       "      <td>NaN</td>\n",
       "      <td>23</td>\n",
       "      <td>21</td>\n",
       "      <td>17</td>\n",
       "      <td>...</td>\n",
       "      <td>0</td>\n",
       "      <td>1</td>\n",
       "      <td>1</td>\n",
       "      <td>4</td>\n",
       "      <td>437</td>\n",
       "      <td>110</td>\n",
       "      <td>4</td>\n",
       "      <td>40</td>\n",
       "      <td>46</td>\n",
       "      <td>16</td>\n",
       "    </tr>\n",
       "    <tr>\n",
       "      <th>2</th>\n",
       "      <td>ackledu01</td>\n",
       "      <td>2012.0</td>\n",
       "      <td>SEA</td>\n",
       "      <td>AL</td>\n",
       "      <td>Dustin</td>\n",
       "      <td>Ackley</td>\n",
       "      <td>2100000.0</td>\n",
       "      <td>12</td>\n",
       "      <td>153</td>\n",
       "      <td>147</td>\n",
       "      <td>...</td>\n",
       "      <td>1</td>\n",
       "      <td>1</td>\n",
       "      <td>3</td>\n",
       "      <td>2</td>\n",
       "      <td>940</td>\n",
       "      <td>228</td>\n",
       "      <td>18</td>\n",
       "      <td>123</td>\n",
       "      <td>86</td>\n",
       "      <td>99</td>\n",
       "    </tr>\n",
       "    <tr>\n",
       "      <th>3</th>\n",
       "      <td>adamsma01</td>\n",
       "      <td>NaN</td>\n",
       "      <td>NaN</td>\n",
       "      <td>NaN</td>\n",
       "      <td>NaN</td>\n",
       "      <td>NaN</td>\n",
       "      <td>NaN</td>\n",
       "      <td>1B</td>\n",
       "      <td>24</td>\n",
       "      <td>23</td>\n",
       "      <td>...</td>\n",
       "      <td>0</td>\n",
       "      <td>0</td>\n",
       "      <td>3</td>\n",
       "      <td>1</td>\n",
       "      <td>86</td>\n",
       "      <td>21</td>\n",
       "      <td>2</td>\n",
       "      <td>8</td>\n",
       "      <td>13</td>\n",
       "      <td>5</td>\n",
       "    </tr>\n",
       "    <tr>\n",
       "      <th>4</th>\n",
       "      <td>allenbr01</td>\n",
       "      <td>2012.0</td>\n",
       "      <td>OAK</td>\n",
       "      <td>AL</td>\n",
       "      <td>Brandon</td>\n",
       "      <td>Allen</td>\n",
       "      <td>482500.0</td>\n",
       "      <td>O1</td>\n",
       "      <td>6</td>\n",
       "      <td>5</td>\n",
       "      <td>...</td>\n",
       "      <td>0</td>\n",
       "      <td>0</td>\n",
       "      <td>0</td>\n",
       "      <td>4</td>\n",
       "      <td>344</td>\n",
       "      <td>70</td>\n",
       "      <td>12</td>\n",
       "      <td>44</td>\n",
       "      <td>41</td>\n",
       "      <td>42</td>\n",
       "    </tr>\n",
       "  </tbody>\n",
       "</table>\n",
       "<p>5 rows × 40 columns</p>\n",
       "</div>"
      ],
      "text/plain": [
       "          id  yearid teamid lgid namefirst namelast     salary pos  g.x   gs  \\\n",
       "0  abreubo01  2012.0    LAA   AL     Bobby    Abreu  9000000.0  OF   54   50   \n",
       "1  abreuto01     NaN    NaN  NaN       NaN      NaN        NaN  23   21   17   \n",
       "2  ackledu01  2012.0    SEA   AL    Dustin   Ackley  2100000.0  12  153  147   \n",
       "3  adamsma01     NaN    NaN  NaN       NaN      NaN        NaN  1B   24   23   \n",
       "4  allenbr01  2012.0    OAK   AL   Brandon    Allen   482500.0  O1    6    5   \n",
       "\n",
       "   ...  sh  sf  gidp  years   cab    ch  chr    cr  crbi   cbb  \n",
       "0  ...   0   1     7     17  8347  2437  287  1441  1349  1456  \n",
       "1  ...   0   1     1      4   437   110    4    40    46    16  \n",
       "2  ...   1   1     3      2   940   228   18   123    86    99  \n",
       "3  ...   0   0     3      1    86    21    2     8    13     5  \n",
       "4  ...   0   0     0      4   344    70   12    44    41    42  \n",
       "\n",
       "[5 rows x 40 columns]"
      ]
     },
     "execution_count": 5,
     "metadata": {},
     "output_type": "execute_result"
    }
   ],
   "source": [
    "baseball.head()"
   ]
  },
  {
   "cell_type": "markdown",
   "metadata": {},
   "source": [
    "From the initial obsevation of the data, it is clear that the types of data needed to predict salaries will be numerical or categorical. Additionally, rows with no salary information will have no use to us. So we'll start the data cleaning process by dropping columns that don't have categorical or numerical data, and dropping rows with no salary information. The columns being dropped are 'id', 'teamid', 'yearid', 'lgid','namefirst','namelast', and 'g_batting'."
   ]
  },
  {
   "cell_type": "code",
   "execution_count": 6,
   "metadata": {},
   "outputs": [],
   "source": [
    "data = baseball.drop(columns = ['id', 'teamid', 'yearid','lgid','namefirst','namelast', 'g_batting'])\n",
    "data = data[data['salary'] > 0]"
   ]
  },
  {
   "cell_type": "markdown",
   "metadata": {},
   "source": [
    "We will now start one-hot encoding our position data. Because there are several different positions, where each one can have an impact on a player's salary, it is important for us to take that data into account, even though it's not numerical. We will create a new column for each different kind of position and for each row, the value of that column will be 1 if the player is in that position, and 0 if the player is not. Fill out the cell below to implement one-hot encoding. Remember to drop the original 'pos' column from the dataset when the one-hot encoding is complete."
   ]
  },
  {
   "cell_type": "code",
   "execution_count": 7,
   "metadata": {},
   "outputs": [],
   "source": [
    "# One-hot encoding for each of the different positions\n",
    "#Pandas Solution\n",
    "# data_one_hot = data.merge(\n",
    "#     pd.get_dummies(data['pos']),\n",
    "#      how='inner', right_index=True, left_index = True\n",
    "#     ).T.drop_duplicates().T.rename(lambda c: str(c).rsplit('_x', 1)[0], axis='columns').drop('pos', axis=1)\n",
    "\n",
    "# Solution #\n",
    "positions = np.unique(data['pos'])\n",
    "temp_array = np.array(data['pos'])\n",
    "for position in positions:\n",
    "    indicator = np.zeros(len(data['pos']))\n",
    "    for j in range(len(temp_array)):\n",
    "        if temp_array[j] == position:\n",
    "            indicator[j] = 1\n",
    "    data[position] = indicator\n",
    "# End solution #\n",
    "\n",
    "data_one_hot = data.drop(columns = ['pos'])\n"
   ]
  },
  {
   "cell_type": "markdown",
   "metadata": {},
   "source": [
    "Finally, replace all NaN values with their column mean."
   ]
  },
  {
   "cell_type": "code",
   "execution_count": 8,
   "metadata": {},
   "outputs": [],
   "source": [
    "#Solution\n",
    "cleaned = data_one_hot.fillna(data_one_hot.mean())"
   ]
  },
  {
   "cell_type": "code",
   "execution_count": 23,
   "metadata": {
    "scrolled": false
   },
   "outputs": [
    {
     "data": {
      "text/html": [
       "<div>\n",
       "<style scoped>\n",
       "    .dataframe tbody tr th:only-of-type {\n",
       "        vertical-align: middle;\n",
       "    }\n",
       "\n",
       "    .dataframe tbody tr th {\n",
       "        vertical-align: top;\n",
       "    }\n",
       "\n",
       "    .dataframe thead th {\n",
       "        text-align: right;\n",
       "    }\n",
       "</style>\n",
       "<table border=\"1\" class=\"dataframe\">\n",
       "  <thead>\n",
       "    <tr style=\"text-align: right;\">\n",
       "      <th></th>\n",
       "      <th>salary</th>\n",
       "      <th>g.x</th>\n",
       "      <th>gs</th>\n",
       "      <th>innouts</th>\n",
       "      <th>po</th>\n",
       "      <th>a</th>\n",
       "      <th>e</th>\n",
       "      <th>dp</th>\n",
       "      <th>g.y</th>\n",
       "      <th>ab</th>\n",
       "      <th>...</th>\n",
       "      <th>C1</th>\n",
       "      <th>CF</th>\n",
       "      <th>LF</th>\n",
       "      <th>O1</th>\n",
       "      <th>O2</th>\n",
       "      <th>O3</th>\n",
       "      <th>OC</th>\n",
       "      <th>OF</th>\n",
       "      <th>RF</th>\n",
       "      <th>SS</th>\n",
       "    </tr>\n",
       "  </thead>\n",
       "  <tbody>\n",
       "    <tr>\n",
       "      <th>0</th>\n",
       "      <td>9000000.0</td>\n",
       "      <td>54</td>\n",
       "      <td>50</td>\n",
       "      <td>1133</td>\n",
       "      <td>70</td>\n",
       "      <td>2</td>\n",
       "      <td>1</td>\n",
       "      <td>1</td>\n",
       "      <td>100</td>\n",
       "      <td>219</td>\n",
       "      <td>...</td>\n",
       "      <td>0.0</td>\n",
       "      <td>0.0</td>\n",
       "      <td>0.0</td>\n",
       "      <td>0.0</td>\n",
       "      <td>0.0</td>\n",
       "      <td>0.0</td>\n",
       "      <td>0.0</td>\n",
       "      <td>1.0</td>\n",
       "      <td>0.0</td>\n",
       "      <td>0.0</td>\n",
       "    </tr>\n",
       "    <tr>\n",
       "      <th>2</th>\n",
       "      <td>2100000.0</td>\n",
       "      <td>153</td>\n",
       "      <td>147</td>\n",
       "      <td>3953</td>\n",
       "      <td>289</td>\n",
       "      <td>398</td>\n",
       "      <td>8</td>\n",
       "      <td>96</td>\n",
       "      <td>153</td>\n",
       "      <td>607</td>\n",
       "      <td>...</td>\n",
       "      <td>0.0</td>\n",
       "      <td>0.0</td>\n",
       "      <td>0.0</td>\n",
       "      <td>0.0</td>\n",
       "      <td>0.0</td>\n",
       "      <td>0.0</td>\n",
       "      <td>0.0</td>\n",
       "      <td>0.0</td>\n",
       "      <td>0.0</td>\n",
       "      <td>0.0</td>\n",
       "    </tr>\n",
       "    <tr>\n",
       "      <th>4</th>\n",
       "      <td>482500.0</td>\n",
       "      <td>6</td>\n",
       "      <td>5</td>\n",
       "      <td>129</td>\n",
       "      <td>29</td>\n",
       "      <td>2</td>\n",
       "      <td>0</td>\n",
       "      <td>1</td>\n",
       "      <td>10</td>\n",
       "      <td>20</td>\n",
       "      <td>...</td>\n",
       "      <td>0.0</td>\n",
       "      <td>0.0</td>\n",
       "      <td>0.0</td>\n",
       "      <td>1.0</td>\n",
       "      <td>0.0</td>\n",
       "      <td>0.0</td>\n",
       "      <td>0.0</td>\n",
       "      <td>0.0</td>\n",
       "      <td>0.0</td>\n",
       "      <td>0.0</td>\n",
       "    </tr>\n",
       "    <tr>\n",
       "      <th>5</th>\n",
       "      <td>1400000.0</td>\n",
       "      <td>149</td>\n",
       "      <td>144</td>\n",
       "      <td>3829</td>\n",
       "      <td>1269</td>\n",
       "      <td>96</td>\n",
       "      <td>12</td>\n",
       "      <td>77</td>\n",
       "      <td>155</td>\n",
       "      <td>549</td>\n",
       "      <td>...</td>\n",
       "      <td>0.0</td>\n",
       "      <td>0.0</td>\n",
       "      <td>0.0</td>\n",
       "      <td>0.0</td>\n",
       "      <td>0.0</td>\n",
       "      <td>0.0</td>\n",
       "      <td>0.0</td>\n",
       "      <td>0.0</td>\n",
       "      <td>0.0</td>\n",
       "      <td>0.0</td>\n",
       "    </tr>\n",
       "    <tr>\n",
       "      <th>6</th>\n",
       "      <td>483000.0</td>\n",
       "      <td>147</td>\n",
       "      <td>142</td>\n",
       "      <td>3680</td>\n",
       "      <td>257</td>\n",
       "      <td>410</td>\n",
       "      <td>11</td>\n",
       "      <td>83</td>\n",
       "      <td>147</td>\n",
       "      <td>576</td>\n",
       "      <td>...</td>\n",
       "      <td>0.0</td>\n",
       "      <td>0.0</td>\n",
       "      <td>0.0</td>\n",
       "      <td>0.0</td>\n",
       "      <td>0.0</td>\n",
       "      <td>0.0</td>\n",
       "      <td>0.0</td>\n",
       "      <td>0.0</td>\n",
       "      <td>0.0</td>\n",
       "      <td>0.0</td>\n",
       "    </tr>\n",
       "    <tr>\n",
       "      <th>7</th>\n",
       "      <td>2200000.0</td>\n",
       "      <td>145</td>\n",
       "      <td>143</td>\n",
       "      <td>3819</td>\n",
       "      <td>73</td>\n",
       "      <td>264</td>\n",
       "      <td>27</td>\n",
       "      <td>23</td>\n",
       "      <td>149</td>\n",
       "      <td>525</td>\n",
       "      <td>...</td>\n",
       "      <td>0.0</td>\n",
       "      <td>0.0</td>\n",
       "      <td>0.0</td>\n",
       "      <td>0.0</td>\n",
       "      <td>0.0</td>\n",
       "      <td>0.0</td>\n",
       "      <td>0.0</td>\n",
       "      <td>0.0</td>\n",
       "      <td>0.0</td>\n",
       "      <td>0.0</td>\n",
       "    </tr>\n",
       "    <tr>\n",
       "      <th>8</th>\n",
       "      <td>481000.0</td>\n",
       "      <td>107</td>\n",
       "      <td>64</td>\n",
       "      <td>1783</td>\n",
       "      <td>120</td>\n",
       "      <td>128</td>\n",
       "      <td>4</td>\n",
       "      <td>22</td>\n",
       "      <td>106</td>\n",
       "      <td>275</td>\n",
       "      <td>...</td>\n",
       "      <td>0.0</td>\n",
       "      <td>0.0</td>\n",
       "      <td>0.0</td>\n",
       "      <td>0.0</td>\n",
       "      <td>0.0</td>\n",
       "      <td>0.0</td>\n",
       "      <td>0.0</td>\n",
       "      <td>0.0</td>\n",
       "      <td>0.0</td>\n",
       "      <td>0.0</td>\n",
       "    </tr>\n",
       "    <tr>\n",
       "      <th>11</th>\n",
       "      <td>1300000.0</td>\n",
       "      <td>127</td>\n",
       "      <td>107</td>\n",
       "      <td>3036</td>\n",
       "      <td>195</td>\n",
       "      <td>306</td>\n",
       "      <td>13</td>\n",
       "      <td>71</td>\n",
       "      <td>127</td>\n",
       "      <td>384</td>\n",
       "      <td>...</td>\n",
       "      <td>0.0</td>\n",
       "      <td>0.0</td>\n",
       "      <td>0.0</td>\n",
       "      <td>0.0</td>\n",
       "      <td>0.0</td>\n",
       "      <td>0.0</td>\n",
       "      <td>0.0</td>\n",
       "      <td>0.0</td>\n",
       "      <td>0.0</td>\n",
       "      <td>0.0</td>\n",
       "    </tr>\n",
       "    <tr>\n",
       "      <th>12</th>\n",
       "      <td>2625000.0</td>\n",
       "      <td>153</td>\n",
       "      <td>150</td>\n",
       "      <td>3999</td>\n",
       "      <td>233</td>\n",
       "      <td>414</td>\n",
       "      <td>16</td>\n",
       "      <td>91</td>\n",
       "      <td>158</td>\n",
       "      <td>629</td>\n",
       "      <td>...</td>\n",
       "      <td>0.0</td>\n",
       "      <td>0.0</td>\n",
       "      <td>0.0</td>\n",
       "      <td>0.0</td>\n",
       "      <td>0.0</td>\n",
       "      <td>0.0</td>\n",
       "      <td>0.0</td>\n",
       "      <td>0.0</td>\n",
       "      <td>0.0</td>\n",
       "      <td>1.0</td>\n",
       "    </tr>\n",
       "    <tr>\n",
       "      <th>13</th>\n",
       "      <td>1250000.0</td>\n",
       "      <td>62</td>\n",
       "      <td>37</td>\n",
       "      <td>1146</td>\n",
       "      <td>115</td>\n",
       "      <td>2</td>\n",
       "      <td>2</td>\n",
       "      <td>0</td>\n",
       "      <td>68</td>\n",
       "      <td>158</td>\n",
       "      <td>...</td>\n",
       "      <td>0.0</td>\n",
       "      <td>1.0</td>\n",
       "      <td>0.0</td>\n",
       "      <td>0.0</td>\n",
       "      <td>0.0</td>\n",
       "      <td>0.0</td>\n",
       "      <td>0.0</td>\n",
       "      <td>0.0</td>\n",
       "      <td>0.0</td>\n",
       "      <td>0.0</td>\n",
       "    </tr>\n",
       "  </tbody>\n",
       "</table>\n",
       "<p>10 rows × 52 columns</p>\n",
       "</div>"
      ],
      "text/plain": [
       "       salary  g.x   gs  innouts    po    a   e  dp  g.y   ab  ...   C1   CF  \\\n",
       "0   9000000.0   54   50     1133    70    2   1   1  100  219  ...  0.0  0.0   \n",
       "2   2100000.0  153  147     3953   289  398   8  96  153  607  ...  0.0  0.0   \n",
       "4    482500.0    6    5      129    29    2   0   1   10   20  ...  0.0  0.0   \n",
       "5   1400000.0  149  144     3829  1269   96  12  77  155  549  ...  0.0  0.0   \n",
       "6    483000.0  147  142     3680   257  410  11  83  147  576  ...  0.0  0.0   \n",
       "7   2200000.0  145  143     3819    73  264  27  23  149  525  ...  0.0  0.0   \n",
       "8    481000.0  107   64     1783   120  128   4  22  106  275  ...  0.0  0.0   \n",
       "11  1300000.0  127  107     3036   195  306  13  71  127  384  ...  0.0  0.0   \n",
       "12  2625000.0  153  150     3999   233  414  16  91  158  629  ...  0.0  0.0   \n",
       "13  1250000.0   62   37     1146   115    2   2   0   68  158  ...  0.0  1.0   \n",
       "\n",
       "     LF   O1   O2   O3   OC   OF   RF   SS  \n",
       "0   0.0  0.0  0.0  0.0  0.0  1.0  0.0  0.0  \n",
       "2   0.0  0.0  0.0  0.0  0.0  0.0  0.0  0.0  \n",
       "4   0.0  1.0  0.0  0.0  0.0  0.0  0.0  0.0  \n",
       "5   0.0  0.0  0.0  0.0  0.0  0.0  0.0  0.0  \n",
       "6   0.0  0.0  0.0  0.0  0.0  0.0  0.0  0.0  \n",
       "7   0.0  0.0  0.0  0.0  0.0  0.0  0.0  0.0  \n",
       "8   0.0  0.0  0.0  0.0  0.0  0.0  0.0  0.0  \n",
       "11  0.0  0.0  0.0  0.0  0.0  0.0  0.0  0.0  \n",
       "12  0.0  0.0  0.0  0.0  0.0  0.0  0.0  1.0  \n",
       "13  0.0  0.0  0.0  0.0  0.0  0.0  0.0  0.0  \n",
       "\n",
       "[10 rows x 52 columns]"
      ]
     },
     "execution_count": 23,
     "metadata": {},
     "output_type": "execute_result"
    }
   ],
   "source": [
    "# Cleaned data from one-hot encoding the positions. \n",
    "cleaned.head(10)"
   ]
  },
  {
   "cell_type": "markdown",
   "metadata": {},
   "source": [
    "## Part 2: Linear Regression, SVD, and PCA"
   ]
  },
  {
   "cell_type": "markdown",
   "metadata": {},
   "source": [
    "Now that the data is cleaned, we can explore different techniques that can be used to predict the different salaries. We will also examine how well each technique performs in salary prediction, and intuition behind each technique.\n",
    "\n",
    "First, we split the data into the set of features and the value that is being predicted, which are the salaries. "
   ]
  },
  {
   "cell_type": "code",
   "execution_count": 10,
   "metadata": {},
   "outputs": [],
   "source": [
    "X, y = cleaned.drop(columns=['salary'], axis=1), cleaned['salary']"
   ]
  },
  {
   "cell_type": "markdown",
   "metadata": {},
   "source": [
    "### 2a. Linear Regression"
   ]
  },
  {
   "cell_type": "markdown",
   "metadata": {},
   "source": [
    "Linear regression is one of the easiest methods to make a predictive model. \\\n",
    "It is a linear method that models the relationship between one or more features (independent variables)\n",
    "and an outcome variable (dependent variable). Least squares is a common method within linear regression \n",
    "that finds the feature weights that will lead to the best-fit linear regression model. The formula for\n",
    "Least Squares is $y = \\mathbf{X}w$, where $y$ is our outcome, $\\mathbf{X}$ is our set of features, and \n",
    "$w$ is the weight for each feature. The weights can be calculated using the formula \n",
    "$\\textbf{w} = (\\mathbf{X}^{T}\\mathbf{X})^{-1}\\mathbf{X}^{T}y$. \n",
    "\n",
    "Fill out the cell below to implement the least squares function that returns the weights given by the above formula. You may not use sklearn or NumPy's built-in least squares function for this."
   ]
  },
  {
   "cell_type": "code",
   "execution_count": 11,
   "metadata": {},
   "outputs": [],
   "source": [
    "def least_squares(features, prediction):\n",
    "    # YOUR CODE HERE #\n",
    "    # Solution #\n",
    "    return np.linalg.inv(features.T @ features) @ features.T @ prediction\n",
    "    # End solution #"
   ]
  },
  {
   "cell_type": "markdown",
   "metadata": {},
   "source": [
    "Now run your <code>least_squares</code> function on the data above, and calculate the MSE for the data. Hint: use <code>np.matrix</code>"
   ]
  },
  {
   "cell_type": "code",
   "execution_count": 169,
   "metadata": {},
   "outputs": [
    {
     "data": {
      "text/plain": [
       "2699272.5784772914"
      ]
     },
     "execution_count": 169,
     "metadata": {},
     "output_type": "execute_result"
    }
   ],
   "source": [
    "weights = least_squares(X, y)\n",
    "# Solution #\n",
    "mse_linear_reg = np.mean((y - np.matrix(X)@weights)**2) ** 0.5\n",
    "# End solution #\n",
    "mse_linear_reg"
   ]
  },
  {
   "cell_type": "markdown",
   "metadata": {},
   "source": [
    "We will now explore some methods to see how they affect the MSE, starting with PCA below."
   ]
  },
  {
   "cell_type": "markdown",
   "metadata": {},
   "source": [
    "### 2b. Singular Value Decomposition (SVD)"
   ]
  },
  {
   "cell_type": "markdown",
   "metadata": {},
   "source": [
    "Singular Value Decomposition (SVD) is a method used to decompose an $m x n$ matrix $A$ into the form $UDV^T$, where $U$ is $mxm$, $D$ is $mxn$ and $V^T$ is $nxn$. In order to find the SVD, find the eigenvalue/vector pairs of $A^TA$, and then take the square roots of the eigenvalues to get the singular values of A. Finally, sort the singular values in descending order, and have the corresponding eigenvectors match that sorted order. Then find the eigenvectors of $AA^T$ using the singular values. Then normalize the eigenvectors of $A^TA$ to get the $V$ matrix, insert the sorted singular values into a zero-padded diagonal matrix $D$, and then normalize the eigenvectors of $AA^T$ to get the $U$ matrix.\n",
    "\n",
    "First, fill out the following cell to plot the singular values of the cleaned dataset. Hint: <code>np.linalg.svd</code> might be useful"
   ]
  },
  {
   "cell_type": "code",
   "execution_count": 244,
   "metadata": {},
   "outputs": [
    {
     "data": {
      "text/plain": [
       "Text(0, 0.5, 'Magnitude')"
      ]
     },
     "execution_count": 244,
     "metadata": {},
     "output_type": "execute_result"
    },
    {
     "data": {
      "image/png": "[encoded data removed]",
      "text/plain": [
       "<Figure size 720x432 with 1 Axes>"
      ]
     },
     "metadata": {
      "needs_background": "light"
     },
     "output_type": "display_data"
    }
   ],
   "source": [
    "# Solution #\n",
    "singular_values = np.linalg.svd(X)[1]\n",
    "x_labels = range(len(singular_values))\n",
    "# End solution #\n",
    "# The y axis is on a log scale to better see the difference in sizes between the eigenvalues\n",
    "plt.figure(figsize=[10, 6])\n",
    "plt.yscale(\"log\")\n",
    "plt.scatter(x_labels, singular_values)\n",
    "plt.title(\"Singular values of the cleaned dataset\")\n",
    "plt.xlabel(\"Singular value index\")\n",
    "plt.ylabel(\"Magnitude\")"
   ]
  },
  {
   "cell_type": "markdown",
   "metadata": {},
   "source": [
    "Now fill out the following cell to implement <code>svd_manual</code>. You may not use <code>np.linalg.svd</code>"
   ]
  },
  {
   "cell_type": "code",
   "execution_count": 243,
   "metadata": {},
   "outputs": [],
   "source": [
    "# Helper function that returns the matrix with singular values on the diagonal and zeros elsewhere\n",
    "def get_diag(rows, cols, values):\n",
    "    mat = np.zeros((rows, cols))\n",
    "    index = 0\n",
    "    for i in values:\n",
    "        mat[index][index] = i\n",
    "        index += 1\n",
    "    return mat\n",
    "\n",
    "# Computes the SVD of matrix X\n",
    "def svd_manual(X):\n",
    "    # Solution #\n",
    "    X_trans_X = X.T@X\n",
    "    X_X_trans = X@X.T\n",
    "    V = np.linalg.eig(X_X_trans)[1]\n",
    "    singular_values, U = np.linalg.eig(X_trans_X)\n",
    "    singular_values = singular_values ** 0.5\n",
    "    D = get_diag(len(U), len(V), singular_values)\n",
    "    # End Solution #\n",
    "    # If the number of rows is greater than the number of columns, transpose the matrices before returning #\n",
    "    if (len(X) > len(X[0])):\n",
    "        U, D, V = V.T, D.T, U.T\n",
    "    return U, D, V\n",
    "\n",
    "u, d, v_t = svd_manual(np.array(X))"
   ]
  },
  {
   "cell_type": "markdown",
   "metadata": {},
   "source": [
    "Now we will see what happens when only the first $k$ singular values are used to approximate the original matrix. As seen in the plot above, the magnitude of the singualr levels off after only a few of them. As a result, the approximation of the original matrix of only a few singular values may not be far off from an approximation using most of the singular values. In fact, when approximating a matrix A with a rank-k matrix $A_k$, the Eckart–Young–Mirsky theorem states that for a matrix $A = UDV^T$ with rank r, for any integer k, where $0\\leq k\\leq r$, the best rank-k approximation of $A$ is $A_k = \\sum_{i=1}^{k} \\sigma_i u_i v_i^T$, where $u_i$ and $v_i$ denote the $i$th columns of $\\textbf{U}$ and $\\textbf{V}$, respectively. \n",
    "\n",
    "Fill out the cell below to implement <code>svd_k_approx</code>. You may use <code>np.linalg.svd</code> in your solution."
   ]
  },
  {
   "cell_type": "code",
   "execution_count": 231,
   "metadata": {},
   "outputs": [],
   "source": [
    "# Returns the best rank-k approximation of X\n",
    "def svd_k_approx(X, k):\n",
    "    # if the rank of X is less than or equal to k, return X\n",
    "    if np.linalg.matrix_rank(X) <= k:\n",
    "        return X\n",
    "    else:\n",
    "        # Solution #\n",
    "        U, D, V = np.linalg.svd(X)\n",
    "        diag = get_diag(k, k, D[:k])\n",
    "        k_approx = U[:, :k]@diag@V[:k, :]\n",
    "        return k_approx\n",
    "        # End Solution #"
   ]
  },
  {
   "cell_type": "markdown",
   "metadata": {},
   "source": [
    "While SVD can make use of the singular values with the greatest influence, in the next part, we will look at how PCA makes use of the directions with the greatest influence."
   ]
  },
  {
   "cell_type": "markdown",
   "metadata": {},
   "source": [
    "### 2c. Principal Component Analysis (PCA)"
   ]
  },
  {
   "cell_type": "markdown",
   "metadata": {},
   "source": [
    "Principal Component Analysis (PCA) is a method that makes use of the \"orthogonal directions\" that have the most influence on a dataset. It is useful because often only a few components are needed in order to make accurate predictions while components with less weight are barely influential.\n",
    "\n",
    "To implement PCA, it it important to first scale the features, in order for certain features to not overpower other features. Next, the mean vector is calculated using the formula $\\textbf{m} =\\frac{1}{n}\\sum_{i=1}^{n} x_i$. Next, calculate the scatter matrix, which is $S = \\sum_{i=1}^{n} (x_i - \\textbf{m})(x_i - \\textbf{m})^T$. Then find the eigenvalues and vectors of the scatter matrix, take the first num_components of the eigenvectors, and calculate the projection matrix using those eigenvectors and the scaled matrix. Finally, perform linear regression with the projection matrix.\n",
    "\n",
    "Fill out the cell below to calculate the MSE for linear regresion with `num_components` features. You may only use <code>numpy</code> and not <code>PCA</code> or <code>LinearRegression</code> in this part of your solution."
   ]
  },
  {
   "cell_type": "code",
   "execution_count": 228,
   "metadata": {},
   "outputs": [],
   "source": [
    "def pca(features, preds, num_components):\n",
    "    # First, the features are scaled since no feature is more important \n",
    "    scaled = StandardScaler().fit_transform(features)\n",
    "    mean_vector = np.zeros(51)\n",
    "    \n",
    "    # YOUR CODE HERE #\n",
    "    # Solution#\n",
    "    for i in range(len(features.iloc[0, :])):\n",
    "        mean_vector[i] = np.mean(features.iloc[:, i])\n",
    "    scatter_matrix = np.zeros((51, 51))\n",
    "    for i in range(features.shape[1]):\n",
    "        scatter_matrix += (scaled[i] - mean_vector)@((scaled[i] - mean_vector).T)\n",
    "    cov_matrix = np.cov(scaled)\n",
    "    eigenvalues, eigenvectors = np.linalg.eig(scatter_matrix)\n",
    "    \n",
    "    # This line is included to account for slight complex values being included in the scatter matrix calculations\n",
    "    eigenvectors = eigenvectors.real\n",
    "    \n",
    "    proj_matrix = eigenvectors.T[0:num_components]\n",
    "    proj_data = scaled@proj_matrix.T\n",
    "    reg = LinearRegression().fit(proj_data, preds)\n",
    "    mse = np.mean((reg.predict(proj_data) - preds)**2) ** 0.5\n",
    "    return mse\n",
    "    # End Solution #"
   ]
  },
  {
   "cell_type": "markdown",
   "metadata": {},
   "source": [
    "Fill out the following cells below to find the MSE using PCA with linear regression for 2, 5, and 8 components."
   ]
  },
  {
   "cell_type": "code",
   "execution_count": 229,
   "metadata": {},
   "outputs": [
    {
     "data": {
      "text/plain": [
       "3654226.6699677957"
      ]
     },
     "execution_count": 229,
     "metadata": {},
     "output_type": "execute_result"
    }
   ],
   "source": [
    "pca(X, y, 2)"
   ]
  },
  {
   "cell_type": "code",
   "execution_count": 15,
   "metadata": {},
   "outputs": [
    {
     "data": {
      "text/plain": [
       "3610108.431577425"
      ]
     },
     "execution_count": 15,
     "metadata": {},
     "output_type": "execute_result"
    }
   ],
   "source": [
    "pca(X, y, 5)"
   ]
  },
  {
   "cell_type": "code",
   "execution_count": 16,
   "metadata": {
    "scrolled": false
   },
   "outputs": [
    {
     "data": {
      "text/plain": [
       "3587433.017884171"
      ]
     },
     "execution_count": 16,
     "metadata": {},
     "output_type": "execute_result"
    }
   ],
   "source": [
    "pca(X, y, 8)"
   ]
  },
  {
   "cell_type": "markdown",
   "metadata": {},
   "source": [
    "What number of components had the smallest MSE? Does increasing the number of components lower the MSE, or does it increase after a certain amount of components? Will PCA ever produce a MSE lower that that of using linear regression alone?"
   ]
  },
  {
   "cell_type": "code",
   "execution_count": 216,
   "metadata": {},
   "outputs": [],
   "source": [
    "# Solution: 8 components had the smallest MSE. Increasing the number of components lowered the MSE. No it will not. #"
   ]
  },
  {
   "cell_type": "markdown",
   "metadata": {},
   "source": [
    "Now use the <code>PCA</code> and `LinearRegression()` modules from <code>sklearn</code> to check your implementation of PCA. First, we'll write a function to calculate MSE from an OLS model with `num_components` number of features."
   ]
  },
  {
   "cell_type": "code",
   "execution_count": 17,
   "metadata": {},
   "outputs": [],
   "source": [
    "def sklearn_PCA(features, preds, num_components):\n",
    "    # SOLUTION\n",
    "    pca = PCA(n_components=num_components)\n",
    "    pca.fit(features, preds)\n",
    "    pca_X = pca.transform(features)\n",
    "    reg = LinearRegression().fit(pca_X, preds)\n",
    "    return np.mean((reg.predict(pca_X) - preds)**2) ** 0.5"
   ]
  },
  {
   "cell_type": "markdown",
   "metadata": {},
   "source": [
    "In the following 3 cells, run this function with 2, 5, and 8 features."
   ]
  },
  {
   "cell_type": "code",
   "execution_count": 18,
   "metadata": {},
   "outputs": [
    {
     "data": {
      "text/plain": [
       "3504538.537484557"
      ]
     },
     "execution_count": 18,
     "metadata": {},
     "output_type": "execute_result"
    }
   ],
   "source": [
    "sklearn_PCA(X, y, 2)"
   ]
  },
  {
   "cell_type": "code",
   "execution_count": 19,
   "metadata": {},
   "outputs": [
    {
     "data": {
      "text/plain": [
       "3339477.135289231"
      ]
     },
     "execution_count": 19,
     "metadata": {},
     "output_type": "execute_result"
    }
   ],
   "source": [
    "sklearn_PCA(X, y, 5)"
   ]
  },
  {
   "cell_type": "code",
   "execution_count": 20,
   "metadata": {},
   "outputs": [
    {
     "data": {
      "text/plain": [
       "3095173.409120575"
      ]
     },
     "execution_count": 20,
     "metadata": {},
     "output_type": "execute_result"
    }
   ],
   "source": [
    "sklearn_PCA(X, y, 8)"
   ]
  },
  {
   "cell_type": "markdown",
   "metadata": {},
   "source": [
    "Now, graph the number of components, versus the MSE, for PCA."
   ]
  },
  {
   "cell_type": "code",
   "execution_count": 217,
   "metadata": {},
   "outputs": [
    {
     "data": {
      "text/plain": [
       "Text(0.5, 1.0, 'Number of PCA components vs. MSE')"
      ]
     },
     "execution_count": 217,
     "metadata": {},
     "output_type": "execute_result"
    },
    {
     "data": {
      "image/png": "[encoded data removed]",
      "text/plain": [
       "<Figure size 432x288 with 1 Axes>"
      ]
     },
     "metadata": {
      "needs_background": "light"
     },
     "output_type": "display_data"
    }
   ],
   "source": [
    "X_plot = [i for i in range(1, X.shape[1])]\n",
    "Y_plot = []\n",
    "for i in X_plot:\n",
    "    pca_i = PCA(n_components=i)\n",
    "    pca_i.fit(X, y)\n",
    "    pca_i_X = pca_i.transform(X)\n",
    "    reg_i = LinearRegression().fit(pca_i_X, y)\n",
    "    Y_plot.append(np.mean((reg_i.predict(pca_i_X) - y)**2) ** 0.5)\n",
    "plt.plot(X_plot, Y_plot)\n",
    "plt.xlabel(\"Number of components\")\n",
    "plt.ylabel(\"MSE\")\n",
    "plt.title(\"Number of PCA components vs. MSE\")"
   ]
  },
  {
   "cell_type": "markdown",
   "metadata": {},
   "source": [
    "Fill out the cell below with your observations:"
   ]
  },
  {
   "cell_type": "code",
   "execution_count": 167,
   "metadata": {},
   "outputs": [],
   "source": [
    "# Solution: as the number of components increases, the MSE decreases. #"
   ]
  },
  {
   "cell_type": "markdown",
   "metadata": {},
   "source": [
    "## Part 3: Noisy Data"
   ]
  },
  {
   "cell_type": "markdown",
   "metadata": {},
   "source": [
    "In the previous part, we saw observations from Linear Regression, PCA, and CCA on a dataset that has not been affected by noise. We will now observe what happens when our salary column has noise added to it, and how the accuracy of our predictions are affected by it."
   ]
  },
  {
   "cell_type": "markdown",
   "metadata": {},
   "source": [
    "First, run the cell below to generate noised predictions. The <code>utils.noised_predictions</code> is a black box function that will randomly add noise to our salary column using a random Gaussian variable, which is a random variable with mean $\\mu$ and standard deviation $\\sigma$. It has the probability density function $f(x) = \\frac{1}{\\sigma \\sqrt{2\\pi}}e^{\\frac{-1}{2}(\\frac{(x - \\mu)}{\\sigma})^2}$"
   ]
  },
  {
   "cell_type": "code",
   "execution_count": 171,
   "metadata": {},
   "outputs": [
    {
     "data": {
      "text/plain": [
       "0      8.965242e+06\n",
       "2      2.080099e+06\n",
       "4      4.777032e+05\n",
       "5      1.333533e+06\n",
       "6      5.032977e+05\n",
       "           ...     \n",
       "621    6.769292e+06\n",
       "622    4.729784e+05\n",
       "624    1.620045e+07\n",
       "625    1.203471e+07\n",
       "626    4.678236e+06\n",
       "Name: salary, Length: 421, dtype: float64"
      ]
     },
     "execution_count": 171,
     "metadata": {},
     "output_type": "execute_result"
    }
   ],
   "source": [
    "y_noise = utils.noised_predictions(cleaned)\n",
    "y_noise"
   ]
  },
  {
   "cell_type": "markdown",
   "metadata": {},
   "source": [
    "### 3a. Noisy PCA"
   ]
  },
  {
   "cell_type": "markdown",
   "metadata": {},
   "source": [
    "Use `sklearn_PCA` with your noisy predictions and 2, 5, and 8 of the features from the original dataset. How does adding noise to the salary column change the MSE?"
   ]
  },
  {
   "cell_type": "code",
   "execution_count": 174,
   "metadata": {},
   "outputs": [
    {
     "data": {
      "text/plain": [
       "3504119.494205643"
      ]
     },
     "execution_count": 174,
     "metadata": {},
     "output_type": "execute_result"
    }
   ],
   "source": [
    "# PCA with 2 components #\n",
    "# YOUR CODE HERE #\n",
    "\n",
    "# Solution #\n",
    "sklearn_PCA(X, y_noise, 2)\n",
    "# End solution #"
   ]
  },
  {
   "cell_type": "code",
   "execution_count": 175,
   "metadata": {},
   "outputs": [
    {
     "data": {
      "text/plain": [
       "3339298.2435250105"
      ]
     },
     "execution_count": 175,
     "metadata": {},
     "output_type": "execute_result"
    }
   ],
   "source": [
    "# PCA with 5 components #\n",
    "# YOUR CODE HERE #\n",
    "\n",
    "# Solution #\n",
    "sklearn_PCA(X, y_noise, 5)\n",
    "# End solution #"
   ]
  },
  {
   "cell_type": "code",
   "execution_count": 176,
   "metadata": {},
   "outputs": [
    {
     "data": {
      "text/plain": [
       "3094768.3794993022"
      ]
     },
     "execution_count": 176,
     "metadata": {},
     "output_type": "execute_result"
    }
   ],
   "source": [
    "# PCA with 8 components #\n",
    "# YOUR CODE HERE #\n",
    "\n",
    "# Solution #\n",
    "sklearn_PCA(X, y_noise, 8)\n",
    "# End solution #"
   ]
  },
  {
   "cell_type": "markdown",
   "metadata": {},
   "source": [
    "Now, graph the number of components, versus the MSE, for the noisy PCA."
   ]
  },
  {
   "cell_type": "code",
   "execution_count": 177,
   "metadata": {},
   "outputs": [
    {
     "data": {
      "text/plain": [
       "Text(0.5, 1.0, 'Number of PCA components vs. Noisy MSE')"
      ]
     },
     "execution_count": 177,
     "metadata": {},
     "output_type": "execute_result"
    },
    {
     "data": {
      "image/png": "[encoded data removed]",
      "text/plain": [
       "<Figure size 432x288 with 1 Axes>"
      ]
     },
     "metadata": {
      "needs_background": "light"
     },
     "output_type": "display_data"
    }
   ],
   "source": [
    "X_plot = [i for i in range(1, X.shape[1])]\n",
    "Y_plot = []\n",
    "for i in X_plot:\n",
    "    pca_i = PCA(n_components=i)\n",
    "    pca_i.fit(X, y_noise)\n",
    "    pca_i_X = pca_i.transform(X)\n",
    "    reg_i = LinearRegression().fit(pca_i_X, y_noise)\n",
    "    Y_plot.append(np.mean((reg_i.predict(pca_i_X) - y_noise)**2) ** 0.5)\n",
    "plt.plot(X_plot, Y_plot)\n",
    "plt.xlabel(\"Number of components\")\n",
    "plt.ylabel(\"MSE\")\n",
    "plt.title(\"Number of PCA components vs. Noisy MSE\")"
   ]
  },
  {
   "cell_type": "markdown",
   "metadata": {},
   "source": [
    "Fill out the cell below with your observations. How does adding noise to the salary column change the MSE? How does this plot compare to that of the PCA plot without noise?"
   ]
  },
  {
   "cell_type": "code",
   "execution_count": 179,
   "metadata": {},
   "outputs": [],
   "source": [
    "# Solution: Like the non-noised PCA plot, as the number of components increases, the MSE decreases. #\n",
    "# The MSE values are slightly different, but the overall plot shape is pretty similar. #"
   ]
  },
  {
   "cell_type": "markdown",
   "metadata": {},
   "source": [
    "## Part 4: Dirty Data and CCA\n",
    "In industry contexts, you will often rely on remote data that has been collected in some black box form. This section will work through the process of uncovering this data and cleaning it. The following call creates a `hw.db` file in the same directory as this notebook. "
   ]
  },
  {
   "cell_type": "code",
   "execution_count": 138,
   "metadata": {},
   "outputs": [],
   "source": [
    "utils.make_db('baseball_data.csv')"
   ]
  },
  {
   "cell_type": "markdown",
   "metadata": {},
   "source": [
    "### 4a. Cleaning the dirty data"
   ]
  },
  {
   "cell_type": "markdown",
   "metadata": {},
   "source": [
    "We now have a SQLite DB we can access. Connect to this database and create a pandas DataFrame from the table within it."
   ]
  },
  {
   "cell_type": "code",
   "execution_count": 139,
   "metadata": {},
   "outputs": [],
   "source": [
    "import sqlite3\n",
    "#SOLUTION\n",
    "dirty_data = pd.read_sql(\"SELECT * FROM df\", con=sqlite3.connect('hw.db'))"
   ]
  },
  {
   "cell_type": "markdown",
   "metadata": {},
   "source": [
    "Let's explore this data:"
   ]
  },
  {
   "cell_type": "code",
   "execution_count": 140,
   "metadata": {
    "scrolled": true
   },
   "outputs": [
    {
     "data": {
      "text/html": [
       "<div>\n",
       "<style scoped>\n",
       "    .dataframe tbody tr th:only-of-type {\n",
       "        vertical-align: middle;\n",
       "    }\n",
       "\n",
       "    .dataframe tbody tr th {\n",
       "        vertical-align: top;\n",
       "    }\n",
       "\n",
       "    .dataframe thead th {\n",
       "        text-align: right;\n",
       "    }\n",
       "</style>\n",
       "<table border=\"1\" class=\"dataframe\">\n",
       "  <thead>\n",
       "    <tr style=\"text-align: right;\">\n",
       "      <th></th>\n",
       "      <th>index</th>\n",
       "      <th>'LGID'</th>\n",
       "      <th>g.y</th>\n",
       "      <th>pos</th>\n",
       "      <th>X2B</th>\n",
       "      <th>cbb</th>\n",
       "      <th>NAMEFIRST</th>\n",
       "      <th>SO</th>\n",
       "      <th>ibb</th>\n",
       "      <th>sb</th>\n",
       "      <th>...</th>\n",
       "      <th>teamid</th>\n",
       "      <th>SF</th>\n",
       "      <th>'chr'</th>\n",
       "      <th>cab</th>\n",
       "      <th>sh</th>\n",
       "      <th>rbi</th>\n",
       "      <th>'po'</th>\n",
       "      <th>HBP</th>\n",
       "      <th>'r'</th>\n",
       "      <th>e</th>\n",
       "    </tr>\n",
       "  </thead>\n",
       "  <tbody>\n",
       "    <tr>\n",
       "      <th>0</th>\n",
       "      <td>36</td>\n",
       "      <td>NL</td>\n",
       "      <td>151.0</td>\n",
       "      <td>OF</td>\n",
       "      <td>26</td>\n",
       "      <td>896.0</td>\n",
       "      <td>Carlos</td>\n",
       "      <td>124</td>\n",
       "      <td>None</td>\n",
       "      <td>NaN</td>\n",
       "      <td>...</td>\n",
       "      <td>SLN</td>\n",
       "      <td>4.0</td>\n",
       "      <td>334.0</td>\n",
       "      <td>7314.0</td>\n",
       "      <td>None</td>\n",
       "      <td>97.0</td>\n",
       "      <td>221.0</td>\n",
       "      <td>2.0</td>\n",
       "      <td>83.0</td>\n",
       "      <td>2.0</td>\n",
       "    </tr>\n",
       "    <tr>\n",
       "      <th>1</th>\n",
       "      <td>46</td>\n",
       "      <td>NL</td>\n",
       "      <td>21.0</td>\n",
       "      <td>C</td>\n",
       "      <td>3</td>\n",
       "      <td>240.0</td>\n",
       "      <td>Henry</td>\n",
       "      <td>18</td>\n",
       "      <td>0</td>\n",
       "      <td>NaN</td>\n",
       "      <td>...</td>\n",
       "      <td>ARI</td>\n",
       "      <td>0.0</td>\n",
       "      <td>69.0</td>\n",
       "      <td>2627.0</td>\n",
       "      <td>0</td>\n",
       "      <td>7.0</td>\n",
       "      <td>141.0</td>\n",
       "      <td>0.0</td>\n",
       "      <td>6.0</td>\n",
       "      <td>2.0</td>\n",
       "    </tr>\n",
       "    <tr>\n",
       "      <th>2</th>\n",
       "      <td>11</td>\n",
       "      <td>AL</td>\n",
       "      <td>127.0</td>\n",
       "      <td>23</td>\n",
       "      <td>13</td>\n",
       "      <td>106.0</td>\n",
       "      <td>None</td>\n",
       "      <td>100</td>\n",
       "      <td>None</td>\n",
       "      <td>5.0</td>\n",
       "      <td>...</td>\n",
       "      <td>None</td>\n",
       "      <td>1.0</td>\n",
       "      <td>18.0</td>\n",
       "      <td>1244.0</td>\n",
       "      <td>7</td>\n",
       "      <td>28.0</td>\n",
       "      <td>195.0</td>\n",
       "      <td>NaN</td>\n",
       "      <td>41.0</td>\n",
       "      <td>13.0</td>\n",
       "    </tr>\n",
       "    <tr>\n",
       "      <th>3</th>\n",
       "      <td>406</td>\n",
       "      <td>NL</td>\n",
       "      <td>156.0</td>\n",
       "      <td>12</td>\n",
       "      <td>40</td>\n",
       "      <td>116.0</td>\n",
       "      <td>None</td>\n",
       "      <td>82</td>\n",
       "      <td>5</td>\n",
       "      <td>10.0</td>\n",
       "      <td>...</td>\n",
       "      <td>NYN</td>\n",
       "      <td>4.0</td>\n",
       "      <td>26.0</td>\n",
       "      <td>1601.0</td>\n",
       "      <td>0</td>\n",
       "      <td>65.0</td>\n",
       "      <td>274.0</td>\n",
       "      <td>NaN</td>\n",
       "      <td>NaN</td>\n",
       "      <td>15.0</td>\n",
       "    </tr>\n",
       "    <tr>\n",
       "      <th>4</th>\n",
       "      <td>239</td>\n",
       "      <td>AL</td>\n",
       "      <td>105.0</td>\n",
       "      <td>13</td>\n",
       "      <td>16</td>\n",
       "      <td>172.0</td>\n",
       "      <td>Jack</td>\n",
       "      <td>63</td>\n",
       "      <td>0</td>\n",
       "      <td>0.0</td>\n",
       "      <td>...</td>\n",
       "      <td>CLE</td>\n",
       "      <td>1.0</td>\n",
       "      <td>28.0</td>\n",
       "      <td>1463.0</td>\n",
       "      <td>1</td>\n",
       "      <td>NaN</td>\n",
       "      <td>76.0</td>\n",
       "      <td>2.0</td>\n",
       "      <td>23.0</td>\n",
       "      <td>14.0</td>\n",
       "    </tr>\n",
       "  </tbody>\n",
       "</table>\n",
       "<p>5 rows × 41 columns</p>\n",
       "</div>"
      ],
      "text/plain": [
       "   index 'LGID'    g.y pos X2B    cbb NAMEFIRST   SO   ibb    sb  ...  teamid  \\\n",
       "0     36     NL  151.0  OF  26  896.0    Carlos  124  None   NaN  ...     SLN   \n",
       "1     46     NL   21.0   C   3  240.0     Henry   18     0   NaN  ...     ARI   \n",
       "2     11     AL  127.0  23  13  106.0      None  100  None   5.0  ...    None   \n",
       "3    406     NL  156.0  12  40  116.0      None   82     5  10.0  ...     NYN   \n",
       "4    239     AL  105.0  13  16  172.0      Jack   63     0   0.0  ...     CLE   \n",
       "\n",
       "    SF  'chr'     cab    sh   rbi   'po'  HBP   'r'     e  \n",
       "0  4.0  334.0  7314.0  None  97.0  221.0  2.0  83.0   2.0  \n",
       "1  0.0   69.0  2627.0     0   7.0  141.0  0.0   6.0   2.0  \n",
       "2  1.0   18.0  1244.0     7  28.0  195.0  NaN  41.0  13.0  \n",
       "3  4.0   26.0  1601.0     0  65.0  274.0  NaN   NaN  15.0  \n",
       "4  1.0   28.0  1463.0     1   NaN   76.0  2.0  23.0  14.0  \n",
       "\n",
       "[5 rows x 41 columns]"
      ]
     },
     "execution_count": 140,
     "metadata": {},
     "output_type": "execute_result"
    }
   ],
   "source": [
    "dirty_data.head()"
   ]
  },
  {
   "cell_type": "markdown",
   "metadata": {},
   "source": [
    "As you can see, this data has several issues: there are nan values, duplicate rows, column name changes, and data format changes. Let's clean this data!\n",
    "\n",
    "First, let's standardize the column labels. (Hint: how can we create a predictable format invariant to the headers' current form?)"
   ]
  },
  {
   "cell_type": "code",
   "execution_count": 141,
   "metadata": {
    "scrolled": true
   },
   "outputs": [
    {
     "data": {
      "text/html": [
       "<div>\n",
       "<style scoped>\n",
       "    .dataframe tbody tr th:only-of-type {\n",
       "        vertical-align: middle;\n",
       "    }\n",
       "\n",
       "    .dataframe tbody tr th {\n",
       "        vertical-align: top;\n",
       "    }\n",
       "\n",
       "    .dataframe thead th {\n",
       "        text-align: right;\n",
       "    }\n",
       "</style>\n",
       "<table border=\"1\" class=\"dataframe\">\n",
       "  <thead>\n",
       "    <tr style=\"text-align: right;\">\n",
       "      <th></th>\n",
       "      <th>INDEX</th>\n",
       "      <th>LGID</th>\n",
       "      <th>G.Y</th>\n",
       "      <th>POS</th>\n",
       "      <th>X2B</th>\n",
       "      <th>CBB</th>\n",
       "      <th>NAMEFIRST</th>\n",
       "      <th>SO</th>\n",
       "      <th>IBB</th>\n",
       "      <th>SB</th>\n",
       "      <th>...</th>\n",
       "      <th>TEAMID</th>\n",
       "      <th>SF</th>\n",
       "      <th>CHR</th>\n",
       "      <th>CAB</th>\n",
       "      <th>SH</th>\n",
       "      <th>RBI</th>\n",
       "      <th>PO</th>\n",
       "      <th>HBP</th>\n",
       "      <th>R</th>\n",
       "      <th>E</th>\n",
       "    </tr>\n",
       "  </thead>\n",
       "  <tbody>\n",
       "    <tr>\n",
       "      <th>0</th>\n",
       "      <td>36</td>\n",
       "      <td>NL</td>\n",
       "      <td>151.0</td>\n",
       "      <td>OF</td>\n",
       "      <td>26</td>\n",
       "      <td>896.0</td>\n",
       "      <td>Carlos</td>\n",
       "      <td>124</td>\n",
       "      <td>None</td>\n",
       "      <td>NaN</td>\n",
       "      <td>...</td>\n",
       "      <td>SLN</td>\n",
       "      <td>4.0</td>\n",
       "      <td>334.0</td>\n",
       "      <td>7314.0</td>\n",
       "      <td>None</td>\n",
       "      <td>97.0</td>\n",
       "      <td>221.0</td>\n",
       "      <td>2.0</td>\n",
       "      <td>83.0</td>\n",
       "      <td>2.0</td>\n",
       "    </tr>\n",
       "    <tr>\n",
       "      <th>1</th>\n",
       "      <td>46</td>\n",
       "      <td>NL</td>\n",
       "      <td>21.0</td>\n",
       "      <td>C</td>\n",
       "      <td>3</td>\n",
       "      <td>240.0</td>\n",
       "      <td>Henry</td>\n",
       "      <td>18</td>\n",
       "      <td>0</td>\n",
       "      <td>NaN</td>\n",
       "      <td>...</td>\n",
       "      <td>ARI</td>\n",
       "      <td>0.0</td>\n",
       "      <td>69.0</td>\n",
       "      <td>2627.0</td>\n",
       "      <td>0</td>\n",
       "      <td>7.0</td>\n",
       "      <td>141.0</td>\n",
       "      <td>0.0</td>\n",
       "      <td>6.0</td>\n",
       "      <td>2.0</td>\n",
       "    </tr>\n",
       "    <tr>\n",
       "      <th>2</th>\n",
       "      <td>11</td>\n",
       "      <td>AL</td>\n",
       "      <td>127.0</td>\n",
       "      <td>23</td>\n",
       "      <td>13</td>\n",
       "      <td>106.0</td>\n",
       "      <td>None</td>\n",
       "      <td>100</td>\n",
       "      <td>None</td>\n",
       "      <td>5.0</td>\n",
       "      <td>...</td>\n",
       "      <td>None</td>\n",
       "      <td>1.0</td>\n",
       "      <td>18.0</td>\n",
       "      <td>1244.0</td>\n",
       "      <td>7</td>\n",
       "      <td>28.0</td>\n",
       "      <td>195.0</td>\n",
       "      <td>NaN</td>\n",
       "      <td>41.0</td>\n",
       "      <td>13.0</td>\n",
       "    </tr>\n",
       "    <tr>\n",
       "      <th>3</th>\n",
       "      <td>406</td>\n",
       "      <td>NL</td>\n",
       "      <td>156.0</td>\n",
       "      <td>12</td>\n",
       "      <td>40</td>\n",
       "      <td>116.0</td>\n",
       "      <td>None</td>\n",
       "      <td>82</td>\n",
       "      <td>5</td>\n",
       "      <td>10.0</td>\n",
       "      <td>...</td>\n",
       "      <td>NYN</td>\n",
       "      <td>4.0</td>\n",
       "      <td>26.0</td>\n",
       "      <td>1601.0</td>\n",
       "      <td>0</td>\n",
       "      <td>65.0</td>\n",
       "      <td>274.0</td>\n",
       "      <td>NaN</td>\n",
       "      <td>NaN</td>\n",
       "      <td>15.0</td>\n",
       "    </tr>\n",
       "    <tr>\n",
       "      <th>4</th>\n",
       "      <td>239</td>\n",
       "      <td>AL</td>\n",
       "      <td>105.0</td>\n",
       "      <td>13</td>\n",
       "      <td>16</td>\n",
       "      <td>172.0</td>\n",
       "      <td>Jack</td>\n",
       "      <td>63</td>\n",
       "      <td>0</td>\n",
       "      <td>0.0</td>\n",
       "      <td>...</td>\n",
       "      <td>CLE</td>\n",
       "      <td>1.0</td>\n",
       "      <td>28.0</td>\n",
       "      <td>1463.0</td>\n",
       "      <td>1</td>\n",
       "      <td>NaN</td>\n",
       "      <td>76.0</td>\n",
       "      <td>2.0</td>\n",
       "      <td>23.0</td>\n",
       "      <td>14.0</td>\n",
       "    </tr>\n",
       "  </tbody>\n",
       "</table>\n",
       "<p>5 rows × 41 columns</p>\n",
       "</div>"
      ],
      "text/plain": [
       "   INDEX LGID    G.Y POS X2B    CBB NAMEFIRST   SO   IBB    SB  ...  TEAMID  \\\n",
       "0     36   NL  151.0  OF  26  896.0    Carlos  124  None   NaN  ...     SLN   \n",
       "1     46   NL   21.0   C   3  240.0     Henry   18     0   NaN  ...     ARI   \n",
       "2     11   AL  127.0  23  13  106.0      None  100  None   5.0  ...    None   \n",
       "3    406   NL  156.0  12  40  116.0      None   82     5  10.0  ...     NYN   \n",
       "4    239   AL  105.0  13  16  172.0      Jack   63     0   0.0  ...     CLE   \n",
       "\n",
       "    SF    CHR     CAB    SH   RBI     PO  HBP     R     E  \n",
       "0  4.0  334.0  7314.0  None  97.0  221.0  2.0  83.0   2.0  \n",
       "1  0.0   69.0  2627.0     0   7.0  141.0  0.0   6.0   2.0  \n",
       "2  1.0   18.0  1244.0     7  28.0  195.0  NaN  41.0  13.0  \n",
       "3  4.0   26.0  1601.0     0  65.0  274.0  NaN   NaN  15.0  \n",
       "4  1.0   28.0  1463.0     1   NaN   76.0  2.0  23.0  14.0  \n",
       "\n",
       "[5 rows x 41 columns]"
      ]
     },
     "execution_count": 141,
     "metadata": {},
     "output_type": "execute_result"
    }
   ],
   "source": [
    "#Solution\n",
    "dirty_data = dirty_data.rename(lambda col: col.strip('\\''), axis='columns').rename(lambda col: col.upper(), axis='columns')\n",
    "dirty_data.head()"
   ]
  },
  {
   "cell_type": "markdown",
   "metadata": {},
   "source": [
    "Next, drop duplicates. (Hint: some columns have no Nan values)."
   ]
  },
  {
   "cell_type": "code",
   "execution_count": 142,
   "metadata": {
    "scrolled": true
   },
   "outputs": [
    {
     "data": {
      "text/html": [
       "<div>\n",
       "<style scoped>\n",
       "    .dataframe tbody tr th:only-of-type {\n",
       "        vertical-align: middle;\n",
       "    }\n",
       "\n",
       "    .dataframe tbody tr th {\n",
       "        vertical-align: top;\n",
       "    }\n",
       "\n",
       "    .dataframe thead th {\n",
       "        text-align: right;\n",
       "    }\n",
       "</style>\n",
       "<table border=\"1\" class=\"dataframe\">\n",
       "  <thead>\n",
       "    <tr style=\"text-align: right;\">\n",
       "      <th></th>\n",
       "      <th>INDEX</th>\n",
       "      <th>LGID</th>\n",
       "      <th>G.Y</th>\n",
       "      <th>POS</th>\n",
       "      <th>X2B</th>\n",
       "      <th>CBB</th>\n",
       "      <th>NAMEFIRST</th>\n",
       "      <th>SO</th>\n",
       "      <th>IBB</th>\n",
       "      <th>SB</th>\n",
       "      <th>...</th>\n",
       "      <th>TEAMID</th>\n",
       "      <th>SF</th>\n",
       "      <th>CHR</th>\n",
       "      <th>CAB</th>\n",
       "      <th>SH</th>\n",
       "      <th>RBI</th>\n",
       "      <th>PO</th>\n",
       "      <th>HBP</th>\n",
       "      <th>R</th>\n",
       "      <th>E</th>\n",
       "    </tr>\n",
       "  </thead>\n",
       "  <tbody>\n",
       "    <tr>\n",
       "      <th>0</th>\n",
       "      <td>36</td>\n",
       "      <td>NL</td>\n",
       "      <td>151.0</td>\n",
       "      <td>OF</td>\n",
       "      <td>26</td>\n",
       "      <td>896.0</td>\n",
       "      <td>Carlos</td>\n",
       "      <td>124</td>\n",
       "      <td>None</td>\n",
       "      <td>NaN</td>\n",
       "      <td>...</td>\n",
       "      <td>SLN</td>\n",
       "      <td>4.0</td>\n",
       "      <td>334.0</td>\n",
       "      <td>7314.0</td>\n",
       "      <td>None</td>\n",
       "      <td>97.0</td>\n",
       "      <td>221.0</td>\n",
       "      <td>2.0</td>\n",
       "      <td>83.0</td>\n",
       "      <td>2.0</td>\n",
       "    </tr>\n",
       "    <tr>\n",
       "      <th>1</th>\n",
       "      <td>46</td>\n",
       "      <td>NL</td>\n",
       "      <td>21.0</td>\n",
       "      <td>C</td>\n",
       "      <td>3</td>\n",
       "      <td>240.0</td>\n",
       "      <td>Henry</td>\n",
       "      <td>18</td>\n",
       "      <td>0</td>\n",
       "      <td>NaN</td>\n",
       "      <td>...</td>\n",
       "      <td>ARI</td>\n",
       "      <td>0.0</td>\n",
       "      <td>69.0</td>\n",
       "      <td>2627.0</td>\n",
       "      <td>0</td>\n",
       "      <td>7.0</td>\n",
       "      <td>141.0</td>\n",
       "      <td>0.0</td>\n",
       "      <td>6.0</td>\n",
       "      <td>2.0</td>\n",
       "    </tr>\n",
       "    <tr>\n",
       "      <th>2</th>\n",
       "      <td>11</td>\n",
       "      <td>AL</td>\n",
       "      <td>127.0</td>\n",
       "      <td>23</td>\n",
       "      <td>13</td>\n",
       "      <td>106.0</td>\n",
       "      <td>None</td>\n",
       "      <td>100</td>\n",
       "      <td>None</td>\n",
       "      <td>5.0</td>\n",
       "      <td>...</td>\n",
       "      <td>None</td>\n",
       "      <td>1.0</td>\n",
       "      <td>18.0</td>\n",
       "      <td>1244.0</td>\n",
       "      <td>7</td>\n",
       "      <td>28.0</td>\n",
       "      <td>195.0</td>\n",
       "      <td>NaN</td>\n",
       "      <td>41.0</td>\n",
       "      <td>13.0</td>\n",
       "    </tr>\n",
       "    <tr>\n",
       "      <th>3</th>\n",
       "      <td>406</td>\n",
       "      <td>NL</td>\n",
       "      <td>156.0</td>\n",
       "      <td>12</td>\n",
       "      <td>40</td>\n",
       "      <td>116.0</td>\n",
       "      <td>None</td>\n",
       "      <td>82</td>\n",
       "      <td>5</td>\n",
       "      <td>10.0</td>\n",
       "      <td>...</td>\n",
       "      <td>NYN</td>\n",
       "      <td>4.0</td>\n",
       "      <td>26.0</td>\n",
       "      <td>1601.0</td>\n",
       "      <td>0</td>\n",
       "      <td>65.0</td>\n",
       "      <td>274.0</td>\n",
       "      <td>NaN</td>\n",
       "      <td>NaN</td>\n",
       "      <td>15.0</td>\n",
       "    </tr>\n",
       "    <tr>\n",
       "      <th>4</th>\n",
       "      <td>239</td>\n",
       "      <td>AL</td>\n",
       "      <td>105.0</td>\n",
       "      <td>13</td>\n",
       "      <td>16</td>\n",
       "      <td>172.0</td>\n",
       "      <td>Jack</td>\n",
       "      <td>63</td>\n",
       "      <td>0</td>\n",
       "      <td>0.0</td>\n",
       "      <td>...</td>\n",
       "      <td>CLE</td>\n",
       "      <td>1.0</td>\n",
       "      <td>28.0</td>\n",
       "      <td>1463.0</td>\n",
       "      <td>1</td>\n",
       "      <td>NaN</td>\n",
       "      <td>76.0</td>\n",
       "      <td>2.0</td>\n",
       "      <td>23.0</td>\n",
       "      <td>14.0</td>\n",
       "    </tr>\n",
       "  </tbody>\n",
       "</table>\n",
       "<p>5 rows × 41 columns</p>\n",
       "</div>"
      ],
      "text/plain": [
       "   INDEX LGID    G.Y POS X2B    CBB NAMEFIRST   SO   IBB    SB  ...  TEAMID  \\\n",
       "0     36   NL  151.0  OF  26  896.0    Carlos  124  None   NaN  ...     SLN   \n",
       "1     46   NL   21.0   C   3  240.0     Henry   18     0   NaN  ...     ARI   \n",
       "2     11   AL  127.0  23  13  106.0      None  100  None   5.0  ...    None   \n",
       "3    406   NL  156.0  12  40  116.0      None   82     5  10.0  ...     NYN   \n",
       "4    239   AL  105.0  13  16  172.0      Jack   63     0   0.0  ...     CLE   \n",
       "\n",
       "    SF    CHR     CAB    SH   RBI     PO  HBP     R     E  \n",
       "0  4.0  334.0  7314.0  None  97.0  221.0  2.0  83.0   2.0  \n",
       "1  0.0   69.0  2627.0     0   7.0  141.0  0.0   6.0   2.0  \n",
       "2  1.0   18.0  1244.0     7  28.0  195.0  NaN  41.0  13.0  \n",
       "3  4.0   26.0  1601.0     0  65.0  274.0  NaN   NaN  15.0  \n",
       "4  1.0   28.0  1463.0     1   NaN   76.0  2.0  23.0  14.0  \n",
       "\n",
       "[5 rows x 41 columns]"
      ]
     },
     "execution_count": 142,
     "metadata": {},
     "output_type": "execute_result"
    }
   ],
   "source": [
    "#Solution\n",
    "dirty_data = dirty_data.drop_duplicates(subset=['ID'])\n",
    "dirty_data.head()"
   ]
  },
  {
   "cell_type": "markdown",
   "metadata": {},
   "source": [
    "Replace NaN values with their column mean. This requires setting columns with string values back to integers."
   ]
  },
  {
   "cell_type": "code",
   "execution_count": 145,
   "metadata": {},
   "outputs": [
    {
     "data": {
      "text/html": [
       "<div>\n",
       "<style scoped>\n",
       "    .dataframe tbody tr th:only-of-type {\n",
       "        vertical-align: middle;\n",
       "    }\n",
       "\n",
       "    .dataframe tbody tr th {\n",
       "        vertical-align: top;\n",
       "    }\n",
       "\n",
       "    .dataframe thead th {\n",
       "        text-align: right;\n",
       "    }\n",
       "</style>\n",
       "<table border=\"1\" class=\"dataframe\">\n",
       "  <thead>\n",
       "    <tr style=\"text-align: right;\">\n",
       "      <th></th>\n",
       "      <th>INDEX</th>\n",
       "      <th>LGID</th>\n",
       "      <th>G.Y</th>\n",
       "      <th>POS</th>\n",
       "      <th>X2B</th>\n",
       "      <th>CBB</th>\n",
       "      <th>NAMEFIRST</th>\n",
       "      <th>SO</th>\n",
       "      <th>IBB</th>\n",
       "      <th>SB</th>\n",
       "      <th>...</th>\n",
       "      <th>TEAMID</th>\n",
       "      <th>SF</th>\n",
       "      <th>CHR</th>\n",
       "      <th>CAB</th>\n",
       "      <th>SH</th>\n",
       "      <th>RBI</th>\n",
       "      <th>PO</th>\n",
       "      <th>HBP</th>\n",
       "      <th>R</th>\n",
       "      <th>E</th>\n",
       "    </tr>\n",
       "  </thead>\n",
       "  <tbody>\n",
       "    <tr>\n",
       "      <th>0</th>\n",
       "      <td>36.0</td>\n",
       "      <td>NL</td>\n",
       "      <td>151.0</td>\n",
       "      <td>OF</td>\n",
       "      <td>26.0</td>\n",
       "      <td>896.0</td>\n",
       "      <td>Carlos</td>\n",
       "      <td>124.0</td>\n",
       "      <td>1.675127</td>\n",
       "      <td>5.094435</td>\n",
       "      <td>...</td>\n",
       "      <td>SLN</td>\n",
       "      <td>4.0</td>\n",
       "      <td>334.0</td>\n",
       "      <td>7314.0</td>\n",
       "      <td>1.362712</td>\n",
       "      <td>97.000000</td>\n",
       "      <td>221.0</td>\n",
       "      <td>2.000000</td>\n",
       "      <td>83.000000</td>\n",
       "      <td>2.0</td>\n",
       "    </tr>\n",
       "    <tr>\n",
       "      <th>1</th>\n",
       "      <td>46.0</td>\n",
       "      <td>NL</td>\n",
       "      <td>21.0</td>\n",
       "      <td>C</td>\n",
       "      <td>3.0</td>\n",
       "      <td>240.0</td>\n",
       "      <td>Henry</td>\n",
       "      <td>18.0</td>\n",
       "      <td>0.000000</td>\n",
       "      <td>5.094435</td>\n",
       "      <td>...</td>\n",
       "      <td>ARI</td>\n",
       "      <td>0.0</td>\n",
       "      <td>69.0</td>\n",
       "      <td>2627.0</td>\n",
       "      <td>0.000000</td>\n",
       "      <td>7.000000</td>\n",
       "      <td>141.0</td>\n",
       "      <td>0.000000</td>\n",
       "      <td>6.000000</td>\n",
       "      <td>2.0</td>\n",
       "    </tr>\n",
       "    <tr>\n",
       "      <th>2</th>\n",
       "      <td>11.0</td>\n",
       "      <td>AL</td>\n",
       "      <td>127.0</td>\n",
       "      <td>23</td>\n",
       "      <td>13.0</td>\n",
       "      <td>106.0</td>\n",
       "      <td>NaN</td>\n",
       "      <td>100.0</td>\n",
       "      <td>1.675127</td>\n",
       "      <td>5.000000</td>\n",
       "      <td>...</td>\n",
       "      <td>NaN</td>\n",
       "      <td>1.0</td>\n",
       "      <td>18.0</td>\n",
       "      <td>1244.0</td>\n",
       "      <td>7.000000</td>\n",
       "      <td>28.000000</td>\n",
       "      <td>195.0</td>\n",
       "      <td>2.352641</td>\n",
       "      <td>41.000000</td>\n",
       "      <td>13.0</td>\n",
       "    </tr>\n",
       "    <tr>\n",
       "      <th>3</th>\n",
       "      <td>406.0</td>\n",
       "      <td>NL</td>\n",
       "      <td>156.0</td>\n",
       "      <td>12</td>\n",
       "      <td>40.0</td>\n",
       "      <td>116.0</td>\n",
       "      <td>NaN</td>\n",
       "      <td>82.0</td>\n",
       "      <td>5.000000</td>\n",
       "      <td>10.000000</td>\n",
       "      <td>...</td>\n",
       "      <td>NYN</td>\n",
       "      <td>4.0</td>\n",
       "      <td>26.0</td>\n",
       "      <td>1601.0</td>\n",
       "      <td>0.000000</td>\n",
       "      <td>65.000000</td>\n",
       "      <td>274.0</td>\n",
       "      <td>2.352641</td>\n",
       "      <td>32.598305</td>\n",
       "      <td>15.0</td>\n",
       "    </tr>\n",
       "    <tr>\n",
       "      <th>4</th>\n",
       "      <td>239.0</td>\n",
       "      <td>AL</td>\n",
       "      <td>105.0</td>\n",
       "      <td>13</td>\n",
       "      <td>16.0</td>\n",
       "      <td>172.0</td>\n",
       "      <td>Jack</td>\n",
       "      <td>63.0</td>\n",
       "      <td>0.000000</td>\n",
       "      <td>0.000000</td>\n",
       "      <td>...</td>\n",
       "      <td>CLE</td>\n",
       "      <td>1.0</td>\n",
       "      <td>28.0</td>\n",
       "      <td>1463.0</td>\n",
       "      <td>1.000000</td>\n",
       "      <td>31.592593</td>\n",
       "      <td>76.0</td>\n",
       "      <td>2.000000</td>\n",
       "      <td>23.000000</td>\n",
       "      <td>14.0</td>\n",
       "    </tr>\n",
       "    <tr>\n",
       "      <th>...</th>\n",
       "      <td>...</td>\n",
       "      <td>...</td>\n",
       "      <td>...</td>\n",
       "      <td>...</td>\n",
       "      <td>...</td>\n",
       "      <td>...</td>\n",
       "      <td>...</td>\n",
       "      <td>...</td>\n",
       "      <td>...</td>\n",
       "      <td>...</td>\n",
       "      <td>...</td>\n",
       "      <td>...</td>\n",
       "      <td>...</td>\n",
       "      <td>...</td>\n",
       "      <td>...</td>\n",
       "      <td>...</td>\n",
       "      <td>...</td>\n",
       "      <td>...</td>\n",
       "      <td>...</td>\n",
       "      <td>...</td>\n",
       "      <td>...</td>\n",
       "    </tr>\n",
       "    <tr>\n",
       "      <th>1581</th>\n",
       "      <td>240.0</td>\n",
       "      <td>AL</td>\n",
       "      <td>158.0</td>\n",
       "      <td>SS</td>\n",
       "      <td>30.0</td>\n",
       "      <td>286.0</td>\n",
       "      <td>J.J.</td>\n",
       "      <td>106.0</td>\n",
       "      <td>4.000000</td>\n",
       "      <td>0.000000</td>\n",
       "      <td>...</td>\n",
       "      <td>BAL</td>\n",
       "      <td>2.0</td>\n",
       "      <td>133.0</td>\n",
       "      <td>3605.0</td>\n",
       "      <td>7.000000</td>\n",
       "      <td>68.000000</td>\n",
       "      <td>244.0</td>\n",
       "      <td>3.000000</td>\n",
       "      <td>85.000000</td>\n",
       "      <td>6.0</td>\n",
       "    </tr>\n",
       "    <tr>\n",
       "      <th>1603</th>\n",
       "      <td>149.0</td>\n",
       "      <td>NL</td>\n",
       "      <td>120.0</td>\n",
       "      <td>13</td>\n",
       "      <td>13.0</td>\n",
       "      <td>109.0</td>\n",
       "      <td>Greg</td>\n",
       "      <td>53.0</td>\n",
       "      <td>5.000000</td>\n",
       "      <td>4.000000</td>\n",
       "      <td>...</td>\n",
       "      <td>MIA</td>\n",
       "      <td>7.0</td>\n",
       "      <td>44.0</td>\n",
       "      <td>1819.0</td>\n",
       "      <td>0.000000</td>\n",
       "      <td>39.000000</td>\n",
       "      <td>183.0</td>\n",
       "      <td>2.000000</td>\n",
       "      <td>26.000000</td>\n",
       "      <td>11.0</td>\n",
       "    </tr>\n",
       "    <tr>\n",
       "      <th>1632</th>\n",
       "      <td>18.0</td>\n",
       "      <td>AL</td>\n",
       "      <td>116.0</td>\n",
       "      <td>C</td>\n",
       "      <td>21.0</td>\n",
       "      <td>180.0</td>\n",
       "      <td>Alex</td>\n",
       "      <td>104.0</td>\n",
       "      <td>2.000000</td>\n",
       "      <td>2.000000</td>\n",
       "      <td>...</td>\n",
       "      <td>DET</td>\n",
       "      <td>2.0</td>\n",
       "      <td>40.0</td>\n",
       "      <td>1186.0</td>\n",
       "      <td>2.000000</td>\n",
       "      <td>48.000000</td>\n",
       "      <td>897.0</td>\n",
       "      <td>2.000000</td>\n",
       "      <td>42.000000</td>\n",
       "      <td>6.0</td>\n",
       "    </tr>\n",
       "    <tr>\n",
       "      <th>1641</th>\n",
       "      <td>484.0</td>\n",
       "      <td>AL</td>\n",
       "      <td>156.0</td>\n",
       "      <td>OF</td>\n",
       "      <td>29.0</td>\n",
       "      <td>77.0</td>\n",
       "      <td>Josh</td>\n",
       "      <td>151.0</td>\n",
       "      <td>8.000000</td>\n",
       "      <td>11.000000</td>\n",
       "      <td>...</td>\n",
       "      <td>OAK</td>\n",
       "      <td>4.0</td>\n",
       "      <td>42.0</td>\n",
       "      <td>986.0</td>\n",
       "      <td>1.000000</td>\n",
       "      <td>85.000000</td>\n",
       "      <td>310.0</td>\n",
       "      <td>2.000000</td>\n",
       "      <td>85.000000</td>\n",
       "      <td>6.0</td>\n",
       "    </tr>\n",
       "    <tr>\n",
       "      <th>1760</th>\n",
       "      <td>414.0</td>\n",
       "      <td>NaN</td>\n",
       "      <td>4.0</td>\n",
       "      <td>CF</td>\n",
       "      <td>0.0</td>\n",
       "      <td>1.0</td>\n",
       "      <td>nan</td>\n",
       "      <td>2.0</td>\n",
       "      <td>0.000000</td>\n",
       "      <td>0.000000</td>\n",
       "      <td>...</td>\n",
       "      <td>NaN</td>\n",
       "      <td>0.0</td>\n",
       "      <td>0.0</td>\n",
       "      <td>4.0</td>\n",
       "      <td>0.000000</td>\n",
       "      <td>0.000000</td>\n",
       "      <td>0.0</td>\n",
       "      <td>0.000000</td>\n",
       "      <td>2.000000</td>\n",
       "      <td>0.0</td>\n",
       "    </tr>\n",
       "  </tbody>\n",
       "</table>\n",
       "<p>628 rows × 41 columns</p>\n",
       "</div>"
      ],
      "text/plain": [
       "      INDEX LGID    G.Y POS   X2B    CBB NAMEFIRST     SO       IBB  \\\n",
       "0      36.0   NL  151.0  OF  26.0  896.0    Carlos  124.0  1.675127   \n",
       "1      46.0   NL   21.0   C   3.0  240.0     Henry   18.0  0.000000   \n",
       "2      11.0   AL  127.0  23  13.0  106.0       NaN  100.0  1.675127   \n",
       "3     406.0   NL  156.0  12  40.0  116.0       NaN   82.0  5.000000   \n",
       "4     239.0   AL  105.0  13  16.0  172.0      Jack   63.0  0.000000   \n",
       "...     ...  ...    ...  ..   ...    ...       ...    ...       ...   \n",
       "1581  240.0   AL  158.0  SS  30.0  286.0      J.J.  106.0  4.000000   \n",
       "1603  149.0   NL  120.0  13  13.0  109.0      Greg   53.0  5.000000   \n",
       "1632   18.0   AL  116.0   C  21.0  180.0      Alex  104.0  2.000000   \n",
       "1641  484.0   AL  156.0  OF  29.0   77.0      Josh  151.0  8.000000   \n",
       "1760  414.0  NaN    4.0  CF   0.0    1.0       nan    2.0  0.000000   \n",
       "\n",
       "             SB  ...  TEAMID   SF    CHR     CAB        SH        RBI     PO  \\\n",
       "0      5.094435  ...     SLN  4.0  334.0  7314.0  1.362712  97.000000  221.0   \n",
       "1      5.094435  ...     ARI  0.0   69.0  2627.0  0.000000   7.000000  141.0   \n",
       "2      5.000000  ...     NaN  1.0   18.0  1244.0  7.000000  28.000000  195.0   \n",
       "3     10.000000  ...     NYN  4.0   26.0  1601.0  0.000000  65.000000  274.0   \n",
       "4      0.000000  ...     CLE  1.0   28.0  1463.0  1.000000  31.592593   76.0   \n",
       "...         ...  ...     ...  ...    ...     ...       ...        ...    ...   \n",
       "1581   0.000000  ...     BAL  2.0  133.0  3605.0  7.000000  68.000000  244.0   \n",
       "1603   4.000000  ...     MIA  7.0   44.0  1819.0  0.000000  39.000000  183.0   \n",
       "1632   2.000000  ...     DET  2.0   40.0  1186.0  2.000000  48.000000  897.0   \n",
       "1641  11.000000  ...     OAK  4.0   42.0   986.0  1.000000  85.000000  310.0   \n",
       "1760   0.000000  ...     NaN  0.0    0.0     4.0  0.000000   0.000000    0.0   \n",
       "\n",
       "           HBP          R     E  \n",
       "0     2.000000  83.000000   2.0  \n",
       "1     0.000000   6.000000   2.0  \n",
       "2     2.352641  41.000000  13.0  \n",
       "3     2.352641  32.598305  15.0  \n",
       "4     2.000000  23.000000  14.0  \n",
       "...        ...        ...   ...  \n",
       "1581  3.000000  85.000000   6.0  \n",
       "1603  2.000000  26.000000  11.0  \n",
       "1632  2.000000  42.000000   6.0  \n",
       "1641  2.000000  85.000000   6.0  \n",
       "1760  0.000000   2.000000   0.0  \n",
       "\n",
       "[628 rows x 41 columns]"
      ]
     },
     "execution_count": 145,
     "metadata": {},
     "output_type": "execute_result"
    }
   ],
   "source": [
    "#Solution\n",
    "for col in dirty_data:\n",
    "    try:\n",
    "        dirty_data[col] = dirty_data[col].astype(float)\n",
    "    except:\n",
    "        pass\n",
    "dirty_data = dirty_data.fillna(np.nan)\n",
    "\n",
    "dirty_data = dirty_data.fillna(dirty_data.mean())\n",
    "dirty_data"
   ]
  },
  {
   "cell_type": "markdown",
   "metadata": {},
   "source": [
    "To prepare our data, one-hot-encode categorical variables."
   ]
  },
  {
   "cell_type": "code",
   "execution_count": 147,
   "metadata": {},
   "outputs": [],
   "source": [
    "ohe_dirty_data = dirty_data.copy()\n",
    "for col in ('POS', 'TEAMID', 'LGID'):\n",
    "    ohe_dirty_data = ohe_dirty_data.merge(\n",
    "    pd.get_dummies(dirty_data[col]),\n",
    "     how='inner', right_index=True, left_index = True\n",
    "    ).T.drop_duplicates().T.rename(lambda c: str(c).rsplit('_x', 1)[0], axis='columns').drop(col, axis=1)\n",
    "\n"
   ]
  },
  {
   "cell_type": "markdown",
   "metadata": {},
   "source": [
    "We don't need player names/ID, so remove those features (they aren't useful categorical features). Additionally, drop the 'INDEX' column because it is a residual from importing SQL data. Because `G_BATTING` is all nan, r"
   ]
  },
  {
   "cell_type": "code",
   "execution_count": 148,
   "metadata": {},
   "outputs": [],
   "source": [
    "#SOLUTION\n",
    "ohe_dirty_data = ohe_dirty_data.drop(['INDEX', 'ID', 'NAMEFIRST', 'NAMELAST', 'G_BATTING'], axis=1).astype(float)"
   ]
  },
  {
   "cell_type": "code",
   "execution_count": 149,
   "metadata": {},
   "outputs": [
    {
     "data": {
      "text/plain": [
       "Series([], dtype: int64)"
      ]
     },
     "execution_count": 149,
     "metadata": {},
     "output_type": "execute_result"
    }
   ],
   "source": [
    "ohe_dirty_data.isna().sum()[ohe_dirty_data.isna().sum().astype(bool)]"
   ]
  },
  {
   "cell_type": "markdown",
   "metadata": {},
   "source": [
    "With our data clean, let's split our data into our features and prediction column."
   ]
  },
  {
   "cell_type": "code",
   "execution_count": 156,
   "metadata": {},
   "outputs": [],
   "source": [
    "X_dirty = ohe_dirty_data.drop(columns=['SALARY'])\n",
    "y_dirty = ohe_dirty_data['SALARY']"
   ]
  },
  {
   "cell_type": "markdown",
   "metadata": {},
   "source": [
    "### 4b. Dirty PCA"
   ]
  },
  {
   "cell_type": "markdown",
   "metadata": {},
   "source": [
    "Now run PCA on your dirty dataset, using 2, 5, and 8 components and find the MSE for your predictions. How does the performance compare to PCA of the original cleaned dataset?"
   ]
  },
  {
   "cell_type": "code",
   "execution_count": 157,
   "metadata": {},
   "outputs": [
    {
     "data": {
      "text/plain": [
       "3387169.2259293827"
      ]
     },
     "execution_count": 157,
     "metadata": {},
     "output_type": "execute_result"
    }
   ],
   "source": [
    "# PCA with 2 components #\n",
    "# YOUR CODE HERE #\n",
    "\n",
    "# Solution #\n",
    "pca_dirty2 = PCA(n_components=2)\n",
    "pca_dirty2.fit(X_dirty, y_dirty)\n",
    "pca_dirty2_X = pca_dirty2.transform(X_dirty)\n",
    "reg_dirty2 = LinearRegression().fit(pca_dirty2_X, y_dirty)\n",
    "mse_dirty2 = np.mean((reg_dirty2.predict(pca_dirty2_X) - y_dirty)**2) ** 0.5\n",
    "mse_dirty2\n",
    "# End solution #"
   ]
  },
  {
   "cell_type": "code",
   "execution_count": 160,
   "metadata": {},
   "outputs": [
    {
     "data": {
      "text/plain": [
       "3096276.137471037"
      ]
     },
     "execution_count": 160,
     "metadata": {},
     "output_type": "execute_result"
    }
   ],
   "source": [
    "# PCA with 5 components #\n",
    "# YOUR CODE HERE #\n",
    "\n",
    "# Solution #\n",
    "pca_dirty5 = PCA(n_components=5)\n",
    "pca_dirty5.fit(X_dirty, y_dirty)\n",
    "pca_dirty5_X = pca_dirty5.transform(X_dirty)\n",
    "reg_dirty5 = LinearRegression().fit(pca_dirty5_X, y_dirty)\n",
    "mse_dirty5 = np.mean((reg_dirty5.predict(pca_dirty5_X) - y_dirty)**2) ** 0.5\n",
    "mse_dirty5\n",
    "# End solution #"
   ]
  },
  {
   "cell_type": "code",
   "execution_count": 161,
   "metadata": {},
   "outputs": [
    {
     "data": {
      "text/plain": [
       "3044493.0534610674"
      ]
     },
     "execution_count": 161,
     "metadata": {},
     "output_type": "execute_result"
    }
   ],
   "source": [
    "# PCA with 8 components #\n",
    "# YOUR CODE HERE #\n",
    "\n",
    "# Solution #\n",
    "pca_dirty8 = PCA(n_components=8)\n",
    "pca_dirty8.fit(X_dirty, y_dirty)\n",
    "pca_dirty8_X = pca_dirty8.transform(X_dirty)\n",
    "reg_dirty8 = LinearRegression().fit(pca_dirty8_X, y_dirty)\n",
    "mse_dirty8 = np.mean((reg_dirty8.predict(pca_dirty8_X) - y_dirty)**2) ** 0.5\n",
    "mse_dirty8\n",
    "# End solution #"
   ]
  },
  {
   "cell_type": "markdown",
   "metadata": {},
   "source": [
    "Now, graph the number of components, versus the MSE, for the dirty PCA."
   ]
  },
  {
   "cell_type": "code",
   "execution_count": 181,
   "metadata": {},
   "outputs": [
    {
     "data": {
      "text/plain": [
       "Text(0.5, 1.0, 'Number of Dirty PCA components vs. Dirty MSE')"
      ]
     },
     "execution_count": 181,
     "metadata": {},
     "output_type": "execute_result"
    },
    {
     "data": {
      "image/png": "[encoded data removed]",
      "text/plain": [
       "<Figure size 432x288 with 1 Axes>"
      ]
     },
     "metadata": {
      "needs_background": "light"
     },
     "output_type": "display_data"
    }
   ],
   "source": [
    "X_plot = [i for i in range(1, X_dirty.shape[1])]\n",
    "Y_plot = []\n",
    "for i in X_plot:\n",
    "    pca_i = PCA(n_components=i)\n",
    "    pca_i.fit(X_dirty, y_dirty)\n",
    "    pca_i_X = pca_i.transform(X_dirty)\n",
    "    reg_i = LinearRegression().fit(pca_i_X, y_dirty)\n",
    "    Y_plot.append(np.mean((reg_i.predict(pca_i_X) - y_dirty)**2) ** 0.5)\n",
    "plt.plot(X_plot, Y_plot)\n",
    "plt.xlabel(\"Number of components\")\n",
    "plt.ylabel(\"MSE\")\n",
    "plt.title(\"Number of Dirty PCA components vs. Dirty MSE\")"
   ]
  },
  {
   "cell_type": "markdown",
   "metadata": {},
   "source": [
    "Fill out the cell below with your observations. How does the MSE change for the dirty dataset? How does the overall plot shape change?"
   ]
  },
  {
   "cell_type": "code",
   "execution_count": 182,
   "metadata": {},
   "outputs": [],
   "source": [
    "# Solution: The dirty MSE doesn't change much, but the plot is a little less smooth compared to the original plot. #"
   ]
  },
  {
   "cell_type": "markdown",
   "metadata": {},
   "source": [
    "### 4c. CCA and Dirty Data"
   ]
  },
  {
   "cell_type": "markdown",
   "metadata": {},
   "source": [
    "From part 2, we saw that PCA is an unsupervised algorithm because it does not rely on feature labels, but rather focuses on the directions with the greatest variance in the feature matrix. However, there are some situations where the most relevant dimensions are not those with the greatest variance. For example, if the feature data was contaminated with a strong, correlated noise signal, PCA would actually throw away those dimensions with this strong noise variation, the opposite of our desired outcome. In this case, we prefer to approach dimensionality reduction in a way that takes advantage of paired, i.e labeled $(x, y)$ data. This is where CCA comes into play.\n",
    "\n",
    "\n",
    "Fill out the cells below to implement <code>sklearn_CCA</code>, which will make use of <code>CCA</code> along with <code>LinearRegression</code> to return the MSE."
   ]
  },
  {
   "cell_type": "code",
   "execution_count": 202,
   "metadata": {},
   "outputs": [],
   "source": [
    "def sklearn_CCA(X, Y, preds, num_components):\n",
    "    # SOLUTION\n",
    "    cca = CCA(n_components=num_components)\n",
    "    cca.fit(X, Y)\n",
    "    cca_X = cca.transform(X)\n",
    "    reg = LinearRegression().fit(cca_X, preds)\n",
    "    return np.mean((reg.predict(cca_X) - preds)**2) ** 0.5"
   ]
  },
  {
   "cell_type": "markdown",
   "metadata": {},
   "source": [
    "Now run <code>sklearn_CCA</code> with 2, 5, and 8 components. Your Y argument will be the <code>dirty_421</code> variable below, which is randomly sampled rows from the dirty dataset. This is needed because X and Y must have the same number of samples."
   ]
  },
  {
   "cell_type": "code",
   "execution_count": 209,
   "metadata": {},
   "outputs": [],
   "source": [
    "dirty_421 = X_dirty.sample(n=421)"
   ]
  },
  {
   "cell_type": "code",
   "execution_count": 210,
   "metadata": {},
   "outputs": [
    {
     "data": {
      "text/plain": [
       "5051688.423106661"
      ]
     },
     "execution_count": 210,
     "metadata": {},
     "output_type": "execute_result"
    }
   ],
   "source": [
    "# CCA with 2 components #\n",
    "# YOUR CODE HERE #\n",
    "\n",
    "# Solution #\n",
    "sklearn_CCA(X, dirty_421, y, 2)\n",
    "# End Solution #"
   ]
  },
  {
   "cell_type": "code",
   "execution_count": 211,
   "metadata": {},
   "outputs": [
    {
     "data": {
      "text/plain": [
       "4990981.960088469"
      ]
     },
     "execution_count": 211,
     "metadata": {},
     "output_type": "execute_result"
    }
   ],
   "source": [
    "# CCA with 5 components #\n",
    "# YOUR CODE HERE #\n",
    "\n",
    "# Solution #\n",
    "sklearn_CCA(X, dirty_421, y, 5)\n",
    "# End Solution #"
   ]
  },
  {
   "cell_type": "code",
   "execution_count": 212,
   "metadata": {},
   "outputs": [
    {
     "data": {
      "text/plain": [
       "4871550.348414261"
      ]
     },
     "execution_count": 212,
     "metadata": {},
     "output_type": "execute_result"
    }
   ],
   "source": [
    "# CCA with 8 components #\n",
    "# YOUR CODE HERE #\n",
    "\n",
    "# Solution #\n",
    "sklearn_CCA(X, dirty_421, y, 8)\n",
    "# End Solution #"
   ]
  },
  {
   "cell_type": "markdown",
   "metadata": {},
   "source": [
    "Now run the following cell to plot the MSE vs. the number of CCA components. "
   ]
  },
  {
   "cell_type": "code",
   "execution_count": 214,
   "metadata": {},
   "outputs": [
    {
     "data": {
      "text/plain": [
       "Text(0.5, 1.0, 'Number of Dirty CCA components vs. Dirty MSE')"
      ]
     },
     "execution_count": 214,
     "metadata": {},
     "output_type": "execute_result"
    },
    {
     "data": {
      "image/png": "[encoded data removed]",
      "text/plain": [
       "<Figure size 432x288 with 1 Axes>"
      ]
     },
     "metadata": {
      "needs_background": "light"
     },
     "output_type": "display_data"
    }
   ],
   "source": [
    "X_plot = [i for i in range(1, X.shape[1])]\n",
    "Y_plot = []\n",
    "for i in X_plot:\n",
    "    cca_i = CCA(n_components=i)\n",
    "    cca_i.fit(X, dirty_421)\n",
    "    cca_i_X = cca_i.transform(X)\n",
    "    reg_i = LinearRegression().fit(cca_i_X, y)\n",
    "    Y_plot.append(np.mean((reg_i.predict(cca_i_X) - y)**2) ** 0.5)\n",
    "plt.plot(X_plot, Y_plot)\n",
    "plt.xlabel(\"Number of components\")\n",
    "plt.ylabel(\"MSE\")\n",
    "plt.title(\"Number of Dirty CCA components vs. Dirty MSE\")"
   ]
  },
  {
   "cell_type": "markdown",
   "metadata": {},
   "source": [
    "Fill out the cell below with your observations. How does CCA perform compared to PCA with the same number of components? How does increasing the number of components affect the MSE?"
   ]
  },
  {
   "cell_type": "code",
   "execution_count": 215,
   "metadata": {},
   "outputs": [],
   "source": [
    "# Solution: Initially the MSE is higher, but as the number of components gets closer to the number of features, \n",
    "# the MSE gets close to the Linear Regression MSE. #"
   ]
  },
  {
   "cell_type": "code",
   "execution_count": null,
   "metadata": {},
   "outputs": [],
   "source": []
  }
 ],
 "metadata": {
  "kernelspec": {
   "display_name": "Python 3",
   "language": "python",
   "name": "python3"
  },
  "language_info": {
   "codemirror_mode": {
    "name": "ipython",
    "version": 3
   },
   "file_extension": ".py",
   "mimetype": "text/x-python",
   "name": "python",
   "nbconvert_exporter": "python",
   "pygments_lexer": "ipython3",
   "version": "3.7.7"
  }
 },
 "nbformat": 4,
 "nbformat_minor": 4
}
