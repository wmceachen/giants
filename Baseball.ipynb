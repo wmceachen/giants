{
 "cells": [
  {
   "cell_type": "code",
   "execution_count": 1,
   "metadata": {},
   "outputs": [],
   "source": [
    "import pandas as pd\n",
    "import numpy as np\n",
    "import math\n",
    "from sklearn.decomposition import PCA\n",
    "from sklearn.linear_model import LinearRegression\n",
    "from sklearn.linear_model import Ridge"
   ]
  },
  {
   "cell_type": "code",
   "execution_count": 2,
   "metadata": {},
   "outputs": [],
   "source": [
    "dat = pd.read_csv(\"baseball_data.csv\")"
   ]
  },
  {
   "cell_type": "code",
   "execution_count": 3,
   "metadata": {},
   "outputs": [],
   "source": [
    "dat = dat.drop(columns = ['ID', 'yearID','teamID','lgID','nameFirst','nameLast'])\n",
    "dat = dat[dat['salary'] > 0]"
   ]
  },
  {
   "cell_type": "code",
   "execution_count": 4,
   "metadata": {},
   "outputs": [],
   "source": [
    "positions = np.unique(dat['POS'])\n",
    "#for pos in positions:\n",
    "temp_array = np.array(dat['POS'])\n",
    "for position in positions:\n",
    "    indicator = np.zeros(len(dat['POS']))\n",
    "    for j in range(len(temp_array)):\n",
    "        if temp_array[j] == position:\n",
    "            indicator[j] = 1\n",
    "    #indicator = pd.Series(indicator, name = position)\n",
    "#     print(indicator)\n",
    "#     print(len(temp_array))\n",
    "    dat[position] = indicator\n",
    "\n",
    "dat = dat.drop(columns = ['POS', 'G_batting'])"
   ]
  },
  {
   "cell_type": "markdown",
   "metadata": {},
   "source": [
    "### PCA Handling"
   ]
  },
  {
   "cell_type": "code",
   "execution_count": 5,
   "metadata": {},
   "outputs": [],
   "source": [
    "y = np.array(dat['salary'])\n",
    "X = np.array(dat.drop(columns = ['salary']))\n",
    "#preds = np.exp(reg.predict(new_X))\n",
    "# print(pca.singular_values_)"
   ]
  },
  {
   "cell_type": "code",
   "execution_count": 10,
   "metadata": {},
   "outputs": [
    {
     "data": {
      "text/plain": [
       "1248.8014604136476"
      ]
     },
     "execution_count": 10,
     "metadata": {},
     "output_type": "execute_result"
    }
   ],
   "source": [
    "coefs = np.zeros(51)\n",
    "for i in range(51):\n",
    "    coefs[i] = np.random.uniform(0,1)*100\n",
    "salary_pred = X @ coefs\n",
    "new_y = salary_pred + np.random.normal(0, 1401, len(salary_pred)) + np.random.exponential(100, len(salary_pred))\n",
    "reg = LinearRegression().fit(X, new_y)\n",
    "np.mean((reg.predict(X) - new_y)**2) ** 0.5"
   ]
  },
  {
   "cell_type": "code",
   "execution_count": null,
   "metadata": {},
   "outputs": [],
   "source": []
  }
 ],
 "metadata": {
  "kernelspec": {
   "display_name": "Python 3",
   "language": "python",
   "name": "python3"
  },
  "language_info": {
   "codemirror_mode": {
    "name": "ipython",
    "version": 3
   },
   "file_extension": ".py",
   "mimetype": "text/x-python",
   "name": "python",
   "nbconvert_exporter": "python",
   "pygments_lexer": "ipython3",
   "version": "3.8.6"
  }
 },
 "nbformat": 4,
 "nbformat_minor": 4
}
