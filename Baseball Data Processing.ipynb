{
 "cells": [
  {
   "cell_type": "code",
   "execution_count": 1,
   "metadata": {},
   "outputs": [],
   "source": [
    "import pandas as pd\n",
    "import numpy as np\n",
    "import math\n",
    "from sklearn.decomposition import PCA\n",
    "from sklearn.cross_decomposition import CCA\n",
    "from sklearn.linear_model import LinearRegression\n",
    "from sklearn.linear_model import Ridge"
   ]
  },
  {
   "cell_type": "code",
   "execution_count": 2,
   "metadata": {},
   "outputs": [],
   "source": [
    "dat = pd.read_csv(\"baseball_data.csv\")"
   ]
  },
  {
   "cell_type": "code",
   "execution_count": 3,
   "metadata": {},
   "outputs": [],
   "source": [
    "dat = dat.drop(columns = ['id', 'yearid','teamid','lgid','namefirst','namelast'])\n",
    "dat = dat[dat['salary'] > 0]"
   ]
  },
  {
   "cell_type": "code",
   "execution_count": 4,
   "metadata": {},
   "outputs": [],
   "source": [
    "positions = np.unique(dat['pos'])\n",
    "#for pos in positions:\n",
    "temp_array = np.array(dat['pos'])\n",
    "for position in positions:\n",
    "    indicator = np.zeros(len(dat['pos']))\n",
    "    for j in range(len(temp_array)):\n",
    "        if temp_array[j] == position:\n",
    "            indicator[j] = 1\n",
    "    #indicator = pd.Series(indicator, name = position)\n",
    "#     print(indicator)\n",
    "#     print(len(temp_array))\n",
    "    dat[position] = indicator\n",
    "\n",
    "dat = dat.drop(columns = ['pos', 'g_batting'])"
   ]
  },
  {
   "cell_type": "markdown",
   "metadata": {},
   "source": [
    "### PCA Handling"
   ]
  },
  {
   "cell_type": "code",
   "execution_count": 5,
   "metadata": {},
   "outputs": [],
   "source": [
    "y = np.array(dat['salary'])\n",
    "X = np.array(dat.drop(columns = ['salary']))\n",
    "#preds = np.exp(reg.predict(new_X))\n",
    "# print(pca.singular_values_)"
   ]
  },
  {
   "cell_type": "code",
   "execution_count": 6,
   "metadata": {},
   "outputs": [
    {
     "data": {
      "text/plain": "27780.73026598597"
     },
     "execution_count": 6,
     "metadata": {},
     "output_type": "execute_result"
    }
   ],
   "source": [
    "# G.x, GS, Runs, AB, O1, OSS, O2, O3, 1B, C, years\n",
    "imp_POS = {'G.x':1000, 'GS':800, 'Runs':600, 'AB':500, 'O1':300, 'OSS':300, 'O2':250, 'O3':220, '1B':210, 'C':180, 'years':-10}\n",
    "coefs = np.zeros(51)\n",
    "for i in range(51):\n",
    "    if dat.columns[i] in imp_POS.keys():\n",
    "        coefs[i] = imp_POS[dat.columns[i]]\n",
    "    else:\n",
    "        coefs[i] = np.random.uniform(0,0.6)*100\n",
    "salary_pred = X @ coefs\n",
    "new_y = salary_pred + np.random.normal(0, 30000, len(salary_pred))\n",
    "reg = LinearRegression().fit(X, new_y)\n",
    "np.mean((reg.predict(X) - new_y)**2) ** 0.5\n"
   ]
  },
  {
   "cell_type": "code",
   "execution_count": 7,
   "metadata": {},
   "outputs": [
    {
     "data": {
      "text/plain": "30192.08975094813"
     },
     "execution_count": 7,
     "metadata": {},
     "output_type": "execute_result"
    }
   ],
   "source": [
    "pca = PCA(n_components = 6)\n",
    "pca.fit(X)\n",
    "pca_X = pca.transform(X)\n",
    "reg = LinearRegression().fit(pca_X, new_y)\n",
    "np.mean((reg.predict(pca_X) - new_y)**2) ** 0.5"
   ]
  },
  {
   "cell_type": "code",
   "execution_count": 9,
   "metadata": {},
   "outputs": [
    {
     "data": {
      "text/plain": "array([8.61523676e-01, 7.96968371e+04, 3.04661368e+04, 5.13400528e+03,\n       3.10634911e+03, 2.12006613e+03, 1.58394108e+03, 1.40208290e+03,\n       1.32234874e+03, 7.01703298e+02, 4.13668573e+02, 3.88731458e+02,\n       3.04616290e+02, 2.57976827e+02, 2.42434178e+02, 1.86975673e+02,\n       1.62464347e+02, 1.27057154e+02, 1.21365287e+02, 1.02907319e+02,\n       8.48115519e+01, 6.55383320e+01, 5.90653887e+01, 5.66632117e+01,\n       5.50352424e+01, 5.22848798e+01, 4.21634098e+01, 3.69654414e+01,\n       3.48854106e+01, 3.19831742e+01, 3.07576985e+01, 2.76895538e+01,\n       7.00272113e+00, 5.91226461e+00, 5.13141890e+00, 5.04184341e+00,\n       4.83542712e+00, 4.38741686e+00, 4.18466573e+00, 3.93846248e+00,\n       3.46302504e+00, 3.43286606e+00, 3.30412200e+00, 2.81136348e+00,\n       2.52911409e+00, 2.35553242e+00, 2.04027404e+00, 1.89588664e+00,\n       1.30458871e+00, 9.96752780e-01, 9.60071552e-01])"
     },
     "execution_count": 9,
     "metadata": {},
     "output_type": "execute_result"
    }
   ],
   "source": [
    "u, s, vh = np.linalg.svd(X)\n",
    "s = np.roll(s, 1)"
   ]
  },
  {
   "cell_type": "code",
   "execution_count": 10,
   "metadata": {},
   "outputs": [
    {
     "data": {
      "text/plain": "(370, 51)"
     },
     "execution_count": 10,
     "metadata": {},
     "output_type": "execute_result"
    }
   ],
   "source": [
    "np.array([np.zeros(51)] * (421-51)).shape"
   ]
  },
  {
   "cell_type": "code",
   "execution_count": 11,
   "metadata": {},
   "outputs": [
    {
     "data": {
      "text/plain": "(421, 51)"
     },
     "execution_count": 11,
     "metadata": {},
     "output_type": "execute_result"
    }
   ],
   "source": [
    "s = np.vstack([np.diag(s), np.array([np.zeros(51)] * (421-51))])\n",
    "s.shape"
   ]
  },
  {
   "cell_type": "code",
   "execution_count": 12,
   "metadata": {},
   "outputs": [
    {
     "data": {
      "text/plain": "array([[-3.46416226e+02, -3.26068727e+02, -8.90536912e+03, ...,\n         2.43703151e+00, -2.29710104e-01, -1.87783579e-01],\n       [ 2.23690737e+02,  2.15419777e+02,  5.81968022e+03, ...,\n        -4.94899159e-01,  9.44307385e-02,  2.06512434e-01],\n       [-7.74364712e+00, -7.84125042e+00, -2.11587590e+02, ...,\n        -2.60671770e-01,  2.60314207e-02, -4.19995410e-02],\n       ...,\n       [-2.33600560e+02, -2.11725402e+02, -5.65899889e+03, ...,\n        -8.86354001e-01, -9.20538336e-02, -3.61037550e-01],\n       [ 5.94228343e+01,  7.13625131e+01,  1.89915592e+03, ...,\n         3.95398072e-01,  3.65767539e-02,  3.88382833e-01],\n       [ 1.59553786e+02,  1.39273307e+02,  3.70344480e+03, ...,\n        -3.39787780e-01,  6.62360059e-02,  1.45600365e-01]])"
     },
     "execution_count": 12,
     "metadata": {},
     "output_type": "execute_result"
    }
   ],
   "source": [
    "new_X = u @ s @ vh\n",
    "new_X"
   ]
  },
  {
   "cell_type": "code",
   "execution_count": 13,
   "metadata": {},
   "outputs": [
    {
     "data": {
      "text/plain": "51615.023869393175"
     },
     "execution_count": 13,
     "metadata": {},
     "output_type": "execute_result"
    }
   ],
   "source": [
    "pca = PCA(n_components=6)\n",
    "pca.fit(new_X)\n",
    "pca_X = pca.transform(new_X)\n",
    "reg = LinearRegression().fit(pca_X, new_y)\n",
    "np.mean((reg.predict(pca_X) - new_y)**2) ** 0.5"
   ]
  },
  {
   "cell_type": "markdown",
   "metadata": {},
   "source": [
    "### CCA"
   ]
  },
  {
   "cell_type": "code",
   "execution_count": 14,
   "metadata": {},
   "outputs": [
    {
     "data": {
      "text/plain": "27780.730265985967"
     },
     "execution_count": 14,
     "metadata": {},
     "output_type": "execute_result"
    }
   ],
   "source": [
    "cca = CCA(n_components=6)\n",
    "cca.fit(new_X, new_y)\n",
    "cca_X = cca.transform(new_X)\n",
    "reg = LinearRegression().fit(cca_X, new_y)\n",
    "np.mean((reg.predict(cca_X) - new_y)**2) ** 0.5"
   ]
  },
  {
   "cell_type": "code",
   "execution_count": null,
   "metadata": {},
   "outputs": [],
   "source": []
  }
 ],
 "metadata": {
  "kernelspec": {
   "display_name": "Python 3",
   "language": "python",
   "name": "python3"
  },
  "language_info": {}
 },
 "nbformat": 4,
 "nbformat_minor": 4
}