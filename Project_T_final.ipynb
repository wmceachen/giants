{
 "cells": [
  {
   "cell_type": "markdown",
   "metadata": {},
   "source": [
    "# Project T Final: PCA and CCA\n",
    "\n",
    "By Jai Bansal, Abhinav Gopal, Grace Kull, William McEachen, Shrey Vasavada"
   ]
  },
  {
   "cell_type": "code",
   "execution_count": 167,
   "metadata": {
    "scrolled": true
   },
   "outputs": [],
   "source": [
    "import pandas as pd\n",
    "import numpy as np\n",
    "import math\n",
    "from sklearn.decomposition import PCA\n",
    "from sklearn.cross_decomposition import CCA\n",
    "from sklearn.linear_model import LinearRegression\n",
    "from sklearn.linear_model import Ridge\n",
    "from sklearn.preprocessing import StandardScaler"
   ]
  },
  {
   "cell_type": "markdown",
   "metadata": {},
   "source": [
    "Run the cell below only once per session. The utils.py file contains some black box functions which will be used later in this assignment. "
   ]
  },
  {
   "cell_type": "code",
   "execution_count": 152,
   "metadata": {},
   "outputs": [
    {
     "name": "stdout",
     "output_type": "stream",
     "text": [
      "ln: utils.py: File exists\r\n"
     ]
    }
   ],
   "source": [
    "!ln -s ./utils.py utils.py"
   ]
  },
  {
   "cell_type": "code",
   "execution_count": 153,
   "metadata": {},
   "outputs": [],
   "source": [
    "import utils"
   ]
  },
  {
   "cell_type": "markdown",
   "metadata": {},
   "source": [
    "## Part 1: Initial Data Cleaning"
   ]
  },
  {
   "cell_type": "markdown",
   "metadata": {},
   "source": [
    "In this assignment, we will be looking at a real dataset of baseball players, and using the information to predict their salaries. Some of the information in this dataset about the players includes their names, ids, positions, years played, and their batting statistics. \n",
    "\n",
    "First, load the csv file to see all the information."
   ]
  },
  {
   "cell_type": "code",
   "execution_count": 154,
   "metadata": {},
   "outputs": [],
   "source": [
    "baseball = pd.read_csv(\"baseball_data.csv\")"
   ]
  },
  {
   "cell_type": "code",
   "execution_count": 155,
   "metadata": {},
   "outputs": [
    {
     "data": {
      "text/html": [
       "<div>\n",
       "<style scoped>\n",
       "    .dataframe tbody tr th:only-of-type {\n",
       "        vertical-align: middle;\n",
       "    }\n",
       "\n",
       "    .dataframe tbody tr th {\n",
       "        vertical-align: top;\n",
       "    }\n",
       "\n",
       "    .dataframe thead th {\n",
       "        text-align: right;\n",
       "    }\n",
       "</style>\n",
       "<table border=\"1\" class=\"dataframe\">\n",
       "  <thead>\n",
       "    <tr style=\"text-align: right;\">\n",
       "      <th></th>\n",
       "      <th>id</th>\n",
       "      <th>yearid</th>\n",
       "      <th>teamid</th>\n",
       "      <th>lgid</th>\n",
       "      <th>namefirst</th>\n",
       "      <th>namelast</th>\n",
       "      <th>salary</th>\n",
       "      <th>pos</th>\n",
       "      <th>g.x</th>\n",
       "      <th>gs</th>\n",
       "      <th>...</th>\n",
       "      <th>sh</th>\n",
       "      <th>sf</th>\n",
       "      <th>gidp</th>\n",
       "      <th>years</th>\n",
       "      <th>cab</th>\n",
       "      <th>ch</th>\n",
       "      <th>chr</th>\n",
       "      <th>cr</th>\n",
       "      <th>crbi</th>\n",
       "      <th>cbb</th>\n",
       "    </tr>\n",
       "  </thead>\n",
       "  <tbody>\n",
       "    <tr>\n",
       "      <th>0</th>\n",
       "      <td>abreubo01</td>\n",
       "      <td>2012.0</td>\n",
       "      <td>LAA</td>\n",
       "      <td>AL</td>\n",
       "      <td>Bobby</td>\n",
       "      <td>Abreu</td>\n",
       "      <td>9000000.0</td>\n",
       "      <td>OF</td>\n",
       "      <td>54</td>\n",
       "      <td>50</td>\n",
       "      <td>...</td>\n",
       "      <td>0</td>\n",
       "      <td>1</td>\n",
       "      <td>7</td>\n",
       "      <td>17</td>\n",
       "      <td>8347</td>\n",
       "      <td>2437</td>\n",
       "      <td>287</td>\n",
       "      <td>1441</td>\n",
       "      <td>1349</td>\n",
       "      <td>1456</td>\n",
       "    </tr>\n",
       "    <tr>\n",
       "      <th>1</th>\n",
       "      <td>abreuto01</td>\n",
       "      <td>NaN</td>\n",
       "      <td>NaN</td>\n",
       "      <td>NaN</td>\n",
       "      <td>NaN</td>\n",
       "      <td>NaN</td>\n",
       "      <td>NaN</td>\n",
       "      <td>23</td>\n",
       "      <td>21</td>\n",
       "      <td>17</td>\n",
       "      <td>...</td>\n",
       "      <td>0</td>\n",
       "      <td>1</td>\n",
       "      <td>1</td>\n",
       "      <td>4</td>\n",
       "      <td>437</td>\n",
       "      <td>110</td>\n",
       "      <td>4</td>\n",
       "      <td>40</td>\n",
       "      <td>46</td>\n",
       "      <td>16</td>\n",
       "    </tr>\n",
       "    <tr>\n",
       "      <th>2</th>\n",
       "      <td>ackledu01</td>\n",
       "      <td>2012.0</td>\n",
       "      <td>SEA</td>\n",
       "      <td>AL</td>\n",
       "      <td>Dustin</td>\n",
       "      <td>Ackley</td>\n",
       "      <td>2100000.0</td>\n",
       "      <td>12</td>\n",
       "      <td>153</td>\n",
       "      <td>147</td>\n",
       "      <td>...</td>\n",
       "      <td>1</td>\n",
       "      <td>1</td>\n",
       "      <td>3</td>\n",
       "      <td>2</td>\n",
       "      <td>940</td>\n",
       "      <td>228</td>\n",
       "      <td>18</td>\n",
       "      <td>123</td>\n",
       "      <td>86</td>\n",
       "      <td>99</td>\n",
       "    </tr>\n",
       "    <tr>\n",
       "      <th>3</th>\n",
       "      <td>adamsma01</td>\n",
       "      <td>NaN</td>\n",
       "      <td>NaN</td>\n",
       "      <td>NaN</td>\n",
       "      <td>NaN</td>\n",
       "      <td>NaN</td>\n",
       "      <td>NaN</td>\n",
       "      <td>1B</td>\n",
       "      <td>24</td>\n",
       "      <td>23</td>\n",
       "      <td>...</td>\n",
       "      <td>0</td>\n",
       "      <td>0</td>\n",
       "      <td>3</td>\n",
       "      <td>1</td>\n",
       "      <td>86</td>\n",
       "      <td>21</td>\n",
       "      <td>2</td>\n",
       "      <td>8</td>\n",
       "      <td>13</td>\n",
       "      <td>5</td>\n",
       "    </tr>\n",
       "    <tr>\n",
       "      <th>4</th>\n",
       "      <td>allenbr01</td>\n",
       "      <td>2012.0</td>\n",
       "      <td>OAK</td>\n",
       "      <td>AL</td>\n",
       "      <td>Brandon</td>\n",
       "      <td>Allen</td>\n",
       "      <td>482500.0</td>\n",
       "      <td>O1</td>\n",
       "      <td>6</td>\n",
       "      <td>5</td>\n",
       "      <td>...</td>\n",
       "      <td>0</td>\n",
       "      <td>0</td>\n",
       "      <td>0</td>\n",
       "      <td>4</td>\n",
       "      <td>344</td>\n",
       "      <td>70</td>\n",
       "      <td>12</td>\n",
       "      <td>44</td>\n",
       "      <td>41</td>\n",
       "      <td>42</td>\n",
       "    </tr>\n",
       "  </tbody>\n",
       "</table>\n",
       "<p>5 rows × 40 columns</p>\n",
       "</div>"
      ],
      "text/plain": [
       "          id  yearid teamid lgid namefirst namelast     salary pos  g.x   gs  \\\n",
       "0  abreubo01  2012.0    LAA   AL     Bobby    Abreu  9000000.0  OF   54   50   \n",
       "1  abreuto01     NaN    NaN  NaN       NaN      NaN        NaN  23   21   17   \n",
       "2  ackledu01  2012.0    SEA   AL    Dustin   Ackley  2100000.0  12  153  147   \n",
       "3  adamsma01     NaN    NaN  NaN       NaN      NaN        NaN  1B   24   23   \n",
       "4  allenbr01  2012.0    OAK   AL   Brandon    Allen   482500.0  O1    6    5   \n",
       "\n",
       "   ...  sh  sf  gidp  years   cab    ch  chr    cr  crbi   cbb  \n",
       "0  ...   0   1     7     17  8347  2437  287  1441  1349  1456  \n",
       "1  ...   0   1     1      4   437   110    4    40    46    16  \n",
       "2  ...   1   1     3      2   940   228   18   123    86    99  \n",
       "3  ...   0   0     3      1    86    21    2     8    13     5  \n",
       "4  ...   0   0     0      4   344    70   12    44    41    42  \n",
       "\n",
       "[5 rows x 40 columns]"
      ]
     },
     "execution_count": 155,
     "metadata": {},
     "output_type": "execute_result"
    }
   ],
   "source": [
    "baseball.head()"
   ]
  },
  {
   "cell_type": "markdown",
   "metadata": {},
   "source": [
    "From the initial obsevation of the data, it is clear that the types of data needed to predict salaries will be numerical, or categorical. Additionally, rows with no salary information will have no use to us. So we'll start the data cleaning process by dropping columns that don't have categorical or numerical data, and dropping rows with no salary information."
   ]
  },
  {
   "cell_type": "code",
   "execution_count": 288,
   "metadata": {},
   "outputs": [],
   "source": [
    "# Initial data cleaning by dropping rows with no salary information, \n",
    "# and dropping the columns with information that is not relevant enough to predict salaries\n",
    "# ('id', 'yearid','teamid','lgid','namefirst','namelast')\n",
    "data = baseball.drop(columns = ['id', 'yearid','teamid','lgid','namefirst','namelast', 'g_batting'])\n",
    "data = data[data['salary'] > 0]"
   ]
  },
  {
   "cell_type": "code",
   "execution_count": 289,
   "metadata": {},
   "outputs": [
    {
     "data": {
      "text/plain": [
       "(421, 33)"
      ]
     },
     "execution_count": 289,
     "metadata": {},
     "output_type": "execute_result"
    }
   ],
   "source": [
    "data.shape"
   ]
  },
  {
   "cell_type": "markdown",
   "metadata": {},
   "source": [
    "We will now start one-hot encoding our position data. Because there are several different positions, where each one can have an impact on a player's salary, it is important for us to take that data into account, even though it's not numerical. We will create a new column for each different kind of position and for each row, the value of that column will be 1 if the player is in that position, and 0 if the player is not. Fill out the cell below to implement one-hot encoding. Remember to drop the original 'pos' column from the dataset when the one-hot encoding is complete."
   ]
  },
  {
   "cell_type": "code",
   "execution_count": 292,
   "metadata": {},
   "outputs": [],
   "source": [
    "# One-hot encoding for each of the different positions\n",
    "\n",
    "# Solution #\n",
    "positions = np.unique(data['pos'])\n",
    "temp_array = np.array(data['pos'])\n",
    "for position in positions:\n",
    "    indicator = np.zeros(len(data['pos']))\n",
    "    for j in range(len(temp_array)):\n",
    "        if temp_array[j] == position:\n",
    "            indicator[j] = 1\n",
    "    data[position] = indicator\n",
    "# End solution #\n",
    "\n",
    "data_one_hot = data.drop(columns = ['pos'])"
   ]
  },
  {
   "cell_type": "markdown",
   "metadata": {},
   "source": [
    "Finally, replace all NaN values with 0.0, as all data is numerical at this point."
   ]
  },
  {
   "cell_type": "code",
   "execution_count": 294,
   "metadata": {},
   "outputs": [],
   "source": [
    "cleaned = data_one_hot.fillna(value=0.0)"
   ]
  },
  {
   "cell_type": "code",
   "execution_count": 295,
   "metadata": {
    "scrolled": false
   },
   "outputs": [
    {
     "data": {
      "text/html": [
       "<div>\n",
       "<style scoped>\n",
       "    .dataframe tbody tr th:only-of-type {\n",
       "        vertical-align: middle;\n",
       "    }\n",
       "\n",
       "    .dataframe tbody tr th {\n",
       "        vertical-align: top;\n",
       "    }\n",
       "\n",
       "    .dataframe thead th {\n",
       "        text-align: right;\n",
       "    }\n",
       "</style>\n",
       "<table border=\"1\" class=\"dataframe\">\n",
       "  <thead>\n",
       "    <tr style=\"text-align: right;\">\n",
       "      <th></th>\n",
       "      <th>salary</th>\n",
       "      <th>g.x</th>\n",
       "      <th>gs</th>\n",
       "      <th>innouts</th>\n",
       "      <th>po</th>\n",
       "      <th>a</th>\n",
       "      <th>e</th>\n",
       "      <th>dp</th>\n",
       "      <th>g.y</th>\n",
       "      <th>ab</th>\n",
       "      <th>...</th>\n",
       "      <th>C1</th>\n",
       "      <th>CF</th>\n",
       "      <th>LF</th>\n",
       "      <th>O1</th>\n",
       "      <th>O2</th>\n",
       "      <th>O3</th>\n",
       "      <th>OC</th>\n",
       "      <th>OF</th>\n",
       "      <th>RF</th>\n",
       "      <th>SS</th>\n",
       "    </tr>\n",
       "  </thead>\n",
       "  <tbody>\n",
       "    <tr>\n",
       "      <th>0</th>\n",
       "      <td>9000000.0</td>\n",
       "      <td>54</td>\n",
       "      <td>50</td>\n",
       "      <td>1133</td>\n",
       "      <td>70</td>\n",
       "      <td>2</td>\n",
       "      <td>1</td>\n",
       "      <td>1</td>\n",
       "      <td>100</td>\n",
       "      <td>219</td>\n",
       "      <td>...</td>\n",
       "      <td>0.0</td>\n",
       "      <td>0.0</td>\n",
       "      <td>0.0</td>\n",
       "      <td>0.0</td>\n",
       "      <td>0.0</td>\n",
       "      <td>0.0</td>\n",
       "      <td>0.0</td>\n",
       "      <td>1.0</td>\n",
       "      <td>0.0</td>\n",
       "      <td>0.0</td>\n",
       "    </tr>\n",
       "    <tr>\n",
       "      <th>2</th>\n",
       "      <td>2100000.0</td>\n",
       "      <td>153</td>\n",
       "      <td>147</td>\n",
       "      <td>3953</td>\n",
       "      <td>289</td>\n",
       "      <td>398</td>\n",
       "      <td>8</td>\n",
       "      <td>96</td>\n",
       "      <td>153</td>\n",
       "      <td>607</td>\n",
       "      <td>...</td>\n",
       "      <td>0.0</td>\n",
       "      <td>0.0</td>\n",
       "      <td>0.0</td>\n",
       "      <td>0.0</td>\n",
       "      <td>0.0</td>\n",
       "      <td>0.0</td>\n",
       "      <td>0.0</td>\n",
       "      <td>0.0</td>\n",
       "      <td>0.0</td>\n",
       "      <td>0.0</td>\n",
       "    </tr>\n",
       "    <tr>\n",
       "      <th>4</th>\n",
       "      <td>482500.0</td>\n",
       "      <td>6</td>\n",
       "      <td>5</td>\n",
       "      <td>129</td>\n",
       "      <td>29</td>\n",
       "      <td>2</td>\n",
       "      <td>0</td>\n",
       "      <td>1</td>\n",
       "      <td>10</td>\n",
       "      <td>20</td>\n",
       "      <td>...</td>\n",
       "      <td>0.0</td>\n",
       "      <td>0.0</td>\n",
       "      <td>0.0</td>\n",
       "      <td>1.0</td>\n",
       "      <td>0.0</td>\n",
       "      <td>0.0</td>\n",
       "      <td>0.0</td>\n",
       "      <td>0.0</td>\n",
       "      <td>0.0</td>\n",
       "      <td>0.0</td>\n",
       "    </tr>\n",
       "    <tr>\n",
       "      <th>5</th>\n",
       "      <td>1400000.0</td>\n",
       "      <td>149</td>\n",
       "      <td>144</td>\n",
       "      <td>3829</td>\n",
       "      <td>1269</td>\n",
       "      <td>96</td>\n",
       "      <td>12</td>\n",
       "      <td>77</td>\n",
       "      <td>155</td>\n",
       "      <td>549</td>\n",
       "      <td>...</td>\n",
       "      <td>0.0</td>\n",
       "      <td>0.0</td>\n",
       "      <td>0.0</td>\n",
       "      <td>0.0</td>\n",
       "      <td>0.0</td>\n",
       "      <td>0.0</td>\n",
       "      <td>0.0</td>\n",
       "      <td>0.0</td>\n",
       "      <td>0.0</td>\n",
       "      <td>0.0</td>\n",
       "    </tr>\n",
       "    <tr>\n",
       "      <th>6</th>\n",
       "      <td>483000.0</td>\n",
       "      <td>147</td>\n",
       "      <td>142</td>\n",
       "      <td>3680</td>\n",
       "      <td>257</td>\n",
       "      <td>410</td>\n",
       "      <td>11</td>\n",
       "      <td>83</td>\n",
       "      <td>147</td>\n",
       "      <td>576</td>\n",
       "      <td>...</td>\n",
       "      <td>0.0</td>\n",
       "      <td>0.0</td>\n",
       "      <td>0.0</td>\n",
       "      <td>0.0</td>\n",
       "      <td>0.0</td>\n",
       "      <td>0.0</td>\n",
       "      <td>0.0</td>\n",
       "      <td>0.0</td>\n",
       "      <td>0.0</td>\n",
       "      <td>0.0</td>\n",
       "    </tr>\n",
       "    <tr>\n",
       "      <th>7</th>\n",
       "      <td>2200000.0</td>\n",
       "      <td>145</td>\n",
       "      <td>143</td>\n",
       "      <td>3819</td>\n",
       "      <td>73</td>\n",
       "      <td>264</td>\n",
       "      <td>27</td>\n",
       "      <td>23</td>\n",
       "      <td>149</td>\n",
       "      <td>525</td>\n",
       "      <td>...</td>\n",
       "      <td>0.0</td>\n",
       "      <td>0.0</td>\n",
       "      <td>0.0</td>\n",
       "      <td>0.0</td>\n",
       "      <td>0.0</td>\n",
       "      <td>0.0</td>\n",
       "      <td>0.0</td>\n",
       "      <td>0.0</td>\n",
       "      <td>0.0</td>\n",
       "      <td>0.0</td>\n",
       "    </tr>\n",
       "    <tr>\n",
       "      <th>8</th>\n",
       "      <td>481000.0</td>\n",
       "      <td>107</td>\n",
       "      <td>64</td>\n",
       "      <td>1783</td>\n",
       "      <td>120</td>\n",
       "      <td>128</td>\n",
       "      <td>4</td>\n",
       "      <td>22</td>\n",
       "      <td>106</td>\n",
       "      <td>275</td>\n",
       "      <td>...</td>\n",
       "      <td>0.0</td>\n",
       "      <td>0.0</td>\n",
       "      <td>0.0</td>\n",
       "      <td>0.0</td>\n",
       "      <td>0.0</td>\n",
       "      <td>0.0</td>\n",
       "      <td>0.0</td>\n",
       "      <td>0.0</td>\n",
       "      <td>0.0</td>\n",
       "      <td>0.0</td>\n",
       "    </tr>\n",
       "    <tr>\n",
       "      <th>11</th>\n",
       "      <td>1300000.0</td>\n",
       "      <td>127</td>\n",
       "      <td>107</td>\n",
       "      <td>3036</td>\n",
       "      <td>195</td>\n",
       "      <td>306</td>\n",
       "      <td>13</td>\n",
       "      <td>71</td>\n",
       "      <td>127</td>\n",
       "      <td>384</td>\n",
       "      <td>...</td>\n",
       "      <td>0.0</td>\n",
       "      <td>0.0</td>\n",
       "      <td>0.0</td>\n",
       "      <td>0.0</td>\n",
       "      <td>0.0</td>\n",
       "      <td>0.0</td>\n",
       "      <td>0.0</td>\n",
       "      <td>0.0</td>\n",
       "      <td>0.0</td>\n",
       "      <td>0.0</td>\n",
       "    </tr>\n",
       "    <tr>\n",
       "      <th>12</th>\n",
       "      <td>2625000.0</td>\n",
       "      <td>153</td>\n",
       "      <td>150</td>\n",
       "      <td>3999</td>\n",
       "      <td>233</td>\n",
       "      <td>414</td>\n",
       "      <td>16</td>\n",
       "      <td>91</td>\n",
       "      <td>158</td>\n",
       "      <td>629</td>\n",
       "      <td>...</td>\n",
       "      <td>0.0</td>\n",
       "      <td>0.0</td>\n",
       "      <td>0.0</td>\n",
       "      <td>0.0</td>\n",
       "      <td>0.0</td>\n",
       "      <td>0.0</td>\n",
       "      <td>0.0</td>\n",
       "      <td>0.0</td>\n",
       "      <td>0.0</td>\n",
       "      <td>1.0</td>\n",
       "    </tr>\n",
       "    <tr>\n",
       "      <th>13</th>\n",
       "      <td>1250000.0</td>\n",
       "      <td>62</td>\n",
       "      <td>37</td>\n",
       "      <td>1146</td>\n",
       "      <td>115</td>\n",
       "      <td>2</td>\n",
       "      <td>2</td>\n",
       "      <td>0</td>\n",
       "      <td>68</td>\n",
       "      <td>158</td>\n",
       "      <td>...</td>\n",
       "      <td>0.0</td>\n",
       "      <td>1.0</td>\n",
       "      <td>0.0</td>\n",
       "      <td>0.0</td>\n",
       "      <td>0.0</td>\n",
       "      <td>0.0</td>\n",
       "      <td>0.0</td>\n",
       "      <td>0.0</td>\n",
       "      <td>0.0</td>\n",
       "      <td>0.0</td>\n",
       "    </tr>\n",
       "  </tbody>\n",
       "</table>\n",
       "<p>10 rows × 52 columns</p>\n",
       "</div>"
      ],
      "text/plain": [
       "       salary  g.x   gs  innouts    po    a   e  dp  g.y   ab  ...   C1   CF  \\\n",
       "0   9000000.0   54   50     1133    70    2   1   1  100  219  ...  0.0  0.0   \n",
       "2   2100000.0  153  147     3953   289  398   8  96  153  607  ...  0.0  0.0   \n",
       "4    482500.0    6    5      129    29    2   0   1   10   20  ...  0.0  0.0   \n",
       "5   1400000.0  149  144     3829  1269   96  12  77  155  549  ...  0.0  0.0   \n",
       "6    483000.0  147  142     3680   257  410  11  83  147  576  ...  0.0  0.0   \n",
       "7   2200000.0  145  143     3819    73  264  27  23  149  525  ...  0.0  0.0   \n",
       "8    481000.0  107   64     1783   120  128   4  22  106  275  ...  0.0  0.0   \n",
       "11  1300000.0  127  107     3036   195  306  13  71  127  384  ...  0.0  0.0   \n",
       "12  2625000.0  153  150     3999   233  414  16  91  158  629  ...  0.0  0.0   \n",
       "13  1250000.0   62   37     1146   115    2   2   0   68  158  ...  0.0  1.0   \n",
       "\n",
       "     LF   O1   O2   O3   OC   OF   RF   SS  \n",
       "0   0.0  0.0  0.0  0.0  0.0  1.0  0.0  0.0  \n",
       "2   0.0  0.0  0.0  0.0  0.0  0.0  0.0  0.0  \n",
       "4   0.0  1.0  0.0  0.0  0.0  0.0  0.0  0.0  \n",
       "5   0.0  0.0  0.0  0.0  0.0  0.0  0.0  0.0  \n",
       "6   0.0  0.0  0.0  0.0  0.0  0.0  0.0  0.0  \n",
       "7   0.0  0.0  0.0  0.0  0.0  0.0  0.0  0.0  \n",
       "8   0.0  0.0  0.0  0.0  0.0  0.0  0.0  0.0  \n",
       "11  0.0  0.0  0.0  0.0  0.0  0.0  0.0  0.0  \n",
       "12  0.0  0.0  0.0  0.0  0.0  0.0  0.0  1.0  \n",
       "13  0.0  0.0  0.0  0.0  0.0  0.0  0.0  0.0  \n",
       "\n",
       "[10 rows x 52 columns]"
      ]
     },
     "execution_count": 295,
     "metadata": {},
     "output_type": "execute_result"
    }
   ],
   "source": [
    "# Cleaned data from one-hot encoding the positions. \n",
    "cleaned.head(10)"
   ]
  },
  {
   "cell_type": "markdown",
   "metadata": {},
   "source": [
    "## Part 2: Linear Regression, PCA and CCA Observations"
   ]
  },
  {
   "cell_type": "code",
   "execution_count": 161,
   "metadata": {},
   "outputs": [],
   "source": [
    "# Students will run PCA and CCA on the cleaned data to see which one predicts the salaries better\n",
    "# They will also make plots for both PCA and CCA\n",
    "\n",
    "# Have students implement PCA and CCA without the libraries.\n",
    "# Ask which one performs better, and ask why CCA is almost as good as regression\n",
    "# Also have an intro to linear regression too"
   ]
  },
  {
   "cell_type": "markdown",
   "metadata": {},
   "source": [
    "First, we split the data into the set of features and the value that is being predicted, which are the salaries. "
   ]
  },
  {
   "cell_type": "code",
   "execution_count": 162,
   "metadata": {},
   "outputs": [],
   "source": [
    "X, y = cleaned.drop(axis=1, columns=['salary']), cleaned['salary']"
   ]
  },
  {
   "cell_type": "markdown",
   "metadata": {},
   "source": [
    "### 2a. Linear Regression"
   ]
  },
  {
   "cell_type": "markdown",
   "metadata": {},
   "source": [
    "Linear regression is one of the easier methods used to make predictions on a model. It is a linear method that models the relationship between a variable and one or more features. A technique used in linear regression is called least squares, which finds the categorical weights that will lead to the best-fit linear regression model. The weights can be calculated for a feature matrix $X$ and a set of values $y$ using the formula $\\textbf{w} = (X^{T}X)^{-1}X^{T}y$. \n",
    "\n",
    "Fill out the cell below to implement the least squares function. There is a module in <code>sklearn</code> called <code>LinearRegression</code>, but for this part, you are not allowed to use sklearn when implementing linear regression. Additionally, you may not use <code>np.linalg.lstsq</code>."
   ]
  },
  {
   "cell_type": "code",
   "execution_count": 300,
   "metadata": {},
   "outputs": [],
   "source": [
    "def least_squares(features, prediction):\n",
    "    # YOUR CODE HERE #\n",
    "    # Solution #\n",
    "    return np.linalg.inv(features.T@features)@features.T@prediction\n",
    "    # End solution #"
   ]
  },
  {
   "cell_type": "markdown",
   "metadata": {},
   "source": [
    "Now run your <code>least_squares</code> function on the data above, and calculate the MSE for the data. Hint: use <code>np.matrix</code>"
   ]
  },
  {
   "cell_type": "code",
   "execution_count": 301,
   "metadata": {},
   "outputs": [
    {
     "data": {
      "text/plain": [
       "2699272.5784772914"
      ]
     },
     "execution_count": 301,
     "metadata": {},
     "output_type": "execute_result"
    }
   ],
   "source": [
    "weights = least_squares(X, y)\n",
    "# Solution #\n",
    "mse_linear_reg = np.mean((y - np.matrix(X)@weights)**2) ** 0.5\n",
    "# End solution #\n",
    "mse_linear_reg"
   ]
  },
  {
   "cell_type": "markdown",
   "metadata": {},
   "source": [
    "We will now explore some methods to see how they affect the MSE, starting with PCA below."
   ]
  },
  {
   "cell_type": "markdown",
   "metadata": {},
   "source": [
    "### 2b. Principal Component Analysis (PCA)"
   ]
  },
  {
   "cell_type": "markdown",
   "metadata": {},
   "source": [
    "Principal Component Analysis (PCA) is another method that makes use of the \"horizontal directions\" that have the most influence on a dataset. It is useful because often times, only a few components are needed in order to make accurate predictions, as components with less weight will not have as great of an influence.\n",
    "\n",
    "To implement PCA, it it important to first scale the features, in order for certain features to not overpower other features. Additionally, we ignore class labels, making this an unsupervised learning method. Next, the mean vector is calculated using the formula $\\textbf{m} =\\frac{1}{n}\\sum_{i=1}^{n} x_i$. Next, calculate the scatter matrix, which is $S = \\sum_{i=1}^{n} (x_i - \\textbf{m})(x_i - \\textbf{m})^T$. Then find the eigenvalues and vectors of the scatter matrix, take the first num_components of the eigenvectors, and calculate the projection matrix using those eigenvectors and the scaled matrix. Finally, perform linear regression with the projection matrix.\n",
    "\n",
    "Fill out the cell below to find the MSE using PCA with linear regression for 2, 5, and 8 components. What number of components had the smallest MSE? Does increasing the number of components lower the MSE, or does it increase after a certain amount of components? Will PCA ever produce a MSE lower that that of using linear regression alone? You may only use <code>numpy</code> and not <code>PCA</code> or <code>LinearRegression</code> in this part of your solution."
   ]
  },
  {
   "cell_type": "code",
   "execution_count": 286,
   "metadata": {},
   "outputs": [],
   "source": [
    "def pca(features, preds, num_components):\n",
    "    # First, the features are scaled since no feature is more important \n",
    "    scaled = StandardScaler().fit_transform(features)\n",
    "    mean_vector = np.zeros(51)\n",
    "    \n",
    "    # YOUR CODE HERE #\n",
    "    # Solution#\n",
    "    for i in range(len(features.iloc[0, :])):\n",
    "        mean_vector[i] = np.mean(features.iloc[:, i])\n",
    "    scatter_matrix = np.zeros((51, 51))\n",
    "    for i in range(features.shape[1]):\n",
    "        scatter_matrix += (scaled[i] - mean_vector)@((scaled[i] - mean_vector).T)\n",
    "    cov_matrix = np.cov(scaled)\n",
    "    eigenvalues, eigenvectors = np.linalg.eig(scatter_matrix)\n",
    "    \n",
    "    # This line is included to account for slight complex values being included in the scatter matrix calculations\n",
    "    eigenvectors = eigenvectors.real\n",
    "    \n",
    "    proj_matrix = eigenvectors.T[0:num_components]\n",
    "    proj_data = scaled@proj_matrix.T\n",
    "    reg = LinearRegression().fit(proj_data, preds)\n",
    "    mse = np.mean((reg.predict(proj_data) - preds)**2) ** 0.5\n",
    "    return mse\n",
    "    # End Solution #"
   ]
  },
  {
   "cell_type": "code",
   "execution_count": 283,
   "metadata": {},
   "outputs": [
    {
     "data": {
      "text/plain": [
       "3654226.6699677957"
      ]
     },
     "execution_count": 283,
     "metadata": {},
     "output_type": "execute_result"
    }
   ],
   "source": [
    "pca(X, y, 2)"
   ]
  },
  {
   "cell_type": "code",
   "execution_count": 284,
   "metadata": {},
   "outputs": [
    {
     "data": {
      "text/plain": [
       "3610108.431577425"
      ]
     },
     "execution_count": 284,
     "metadata": {},
     "output_type": "execute_result"
    }
   ],
   "source": [
    "pca(X, y, 5)"
   ]
  },
  {
   "cell_type": "code",
   "execution_count": 285,
   "metadata": {},
   "outputs": [
    {
     "data": {
      "text/plain": [
       "3587433.017884171"
      ]
     },
     "execution_count": 285,
     "metadata": {},
     "output_type": "execute_result"
    }
   ],
   "source": [
    "pca(X, y, 8)"
   ]
  },
  {
   "cell_type": "markdown",
   "metadata": {},
   "source": [
    "Now use the <code>PCA</code> module from <code>sklearn</code> to check your implementation of PCA"
   ]
  },
  {
   "cell_type": "code",
   "execution_count": 279,
   "metadata": {},
   "outputs": [
    {
     "data": {
      "text/plain": [
       "3504538.537484557"
      ]
     },
     "execution_count": 279,
     "metadata": {},
     "output_type": "execute_result"
    }
   ],
   "source": [
    "# PCA with 2 components #\n",
    "# YOUR CODE HERE #\n",
    "\n",
    "# Solution #\n",
    "pca2 = PCA(n_components=2)\n",
    "pca2.fit(X, y)\n",
    "pca2_X = pca2.transform(X)\n",
    "reg2 = LinearRegression().fit(pca2_X, y)\n",
    "mse2 = np.mean((reg2.predict(pca2_X) - y)**2) ** 0.5\n",
    "mse2\n",
    "# End solution #"
   ]
  },
  {
   "cell_type": "code",
   "execution_count": 280,
   "metadata": {},
   "outputs": [
    {
     "data": {
      "text/plain": [
       "3339477.135289231"
      ]
     },
     "execution_count": 280,
     "metadata": {},
     "output_type": "execute_result"
    }
   ],
   "source": [
    "# PCA with 5 components #\n",
    "# YOUR CODE HERE #\n",
    "\n",
    "# Solution #\n",
    "pca5 = PCA(n_components=5)\n",
    "pca5.fit(X, y)\n",
    "pca5_X = pca5.transform(X)\n",
    "reg5 = LinearRegression().fit(pca5_X, y)\n",
    "mse5 = np.mean((reg5.predict(pca5_X) - y)**2) ** 0.5\n",
    "mse5\n",
    "# End solution #"
   ]
  },
  {
   "cell_type": "code",
   "execution_count": 281,
   "metadata": {},
   "outputs": [
    {
     "data": {
      "text/plain": [
       "3095173.409120575"
      ]
     },
     "execution_count": 281,
     "metadata": {},
     "output_type": "execute_result"
    }
   ],
   "source": [
    "# PCA with 8 components #\n",
    "# YOUR CODE HERE#\n",
    "\n",
    "# Solution #\n",
    "pca8 = PCA(n_components=8)\n",
    "pca8.fit(X, y)\n",
    "pca8_X = pca8.transform(X)\n",
    "reg8 = LinearRegression().fit(pca8_X, y)\n",
    "mse8 = np.mean((reg8.predict(pca8_X) - y)**2) ** 0.5\n",
    "mse8\n",
    "# End solution #"
   ]
  },
  {
   "cell_type": "markdown",
   "metadata": {},
   "source": [
    "Fill out the cell below with your observations:"
   ]
  },
  {
   "cell_type": "code",
   "execution_count": 91,
   "metadata": {},
   "outputs": [],
   "source": [
    "# Fill out this cell with observations #"
   ]
  },
  {
   "cell_type": "markdown",
   "metadata": {},
   "source": [
    "### 2c. Canonical Correction Analysis (CCA)"
   ]
  },
  {
   "cell_type": "markdown",
   "metadata": {},
   "source": [
    "Fill out the cells below using CCA along with linear regression to find the MSE of 2, 5, and 8 components. How does CCA perform compared to PCA with the same number of components? How does increasing the number of componetns affect the MSE? In general, CCA performs closely to linear regression. Why is that?"
   ]
  },
  {
   "cell_type": "code",
   "execution_count": 99,
   "metadata": {},
   "outputs": [
    {
     "name": "stderr",
     "output_type": "stream",
     "text": [
      "/Users/Grace/.pyenv/versions/3.7.7/lib/python3.7/site-packages/sklearn/cross_decomposition/_pls.py:323: UserWarning: Y residual constant at iteration 1\n",
      "  warnings.warn('Y residual constant at iteration %s' % k)\n"
     ]
    },
    {
     "data": {
      "text/plain": [
       "2699272.5784772914"
      ]
     },
     "execution_count": 99,
     "metadata": {},
     "output_type": "execute_result"
    }
   ],
   "source": [
    "# CCA with 2 components #\n",
    "# YOUR CODE HERE #\n",
    "\n",
    "# Solution #\n",
    "cca2 = CCA(n_components=2)\n",
    "cca2.fit(X, y)\n",
    "cca2_X = cca2.transform(X)\n",
    "reg2 = LinearRegression().fit(cca2_X, y)\n",
    "mse2 = np.mean((reg2.predict(cca2_X) - y)**2) ** 0.5\n",
    "mse2\n",
    "# End solution #"
   ]
  },
  {
   "cell_type": "code",
   "execution_count": 100,
   "metadata": {},
   "outputs": [
    {
     "name": "stderr",
     "output_type": "stream",
     "text": [
      "/Users/Grace/.pyenv/versions/3.7.7/lib/python3.7/site-packages/sklearn/cross_decomposition/_pls.py:323: UserWarning: Y residual constant at iteration 1\n",
      "  warnings.warn('Y residual constant at iteration %s' % k)\n"
     ]
    },
    {
     "data": {
      "text/plain": [
       "2699272.5784772914"
      ]
     },
     "execution_count": 100,
     "metadata": {},
     "output_type": "execute_result"
    }
   ],
   "source": [
    "# CCA with 5 components #\n",
    "# YOUR CODE HERE #\n",
    "\n",
    "# Solution #\n",
    "cca5 = CCA(n_components=5)\n",
    "cca5.fit(X, y)\n",
    "cca5_X = cca5.transform(X)\n",
    "reg5 = LinearRegression().fit(cca5_X, y)\n",
    "mse5 = np.mean((reg5.predict(cca5_X) - y)**2) ** 0.5\n",
    "mse5\n",
    "# End solution #"
   ]
  },
  {
   "cell_type": "code",
   "execution_count": 101,
   "metadata": {},
   "outputs": [
    {
     "name": "stderr",
     "output_type": "stream",
     "text": [
      "/Users/Grace/.pyenv/versions/3.7.7/lib/python3.7/site-packages/sklearn/cross_decomposition/_pls.py:323: UserWarning: Y residual constant at iteration 1\n",
      "  warnings.warn('Y residual constant at iteration %s' % k)\n"
     ]
    },
    {
     "data": {
      "text/plain": [
       "2699272.5784772914"
      ]
     },
     "execution_count": 101,
     "metadata": {},
     "output_type": "execute_result"
    }
   ],
   "source": [
    "# CCA with 8 components #\n",
    "# YOUR CODE HERE #\n",
    "\n",
    "# Solution #\n",
    "cca8 = CCA(n_components=8)\n",
    "cca8.fit(X, y)\n",
    "cca8_X = cca5.transform(X)\n",
    "reg8 = LinearRegression().fit(cca8_X, y)\n",
    "mse8 = np.mean((reg8.predict(cca8_X) - y)**2) ** 0.5\n",
    "mse8\n",
    "# End solution #"
   ]
  },
  {
   "cell_type": "markdown",
   "metadata": {},
   "source": [
    "Fill out the cell below with your observations:"
   ]
  },
  {
   "cell_type": "code",
   "execution_count": 296,
   "metadata": {},
   "outputs": [],
   "source": [
    "# Fill out this cell with observations #"
   ]
  },
  {
   "cell_type": "markdown",
   "metadata": {},
   "source": [
    "## Part 3: Noisy Data"
   ]
  },
  {
   "cell_type": "markdown",
   "metadata": {},
   "source": [
    "In the previous part, we saw observations from Linear Regression, PCA, and CCA on a dataset that has not been affected by noise. We will now observe what happens when our salary column has noise added to it."
   ]
  },
  {
   "cell_type": "markdown",
   "metadata": {},
   "source": [
    "First, run the cell below to generate noised predictions. The <code>utils.noised_predictions</code> is a black box function that will randomly add noise to our salary column using a random Gaussian."
   ]
  },
  {
   "cell_type": "code",
   "execution_count": 104,
   "metadata": {},
   "outputs": [
    {
     "data": {
      "text/plain": [
       "0      8.997394e+06\n",
       "2      2.079227e+06\n",
       "4      4.137829e+05\n",
       "5      1.421994e+06\n",
       "6      4.945498e+05\n",
       "           ...     \n",
       "621    6.714892e+06\n",
       "622    4.430157e+05\n",
       "624    1.618367e+07\n",
       "625    1.199051e+07\n",
       "626    4.734399e+06\n",
       "Name: salary, Length: 421, dtype: float64"
      ]
     },
     "execution_count": 104,
     "metadata": {},
     "output_type": "execute_result"
    }
   ],
   "source": [
    "y_noise = utils.noised_predictions(cleaned)\n",
    "y_noise"
   ]
  },
  {
   "cell_type": "markdown",
   "metadata": {},
   "source": [
    "### 3a. Noisy PCA"
   ]
  },
  {
   "cell_type": "markdown",
   "metadata": {},
   "source": [
    "Use PCA with your noisy predictions and your original dataset. How does adding noise to the salary column change the MSE?"
   ]
  },
  {
   "cell_type": "code",
   "execution_count": 105,
   "metadata": {},
   "outputs": [
    {
     "data": {
      "text/plain": [
       "3503865.618600077"
      ]
     },
     "execution_count": 105,
     "metadata": {},
     "output_type": "execute_result"
    }
   ],
   "source": [
    "# PCA with 2 components #\n",
    "# YOUR CODE HERE #\n",
    "\n",
    "# Solution #\n",
    "pca_noise2 = PCA(n_components=2)\n",
    "pca_noise2.fit(X, y_noise)\n",
    "pca_noise2_X = pca_noise2.transform(X)\n",
    "reg_noise2 = LinearRegression().fit(pca_noise2_X, y_noise)\n",
    "mse_noise2 = np.mean((reg_noise2.predict(pca_noise2_X) - y_noise)**2) ** 0.5\n",
    "mse_noise2\n",
    "# End solution #"
   ]
  },
  {
   "cell_type": "code",
   "execution_count": 107,
   "metadata": {},
   "outputs": [
    {
     "data": {
      "text/plain": [
       "3338626.4188404055"
      ]
     },
     "execution_count": 107,
     "metadata": {},
     "output_type": "execute_result"
    }
   ],
   "source": [
    "# PCA with 5 components #\n",
    "# YOUR CODE HERE #\n",
    "\n",
    "# Solution #\n",
    "pca_noise5 = PCA(n_components=5)\n",
    "pca_noise5.fit(X, y_noise)\n",
    "pca_noise5_X = pca_noise5.transform(X)\n",
    "reg_noise5 = LinearRegression().fit(pca_noise5_X, y_noise)\n",
    "mse_noise5 = np.mean((reg_noise5.predict(pca_noise5_X) - y_noise)**2) ** 0.5\n",
    "mse_noise5\n",
    "# End solution #"
   ]
  },
  {
   "cell_type": "code",
   "execution_count": 108,
   "metadata": {},
   "outputs": [
    {
     "data": {
      "text/plain": [
       "3095419.6475028805"
      ]
     },
     "execution_count": 108,
     "metadata": {},
     "output_type": "execute_result"
    }
   ],
   "source": [
    "# PCA with 8 components #\n",
    "# YOUR CODE HERE #\n",
    "\n",
    "# Solution #\n",
    "pca_noise8 = PCA(n_components=8)\n",
    "pca_noise8.fit(X, y_noise)\n",
    "pca_noise8_X = pca_noise8.transform(X)\n",
    "reg_noise8 = LinearRegression().fit(pca_noise8_X, y_noise)\n",
    "mse_noise8 = np.mean((reg_noise8.predict(pca_noise8_X) - y_noise)**2) ** 0.5\n",
    "mse_noise8\n",
    "# End solution #"
   ]
  },
  {
   "cell_type": "markdown",
   "metadata": {},
   "source": [
    "Fill out the cell below with your observations:"
   ]
  },
  {
   "cell_type": "code",
   "execution_count": 146,
   "metadata": {},
   "outputs": [],
   "source": [
    "# Fill out this cell with observations #"
   ]
  },
  {
   "cell_type": "markdown",
   "metadata": {},
   "source": [
    "### 3b. Noisy CCA"
   ]
  },
  {
   "cell_type": "markdown",
   "metadata": {},
   "source": [
    "Use PCA with your noisy predictions and your original dataset. How does adding noise to the salary column change the MSE?"
   ]
  },
  {
   "cell_type": "code",
   "execution_count": 113,
   "metadata": {},
   "outputs": [
    {
     "name": "stderr",
     "output_type": "stream",
     "text": [
      "/Users/Grace/.pyenv/versions/3.7.7/lib/python3.7/site-packages/sklearn/cross_decomposition/_pls.py:323: UserWarning: Y residual constant at iteration 1\n",
      "  warnings.warn('Y residual constant at iteration %s' % k)\n"
     ]
    },
    {
     "data": {
      "text/plain": [
       "2699678.9723142097"
      ]
     },
     "execution_count": 113,
     "metadata": {},
     "output_type": "execute_result"
    }
   ],
   "source": [
    "# CCA with 2 components #\n",
    "# YOUR CODE HERE #\n",
    "\n",
    "# Solution #\n",
    "cca_noise2 = CCA(n_components=2)\n",
    "cca_noise2.fit(X, y_noise)\n",
    "cca_noise2_X = cca_noise2.transform(X)\n",
    "reg_noise2 = LinearRegression().fit(cca_noise2_X, y_noise)\n",
    "mse_noise2 = np.mean((reg_noise2.predict(cca_noise2_X) - y_noise)**2) ** 0.5\n",
    "mse_noise2\n",
    "# End solution #"
   ]
  },
  {
   "cell_type": "code",
   "execution_count": 114,
   "metadata": {},
   "outputs": [
    {
     "name": "stderr",
     "output_type": "stream",
     "text": [
      "/Users/Grace/.pyenv/versions/3.7.7/lib/python3.7/site-packages/sklearn/cross_decomposition/_pls.py:323: UserWarning: Y residual constant at iteration 1\n",
      "  warnings.warn('Y residual constant at iteration %s' % k)\n"
     ]
    },
    {
     "data": {
      "text/plain": [
       "2699678.9723142097"
      ]
     },
     "execution_count": 114,
     "metadata": {},
     "output_type": "execute_result"
    }
   ],
   "source": [
    "# CCA with 5 components #\n",
    "# YOUR CODE HERE #\n",
    "\n",
    "# Solution #\n",
    "cca_noise5 = CCA(n_components=2)\n",
    "cca_noise5.fit(X, y_noise)\n",
    "cca_noise5_X = cca_noise5.transform(X)\n",
    "reg_noise5 = LinearRegression().fit(cca_noise5_X, y_noise)\n",
    "mse_noise5 = np.mean((reg_noise5.predict(cca_noise5_X) - y_noise)**2) ** 0.5\n",
    "mse_noise5\n",
    "# End solution #"
   ]
  },
  {
   "cell_type": "code",
   "execution_count": 115,
   "metadata": {},
   "outputs": [
    {
     "name": "stderr",
     "output_type": "stream",
     "text": [
      "/Users/Grace/.pyenv/versions/3.7.7/lib/python3.7/site-packages/sklearn/cross_decomposition/_pls.py:323: UserWarning: Y residual constant at iteration 1\n",
      "  warnings.warn('Y residual constant at iteration %s' % k)\n"
     ]
    },
    {
     "data": {
      "text/plain": [
       "2699678.9723142097"
      ]
     },
     "execution_count": 115,
     "metadata": {},
     "output_type": "execute_result"
    }
   ],
   "source": [
    "# CCA with 8 components #\n",
    "# YOUR CODE HERE #\n",
    "\n",
    "# Solution #\n",
    "cca_noise8 = CCA(n_components=2)\n",
    "cca_noise8.fit(X, y_noise)\n",
    "cca_noise8_X = cca_noise8.transform(X)\n",
    "reg_noise8 = LinearRegression().fit(cca_noise8_X, y_noise)\n",
    "mse_noise8 = np.mean((reg_noise2.predict(cca_noise8_X) - y_noise)**2) ** 0.5\n",
    "mse_noise8\n",
    "# End solution #"
   ]
  },
  {
   "cell_type": "markdown",
   "metadata": {},
   "source": [
    "Fill out the cell below with your observations:"
   ]
  },
  {
   "cell_type": "code",
   "execution_count": 147,
   "metadata": {},
   "outputs": [],
   "source": [
    "# Fill out this cell with observations #"
   ]
  },
  {
   "cell_type": "markdown",
   "metadata": {},
   "source": [
    "## Part 4: Dirty Data"
   ]
  },
  {
   "cell_type": "markdown",
   "metadata": {},
   "source": [
    "You will now run the following cell in order to generate a \"dirty\" version of the above dataset. The function <code>dirty_data</code> is a black box function from the utils.py file that will alter the dataset in ways such as increasing the columns, adding strings, stringifying numbers, adding null values, etc. "
   ]
  },
  {
   "cell_type": "code",
   "execution_count": 126,
   "metadata": {},
   "outputs": [],
   "source": [
    "dirtied_data = utils.dirty_data(cleaned)"
   ]
  },
  {
   "cell_type": "markdown",
   "metadata": {},
   "source": [
    "### 4a. Cleaning the dirty data"
   ]
  },
  {
   "cell_type": "markdown",
   "metadata": {},
   "source": [
    "You will now need to clean this dirtied dataset. Fill out the cell below to clean the dataset so that it can be used for PCA and CCA. Hint: some useful methods can include using <code>dropna</code> and/or <code>astype</code>, fitering out rows with 0 or unknown salaries, and making sure all values are numbers, and not strings"
   ]
  },
  {
   "cell_type": "code",
   "execution_count": 133,
   "metadata": {},
   "outputs": [],
   "source": [
    "# Solution #\n",
    "dirtied_data = dirtied_data.dropna()\n",
    "cols = dirtied_data.columns\n",
    "for i in cols:\n",
    "    dirtied_data[i] = dirtied_data[i].astype(float)\n",
    "# End solution #"
   ]
  },
  {
   "cell_type": "markdown",
   "metadata": {},
   "source": [
    "In order to make predictions, you will need to find the column that contains the salaries for the dirty data. Run the cell below to figure out which column name you will need to use. Then split the dirty data into a feature and prediction column."
   ]
  },
  {
   "cell_type": "code",
   "execution_count": 134,
   "metadata": {},
   "outputs": [
    {
     "data": {
      "text/plain": [
       "Index(['CRBI', 'H', 'E', ''C1'', 'RF', 'a', 'CF', 'hr', ''C'', ''G.X'', 'gs',\n",
       "       '23', ''ibb'', '1S', ''years'', ''3B'', ''g.y'', 'OF', 'so', '12',\n",
       "       'innouts', ''sf'', 'OC', 'chr', 'sh', ''sb'', '3S', 'bb', '1B', ''SS'',\n",
       "       '2B', 'gidp', 'O1', 'r', ''cbb'', '13', 'po', 'LF', ''x3b'', ''O2'',\n",
       "       ''ab'', '2S', 'CS', 'rbi', 'X2B', 'hbp', 'CR', 'O3', 'cab', ''CH'',\n",
       "       'salary', 'DP'],\n",
       "      dtype='object')"
      ]
     },
     "execution_count": 134,
     "metadata": {},
     "output_type": "execute_result"
    }
   ],
   "source": [
    "dirtied_data.columns"
   ]
  },
  {
   "cell_type": "code",
   "execution_count": 137,
   "metadata": {},
   "outputs": [],
   "source": [
    "salary = 'salary' # changes every time dirty_data is run\n",
    "X_dirty = dirtied_data.drop(axis=1, columns=[salary])\n",
    "y_dirty = dirtied_data[salary]"
   ]
  },
  {
   "cell_type": "markdown",
   "metadata": {},
   "source": [
    "### 4b. Dirty PCA"
   ]
  },
  {
   "cell_type": "markdown",
   "metadata": {},
   "source": [
    "Now run PCA on your dirty dataset, using 2, 5, and 8 components and find the MSE for your predictions. How does the performance compare to PCA of the original cleaned dataset?"
   ]
  },
  {
   "cell_type": "code",
   "execution_count": 138,
   "metadata": {},
   "outputs": [
    {
     "data": {
      "text/plain": [
       "3477300.1099923444"
      ]
     },
     "execution_count": 138,
     "metadata": {},
     "output_type": "execute_result"
    }
   ],
   "source": [
    "# PCA with 2 components #\n",
    "# YOUR CODE HERE #\n",
    "\n",
    "# Solution #\n",
    "pca_dirty2 = PCA(n_components=2)\n",
    "pca_dirty2.fit(X_dirty, y_dirty)\n",
    "pca_dirty2_X = pca_dirty2.transform(X_dirty)\n",
    "reg_dirty2 = LinearRegression().fit(pca_dirty2_X, y_dirty)\n",
    "mse_dirty2 = np.mean((reg_dirty2.predict(pca_dirty2_X) - y_dirty)**2) ** 0.5\n",
    "mse_dirty2\n",
    "# End solution #"
   ]
  },
  {
   "cell_type": "code",
   "execution_count": 139,
   "metadata": {},
   "outputs": [
    {
     "data": {
      "text/plain": [
       "3477300.1099923444"
      ]
     },
     "execution_count": 139,
     "metadata": {},
     "output_type": "execute_result"
    }
   ],
   "source": [
    "# PCA with 5 components #\n",
    "# YOUR CODE HERE #\n",
    "\n",
    "# Solution #\n",
    "pca_dirty5 = PCA(n_components=2)\n",
    "pca_dirty5.fit(X_dirty, y_dirty)\n",
    "pca_dirty5_X = pca_dirty5.transform(X_dirty)\n",
    "reg_dirty5 = LinearRegression().fit(pca_dirty5_X, y_dirty)\n",
    "mse_dirty5 = np.mean((reg_dirty5.predict(pca_dirty5_X) - y_dirty)**2) ** 0.5\n",
    "mse_dirty5\n",
    "# End solution #"
   ]
  },
  {
   "cell_type": "code",
   "execution_count": 140,
   "metadata": {},
   "outputs": [
    {
     "data": {
      "text/plain": [
       "3477300.1099923444"
      ]
     },
     "execution_count": 140,
     "metadata": {},
     "output_type": "execute_result"
    }
   ],
   "source": [
    "# PCA with 8 components #\n",
    "# YOUR CODE HERE #\n",
    "\n",
    "# Solution #\n",
    "pca_dirty8 = PCA(n_components=2)\n",
    "pca_dirty8.fit(X_dirty, y_dirty)\n",
    "pca_dirty8_X = pca_dirty8.transform(X_dirty)\n",
    "reg_dirty8 = LinearRegression().fit(pca_dirty8_X, y_dirty)\n",
    "mse_dirty8 = np.mean((reg_dirty8.predict(pca_dirty8_X) - y_dirty)**2) ** 0.5\n",
    "mse_dirty8\n",
    "# End solution #"
   ]
  },
  {
   "cell_type": "markdown",
   "metadata": {},
   "source": [
    "Fill out the cell below with your observations:"
   ]
  },
  {
   "cell_type": "code",
   "execution_count": 148,
   "metadata": {},
   "outputs": [],
   "source": [
    "# Fill out this cell with observations #"
   ]
  },
  {
   "cell_type": "markdown",
   "metadata": {},
   "source": [
    "### 4c. Dirty CCA"
   ]
  },
  {
   "cell_type": "markdown",
   "metadata": {},
   "source": [
    "Now run CCA on your dirty dataset, using 2, 5, and 8 components and find the MSE for your predictions. How does the performance compare to CCA of the original cleaned dataset?"
   ]
  },
  {
   "cell_type": "code",
   "execution_count": 142,
   "metadata": {},
   "outputs": [
    {
     "name": "stderr",
     "output_type": "stream",
     "text": [
      "/Users/Grace/.pyenv/versions/3.7.7/lib/python3.7/site-packages/sklearn/cross_decomposition/_pls.py:323: UserWarning: Y residual constant at iteration 1\n",
      "  warnings.warn('Y residual constant at iteration %s' % k)\n"
     ]
    },
    {
     "data": {
      "text/plain": [
       "2675770.764435969"
      ]
     },
     "execution_count": 142,
     "metadata": {},
     "output_type": "execute_result"
    }
   ],
   "source": [
    "# CCA with 2 components #\n",
    "# YOUR CODE HERE #\n",
    "\n",
    "# Solution #\n",
    "cca_dirty2 = CCA(n_components=2)\n",
    "cca_dirty2.fit(X_dirty, y_dirty)\n",
    "cca_dirty2_X = cca_dirty2.transform(X_dirty)\n",
    "reg_dirty2 = LinearRegression().fit(cca_dirty2_X, y_dirty)\n",
    "mse_dirty2 = np.mean((reg_dirty2.predict(cca_dirty2_X) - y_dirty)**2) ** 0.5\n",
    "mse_dirty2\n",
    "# End solution #"
   ]
  },
  {
   "cell_type": "code",
   "execution_count": 144,
   "metadata": {},
   "outputs": [
    {
     "name": "stderr",
     "output_type": "stream",
     "text": [
      "/Users/Grace/.pyenv/versions/3.7.7/lib/python3.7/site-packages/sklearn/cross_decomposition/_pls.py:323: UserWarning: Y residual constant at iteration 1\n",
      "  warnings.warn('Y residual constant at iteration %s' % k)\n"
     ]
    },
    {
     "data": {
      "text/plain": [
       "2675770.764435969"
      ]
     },
     "execution_count": 144,
     "metadata": {},
     "output_type": "execute_result"
    }
   ],
   "source": [
    "# CCA with 5 components #\n",
    "# YOUR CODE HERE #\n",
    "\n",
    "# Solution #\n",
    "cca_dirty5 = CCA(n_components=5)\n",
    "cca_dirty5.fit(X_dirty, y_dirty)\n",
    "cca_dirty5_X = cca_dirty5.transform(X_dirty)\n",
    "reg_dirty5 = LinearRegression().fit(cca_dirty5_X, y_dirty)\n",
    "mse_dirty5 = np.mean((reg_dirty5.predict(cca_dirty5_X) - y_dirty)**2) ** 0.5\n",
    "mse_dirty5\n",
    "# End solution #"
   ]
  },
  {
   "cell_type": "code",
   "execution_count": 145,
   "metadata": {},
   "outputs": [
    {
     "name": "stderr",
     "output_type": "stream",
     "text": [
      "/Users/Grace/.pyenv/versions/3.7.7/lib/python3.7/site-packages/sklearn/cross_decomposition/_pls.py:323: UserWarning: Y residual constant at iteration 1\n",
      "  warnings.warn('Y residual constant at iteration %s' % k)\n"
     ]
    },
    {
     "data": {
      "text/plain": [
       "2675770.764435969"
      ]
     },
     "execution_count": 145,
     "metadata": {},
     "output_type": "execute_result"
    }
   ],
   "source": [
    "# CCA with 8 components #\n",
    "# YOUR CODE HERE #\n",
    "\n",
    "# Solution #\n",
    "cca_dirty8 = CCA(n_components=2)\n",
    "cca_dirty8.fit(X_dirty, y_dirty)\n",
    "cca_dirty8_X = cca_dirty8.transform(X_dirty)\n",
    "reg_dirty8 = LinearRegression().fit(cca_dirty8_X, y_dirty)\n",
    "mse_dirty8 = np.mean((reg_dirty8.predict(cca_dirty8_X) - y_dirty)**2) ** 0.5\n",
    "mse_dirty8\n",
    "# End solution #"
   ]
  },
  {
   "cell_type": "markdown",
   "metadata": {},
   "source": [
    "Fill out the cell below with your observations:"
   ]
  },
  {
   "cell_type": "code",
   "execution_count": 149,
   "metadata": {},
   "outputs": [],
   "source": [
    "# Fill out this cell with observations #"
   ]
  },
  {
   "cell_type": "code",
   "execution_count": null,
   "metadata": {},
   "outputs": [],
   "source": []
  }
 ],
 "metadata": {
  "kernelspec": {
   "display_name": "Python 3",
   "language": "python",
   "name": "python3"
  },
  "language_info": {
   "codemirror_mode": {
    "name": "ipython",
    "version": 3
   },
   "file_extension": ".py",
   "mimetype": "text/x-python",
   "name": "python",
   "nbconvert_exporter": "python",
   "pygments_lexer": "ipython3",
   "version": "3.7.7"
  }
 },
 "nbformat": 4,
 "nbformat_minor": 4
}
